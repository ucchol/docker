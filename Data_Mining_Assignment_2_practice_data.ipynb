{
  "nbformat": 4,
  "nbformat_minor": 0,
  "metadata": {
    "colab": {
      "provenance": [],
      "authorship_tag": "ABX9TyMTb37vpaS7QreFYKh+aWy2",
      "include_colab_link": true
    },
    "kernelspec": {
      "name": "python3",
      "display_name": "Python 3"
    },
    "language_info": {
      "name": "python"
    }
  },
  "cells": [
    {
      "cell_type": "markdown",
      "metadata": {
        "id": "view-in-github",
        "colab_type": "text"
      },
      "source": [
        "<a href=\"https://colab.research.google.com/github/ucchol/docker/blob/Data-Mining/Data_Mining_Assignment_2_practice_data.ipynb\" target=\"_parent\"><img src=\"https://colab.research.google.com/assets/colab-badge.svg\" alt=\"Open In Colab\"/></a>"
      ]
    },
    {
      "cell_type": "code",
      "execution_count": 1,
      "metadata": {
        "id": "ASxFkVFSW9mM"
      },
      "outputs": [],
      "source": [
        "import numpy as np\n",
        "import pandas as pd\n",
        "from sklearn.cluster import KMeans\n",
        "from sklearn.metrics import silhouette_score \n",
        "from sklearn.metrics import silhouette_samples \n",
        "from sklearn.cluster import AgglomerativeClustering\n",
        "from sklearn.cluster import DBSCAN"
      ]
    },
    {
      "cell_type": "code",
      "source": [
        "from google.colab import files\n",
        "uploaded = files.upload()"
      ],
      "metadata": {
        "colab": {
          "base_uri": "https://localhost:8080/",
          "height": 108
        },
        "id": "36CjLZJoXFrJ",
        "outputId": "25287d33-b2e2-442f-a792-b37cd9ead973"
      },
      "execution_count": 2,
      "outputs": [
        {
          "output_type": "display_data",
          "data": {
            "text/plain": [
              "<IPython.core.display.HTML object>"
            ],
            "text/html": [
              "\n",
              "     <input type=\"file\" id=\"files-fe4e28b6-b1de-4231-a84a-f6701197dd31\" name=\"files[]\" multiple disabled\n",
              "        style=\"border:none\" />\n",
              "     <output id=\"result-fe4e28b6-b1de-4231-a84a-f6701197dd31\">\n",
              "      Upload widget is only available when the cell has been executed in the\n",
              "      current browser session. Please rerun this cell to enable.\n",
              "      </output>\n",
              "      <script>// Copyright 2017 Google LLC\n",
              "//\n",
              "// Licensed under the Apache License, Version 2.0 (the \"License\");\n",
              "// you may not use this file except in compliance with the License.\n",
              "// You may obtain a copy of the License at\n",
              "//\n",
              "//      http://www.apache.org/licenses/LICENSE-2.0\n",
              "//\n",
              "// Unless required by applicable law or agreed to in writing, software\n",
              "// distributed under the License is distributed on an \"AS IS\" BASIS,\n",
              "// WITHOUT WARRANTIES OR CONDITIONS OF ANY KIND, either express or implied.\n",
              "// See the License for the specific language governing permissions and\n",
              "// limitations under the License.\n",
              "\n",
              "/**\n",
              " * @fileoverview Helpers for google.colab Python module.\n",
              " */\n",
              "(function(scope) {\n",
              "function span(text, styleAttributes = {}) {\n",
              "  const element = document.createElement('span');\n",
              "  element.textContent = text;\n",
              "  for (const key of Object.keys(styleAttributes)) {\n",
              "    element.style[key] = styleAttributes[key];\n",
              "  }\n",
              "  return element;\n",
              "}\n",
              "\n",
              "// Max number of bytes which will be uploaded at a time.\n",
              "const MAX_PAYLOAD_SIZE = 100 * 1024;\n",
              "\n",
              "function _uploadFiles(inputId, outputId) {\n",
              "  const steps = uploadFilesStep(inputId, outputId);\n",
              "  const outputElement = document.getElementById(outputId);\n",
              "  // Cache steps on the outputElement to make it available for the next call\n",
              "  // to uploadFilesContinue from Python.\n",
              "  outputElement.steps = steps;\n",
              "\n",
              "  return _uploadFilesContinue(outputId);\n",
              "}\n",
              "\n",
              "// This is roughly an async generator (not supported in the browser yet),\n",
              "// where there are multiple asynchronous steps and the Python side is going\n",
              "// to poll for completion of each step.\n",
              "// This uses a Promise to block the python side on completion of each step,\n",
              "// then passes the result of the previous step as the input to the next step.\n",
              "function _uploadFilesContinue(outputId) {\n",
              "  const outputElement = document.getElementById(outputId);\n",
              "  const steps = outputElement.steps;\n",
              "\n",
              "  const next = steps.next(outputElement.lastPromiseValue);\n",
              "  return Promise.resolve(next.value.promise).then((value) => {\n",
              "    // Cache the last promise value to make it available to the next\n",
              "    // step of the generator.\n",
              "    outputElement.lastPromiseValue = value;\n",
              "    return next.value.response;\n",
              "  });\n",
              "}\n",
              "\n",
              "/**\n",
              " * Generator function which is called between each async step of the upload\n",
              " * process.\n",
              " * @param {string} inputId Element ID of the input file picker element.\n",
              " * @param {string} outputId Element ID of the output display.\n",
              " * @return {!Iterable<!Object>} Iterable of next steps.\n",
              " */\n",
              "function* uploadFilesStep(inputId, outputId) {\n",
              "  const inputElement = document.getElementById(inputId);\n",
              "  inputElement.disabled = false;\n",
              "\n",
              "  const outputElement = document.getElementById(outputId);\n",
              "  outputElement.innerHTML = '';\n",
              "\n",
              "  const pickedPromise = new Promise((resolve) => {\n",
              "    inputElement.addEventListener('change', (e) => {\n",
              "      resolve(e.target.files);\n",
              "    });\n",
              "  });\n",
              "\n",
              "  const cancel = document.createElement('button');\n",
              "  inputElement.parentElement.appendChild(cancel);\n",
              "  cancel.textContent = 'Cancel upload';\n",
              "  const cancelPromise = new Promise((resolve) => {\n",
              "    cancel.onclick = () => {\n",
              "      resolve(null);\n",
              "    };\n",
              "  });\n",
              "\n",
              "  // Wait for the user to pick the files.\n",
              "  const files = yield {\n",
              "    promise: Promise.race([pickedPromise, cancelPromise]),\n",
              "    response: {\n",
              "      action: 'starting',\n",
              "    }\n",
              "  };\n",
              "\n",
              "  cancel.remove();\n",
              "\n",
              "  // Disable the input element since further picks are not allowed.\n",
              "  inputElement.disabled = true;\n",
              "\n",
              "  if (!files) {\n",
              "    return {\n",
              "      response: {\n",
              "        action: 'complete',\n",
              "      }\n",
              "    };\n",
              "  }\n",
              "\n",
              "  for (const file of files) {\n",
              "    const li = document.createElement('li');\n",
              "    li.append(span(file.name, {fontWeight: 'bold'}));\n",
              "    li.append(span(\n",
              "        `(${file.type || 'n/a'}) - ${file.size} bytes, ` +\n",
              "        `last modified: ${\n",
              "            file.lastModifiedDate ? file.lastModifiedDate.toLocaleDateString() :\n",
              "                                    'n/a'} - `));\n",
              "    const percent = span('0% done');\n",
              "    li.appendChild(percent);\n",
              "\n",
              "    outputElement.appendChild(li);\n",
              "\n",
              "    const fileDataPromise = new Promise((resolve) => {\n",
              "      const reader = new FileReader();\n",
              "      reader.onload = (e) => {\n",
              "        resolve(e.target.result);\n",
              "      };\n",
              "      reader.readAsArrayBuffer(file);\n",
              "    });\n",
              "    // Wait for the data to be ready.\n",
              "    let fileData = yield {\n",
              "      promise: fileDataPromise,\n",
              "      response: {\n",
              "        action: 'continue',\n",
              "      }\n",
              "    };\n",
              "\n",
              "    // Use a chunked sending to avoid message size limits. See b/62115660.\n",
              "    let position = 0;\n",
              "    do {\n",
              "      const length = Math.min(fileData.byteLength - position, MAX_PAYLOAD_SIZE);\n",
              "      const chunk = new Uint8Array(fileData, position, length);\n",
              "      position += length;\n",
              "\n",
              "      const base64 = btoa(String.fromCharCode.apply(null, chunk));\n",
              "      yield {\n",
              "        response: {\n",
              "          action: 'append',\n",
              "          file: file.name,\n",
              "          data: base64,\n",
              "        },\n",
              "      };\n",
              "\n",
              "      let percentDone = fileData.byteLength === 0 ?\n",
              "          100 :\n",
              "          Math.round((position / fileData.byteLength) * 100);\n",
              "      percent.textContent = `${percentDone}% done`;\n",
              "\n",
              "    } while (position < fileData.byteLength);\n",
              "  }\n",
              "\n",
              "  // All done.\n",
              "  yield {\n",
              "    response: {\n",
              "      action: 'complete',\n",
              "    }\n",
              "  };\n",
              "}\n",
              "\n",
              "scope.google = scope.google || {};\n",
              "scope.google.colab = scope.google.colab || {};\n",
              "scope.google.colab._files = {\n",
              "  _uploadFiles,\n",
              "  _uploadFilesContinue,\n",
              "};\n",
              "})(self);\n",
              "</script> "
            ]
          },
          "metadata": {}
        },
        {
          "output_type": "stream",
          "name": "stdout",
          "text": [
            "Saving practicedata.csv to practicedata.csv\n",
            "Saving practicegoldset.csv to practicegoldset.csv\n"
          ]
        }
      ]
    },
    {
      "cell_type": "code",
      "source": [
        "prac_data = pd.read_csv('practicedata.csv')\n",
        "prac_goldset = pd.read_csv('practicegoldset.csv', header=None)"
      ],
      "metadata": {
        "id": "RzeuVpJIXLHX"
      },
      "execution_count": 3,
      "outputs": []
    },
    {
      "cell_type": "code",
      "source": [
        "prac_data.shape"
      ],
      "metadata": {
        "colab": {
          "base_uri": "https://localhost:8080/"
        },
        "id": "EY1rl_o7XORg",
        "outputId": "0d43050d-41ef-4d3b-fcb2-596f12f4028e"
      },
      "execution_count": 6,
      "outputs": [
        {
          "output_type": "execute_result",
          "data": {
            "text/plain": [
              "(56, 5)"
            ]
          },
          "metadata": {},
          "execution_count": 6
        }
      ]
    },
    {
      "cell_type": "code",
      "source": [
        "prac_goldset.shape"
      ],
      "metadata": {
        "colab": {
          "base_uri": "https://localhost:8080/"
        },
        "id": "FPt_9ePfXTqD",
        "outputId": "ec6f483a-8677-47a7-f42f-0c4857eab5fc"
      },
      "execution_count": 7,
      "outputs": [
        {
          "output_type": "execute_result",
          "data": {
            "text/plain": [
              "(56, 1)"
            ]
          },
          "metadata": {},
          "execution_count": 7
        }
      ]
    },
    {
      "cell_type": "code",
      "source": [
        "prac_data.columns"
      ],
      "metadata": {
        "colab": {
          "base_uri": "https://localhost:8080/"
        },
        "id": "2TgJk97IXWTs",
        "outputId": "9dceb10a-c640-4ecc-a8e7-33d3f724de68"
      },
      "execution_count": 8,
      "outputs": [
        {
          "output_type": "execute_result",
          "data": {
            "text/plain": [
              "Index(['f1', 'f2', 'f3', 'f4', 'f5'], dtype='object')"
            ]
          },
          "metadata": {},
          "execution_count": 8
        }
      ]
    },
    {
      "cell_type": "code",
      "source": [
        "data = prac_data.values"
      ],
      "metadata": {
        "id": "ppVs5reFXYwu"
      },
      "execution_count": 9,
      "outputs": []
    },
    {
      "cell_type": "code",
      "source": [
        "#goldset\n",
        "\n",
        "labels = prac_goldset.values\n",
        "gld_labels = labels[:, 0] \n",
        "print(gld_labels.shape)\n",
        "print(gld_labels)"
      ],
      "metadata": {
        "colab": {
          "base_uri": "https://localhost:8080/"
        },
        "id": "GC0izEbVXb45",
        "outputId": "aaa0262f-ff27-4270-d433-5a62c1a754a4"
      },
      "execution_count": 10,
      "outputs": [
        {
          "output_type": "stream",
          "name": "stdout",
          "text": [
            "(56,)\n",
            "[1 2 2 1 3 1 1 3 2 2 2 2 2 2 3 1 1 1 3 3 3 1 1 2 2 1 2 3 2 3 2 1 1 1 1 2 3\n",
            " 2 3 3 3 1 1 1 3 2 3 1 2 2 2 3 2 1 1 2]\n"
          ]
        }
      ]
    },
    {
      "cell_type": "markdown",
      "source": [
        "# K- Means Clustering"
      ],
      "metadata": {
        "id": "luUo4OK8XkpQ"
      }
    },
    {
      "cell_type": "code",
      "source": [
        "k=3\n",
        "km = KMeans(n_clusters=k, verbose=0).fit(data)"
      ],
      "metadata": {
        "colab": {
          "base_uri": "https://localhost:8080/"
        },
        "id": "pHowZfieXneC",
        "outputId": "c146f648-5d12-46b4-94ab-7b1f8c5e3fbd"
      },
      "execution_count": 16,
      "outputs": [
        {
          "output_type": "stream",
          "name": "stderr",
          "text": [
            "/usr/local/lib/python3.8/dist-packages/sklearn/cluster/_kmeans.py:870: FutureWarning: The default value of `n_init` will change from 10 to 'auto' in 1.4. Set the value of `n_init` explicitly to suppress the warning\n",
            "  warnings.warn(\n"
          ]
        }
      ]
    },
    {
      "cell_type": "code",
      "source": [
        "print(\"The clustering Assignments are: \")\n",
        "print(km.labels_)"
      ],
      "metadata": {
        "colab": {
          "base_uri": "https://localhost:8080/"
        },
        "id": "Ye0Jzi9bXyfh",
        "outputId": "c0e7d8b4-9e07-4631-f4cb-905c834fa9f1"
      },
      "execution_count": 17,
      "outputs": [
        {
          "output_type": "stream",
          "name": "stdout",
          "text": [
            "The clustering Assignments are: \n",
            "[2 0 2 2 1 2 2 1 0 0 0 0 0 0 1 2 2 2 1 1 1 2 2 0 0 2 0 1 0 1 0 2 2 2 2 0 1\n",
            " 0 1 1 1 2 0 2 1 0 1 2 0 0 0 1 0 1 2 0]\n"
          ]
        }
      ]
    },
    {
      "cell_type": "markdown",
      "source": [
        "With k= 3, using k-means clustering:\n",
        "\n",
        "The number of rows/objects in the clusters is:\n",
        "\n",
        "Cluster 0 has 21 rows (that is, the size of Cluster 0 is 21)\n",
        "\n",
        "Cluster 1 has 16 rows (that is, the size of Cluster 1 is 16)\n",
        "\n",
        "Cluster 2 has 19 rows (that is, the size of Cluster 2 is 19)"
      ],
      "metadata": {
        "id": "J9bLkJTNX521"
      }
    },
    {
      "cell_type": "code",
      "source": [
        "unique, counts = np.unique(km.labels_, return_counts=True)\n",
        "print(np.asarray((unique, counts)).T)"
      ],
      "metadata": {
        "colab": {
          "base_uri": "https://localhost:8080/"
        },
        "id": "tatffA72XzuO",
        "outputId": "53c4b5c2-7f50-40aa-b0b9-1f9e63f77a2e"
      },
      "execution_count": 18,
      "outputs": [
        {
          "output_type": "stream",
          "name": "stdout",
          "text": [
            "[[ 0 21]\n",
            " [ 1 16]\n",
            " [ 2 19]]\n"
          ]
        }
      ]
    },
    {
      "cell_type": "markdown",
      "source": [
        "The sum of squared distances of samples/rows to their closest cluster center (inertia_) is 43.58434029761278"
      ],
      "metadata": {
        "id": "ooyZwnDUYEuc"
      }
    },
    {
      "cell_type": "code",
      "source": [
        "print(\"SSD (sum of squared distance): \", km.inertia_)"
      ],
      "metadata": {
        "colab": {
          "base_uri": "https://localhost:8080/"
        },
        "id": "_Kr63V0mYGR7",
        "outputId": "6df8d335-0cc2-45e1-a5c1-817ee4e253a4"
      },
      "execution_count": 19,
      "outputs": [
        {
          "output_type": "stream",
          "name": "stdout",
          "text": [
            "SSD (sum of squared distance):  43.58434029761279\n"
          ]
        }
      ]
    },
    {
      "cell_type": "markdown",
      "source": [
        "**Rand index is 0.9285714285714286.**\n"
      ],
      "metadata": {
        "id": "jAA3JQ7kYSOz"
      }
    },
    {
      "cell_type": "code",
      "source": [
        "def rand_index(result, gf):\n",
        "  print(len(result))\n",
        "  print(len(gf))\n",
        "  count_matches = 0.0\n",
        "  count_all = 0.0\n",
        "  for i in range(len(result)):\n",
        "    for j in range(i+1, len(gf)):\n",
        "      if (result[i] == result[j] and gf[i] == gf[j]) or (result[i] != result[j] and gf[i] != gf[j]):\n",
        "        count_matches += 1\n",
        "      count_all += 1\n",
        "  return count_matches / count_all\n",
        "\n",
        "goldLabels = gld_labels\n",
        "kLabels = km.labels_\n",
        "print(\"Rand Index: \", rand_index(kLabels, goldLabels))"
      ],
      "metadata": {
        "colab": {
          "base_uri": "https://localhost:8080/"
        },
        "id": "b1J3bR5qYMdJ",
        "outputId": "fc79f283-a94f-49b6-fe69-e00b63da8fe5"
      },
      "execution_count": 21,
      "outputs": [
        {
          "output_type": "stream",
          "name": "stdout",
          "text": [
            "56\n",
            "56\n",
            "Rand Index:  0.9285714285714286\n"
          ]
        }
      ]
    },
    {
      "cell_type": "markdown",
      "source": [
        "**Purity is 0.9464285714285714.**"
      ],
      "metadata": {
        "id": "sjNs_T01Yg5P"
      }
    },
    {
      "cell_type": "code",
      "source": [
        "def purity(result, gs):   #result and gs are labels\n",
        "  cLabel= list(set(result)) # list will have the cluster labels\n",
        "  gLabel= list(set(gs)) # list will have the ground_cluster truth labels , length of t from our equation\n",
        "  n= len(result)\n",
        "  k= len(cLabel)\n",
        "  t= len(gLabel)\n",
        "\n",
        "  #constructing dictionaries for cLable and glabel\n",
        "  cLabelsD= dict(zip(cLabel, range(k))) #for clustering\n",
        "  gLabelsD= dict(zip(gLabel, range(t))) #for ground truth\n",
        "\n",
        "  clusterGroundDistr= [[0] * t for i in range(k)] #this will create a 2D array of t many columns and k many rows\n",
        "\n",
        "  for i in range(n):  #number of elements we have is n\n",
        "    clusterIndex = cLabelsD[result[i]]\n",
        "    groundIndex = gLabelsD[gs[i]]\n",
        "    clusterGroundDistr[clusterIndex][groundIndex] += 1\n",
        "\n",
        "  p=0 # p is purity\n",
        "  for i in range(k):\n",
        "    p += max(clusterGroundDistr[i])\n",
        "\n",
        "  return p/n\n",
        "\n",
        "print(purity(gld_labels, km.labels_ ))"
      ],
      "metadata": {
        "colab": {
          "base_uri": "https://localhost:8080/"
        },
        "id": "HIXmVcDEYgk8",
        "outputId": "db459311-7f88-4ace-e552-4de73a0af4cb"
      },
      "execution_count": 22,
      "outputs": [
        {
          "output_type": "stream",
          "name": "stdout",
          "text": [
            "0.9464285714285714\n"
          ]
        }
      ]
    },
    {
      "cell_type": "code",
      "source": [
        "#The average silhouette coefficient is 0.7870880067126674. \n",
        "\n",
        "print(silhouette_score(data, km.labels_))"
      ],
      "metadata": {
        "colab": {
          "base_uri": "https://localhost:8080/"
        },
        "id": "ygqELW0DYqMr",
        "outputId": "9165d6aa-bc72-4cdc-b0bf-355814877e12"
      },
      "execution_count": 23,
      "outputs": [
        {
          "output_type": "stream",
          "name": "stdout",
          "text": [
            "0.7870880067126678\n"
          ]
        }
      ]
    },
    {
      "cell_type": "markdown",
      "source": [
        "# Agglomerative clustering"
      ],
      "metadata": {
        "id": "cjTNph5mYvpt"
      }
    },
    {
      "cell_type": "code",
      "source": [
        "agg = AgglomerativeClustering(n_clusters=3).fit(data)\n",
        "agg.labels_"
      ],
      "metadata": {
        "colab": {
          "base_uri": "https://localhost:8080/"
        },
        "id": "CJRR_ZfjYwtE",
        "outputId": "db6cd04e-0f4a-43c6-877a-ba978eb717a6"
      },
      "execution_count": 24,
      "outputs": [
        {
          "output_type": "execute_result",
          "data": {
            "text/plain": [
              "array([1, 0, 1, 1, 2, 1, 1, 2, 0, 0, 0, 0, 0, 0, 2, 1, 1, 1, 2, 2, 2, 1,\n",
              "       1, 0, 0, 1, 0, 2, 0, 2, 0, 1, 1, 1, 1, 0, 2, 0, 2, 2, 2, 1, 0, 1,\n",
              "       2, 0, 2, 1, 0, 0, 0, 2, 0, 2, 1, 0])"
            ]
          },
          "metadata": {},
          "execution_count": 24
        }
      ]
    },
    {
      "cell_type": "code",
      "source": [
        "#Rand index using agglomerative clustering with three clusters is 0.9285714285714286.\n",
        "\n",
        "print(rand_index(gld_labels, agg.labels_))"
      ],
      "metadata": {
        "colab": {
          "base_uri": "https://localhost:8080/"
        },
        "id": "15glX34CY1gm",
        "outputId": "c5f74c66-a92a-433a-859b-23c8c5b268ab"
      },
      "execution_count": 26,
      "outputs": [
        {
          "output_type": "stream",
          "name": "stdout",
          "text": [
            "56\n",
            "56\n",
            "0.9285714285714286\n"
          ]
        }
      ]
    },
    {
      "cell_type": "code",
      "source": [
        "#Purity using Agglomerative clustering with three clusters is 0.9464285714285714.\n",
        "\n",
        "print(purity(gld_labels, agg.labels_ ))"
      ],
      "metadata": {
        "colab": {
          "base_uri": "https://localhost:8080/"
        },
        "id": "EZ-6mi0tY9tv",
        "outputId": "e5646722-504e-4d2a-9911-2cac7dc21cc4"
      },
      "execution_count": 27,
      "outputs": [
        {
          "output_type": "stream",
          "name": "stdout",
          "text": [
            "0.9464285714285714\n"
          ]
        }
      ]
    },
    {
      "cell_type": "markdown",
      "source": [
        "# DBSCAN"
      ],
      "metadata": {
        "id": "JPX0vp4sZCH7"
      }
    },
    {
      "cell_type": "code",
      "source": [
        "dbres = DBSCAN(eps=1.0, min_samples=3).fit(data)\n",
        "print(dbres.labels_)"
      ],
      "metadata": {
        "colab": {
          "base_uri": "https://localhost:8080/"
        },
        "id": "C1Uf7-fBZD0X",
        "outputId": "c7938206-5bc7-42dc-d670-3c572b4638a7"
      },
      "execution_count": 28,
      "outputs": [
        {
          "output_type": "stream",
          "name": "stdout",
          "text": [
            "[ 0  5  0  0  1  0  0  1  2  3 -1  4  5  2  1  0  0  0  1  1  1  0  0  3\n",
            "  4  0  2  1  3  1 -1  0  0  0  0  4  1  2  1  1  1  0  5  0  1  2  1  0\n",
            "  3  2  5  1  2  1  0  5]\n"
          ]
        }
      ]
    },
    {
      "cell_type": "code",
      "source": [
        "dbres = DBSCAN(eps=1.0, min_samples=5).fit(data)\n",
        "print(dbres.labels_)"
      ],
      "metadata": {
        "colab": {
          "base_uri": "https://localhost:8080/"
        },
        "id": "N0C57yluZITq",
        "outputId": "e2e8acb4-92bc-4411-b2a1-9846be94b081"
      },
      "execution_count": 29,
      "outputs": [
        {
          "output_type": "stream",
          "name": "stdout",
          "text": [
            "[ 0 -1  0  0  1  0  0  1 -1 -1 -1 -1 -1 -1  1  0  0  0  1  1  1  0  0 -1\n",
            " -1  0 -1  1 -1  1 -1  0  0  0  0 -1  1 -1  1  1  1  0 -1  0  1 -1  1  0\n",
            " -1 -1 -1  1 -1  1  0 -1]\n"
          ]
        }
      ]
    }
  ]
}