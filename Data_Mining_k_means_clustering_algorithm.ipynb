{
  "nbformat": 4,
  "nbformat_minor": 0,
  "metadata": {
    "colab": {
      "provenance": [],
      "authorship_tag": "ABX9TyMgJntPbwQ2lGzVO3xqCmw1",
      "include_colab_link": true
    },
    "kernelspec": {
      "name": "python3",
      "display_name": "Python 3"
    },
    "language_info": {
      "name": "python"
    }
  },
  "cells": [
    {
      "cell_type": "markdown",
      "metadata": {
        "id": "view-in-github",
        "colab_type": "text"
      },
      "source": [
        "<a href=\"https://colab.research.google.com/github/ucchol/docker/blob/main/Data_Mining_k_means_clustering_algorithm.ipynb\" target=\"_parent\"><img src=\"https://colab.research.google.com/assets/colab-badge.svg\" alt=\"Open In Colab\"/></a>"
      ]
    },
    {
      "cell_type": "code",
      "execution_count": null,
      "metadata": {
        "id": "sF7Krs1NL1Gm"
      },
      "outputs": [],
      "source": [
        "import numpy as np\n",
        "import pandas as pd\n",
        "from sklearn.cluster import KMeans"
      ]
    },
    {
      "cell_type": "code",
      "source": [
        "def randIndex(result, gs):\n",
        "  TP=0\n",
        "  TN=0\n",
        "  FP=0\n",
        "  FN=0\n",
        "\n",
        "  for i in range(0, len(result)-1):\n",
        "    for j in range(i+1, len(result)):\n",
        "      if(result[i]==result[j]):  #positive result\n",
        "        if(gs[i]==gs[j]):\n",
        "          TP = TP + 1\n",
        "        else:\n",
        "          FP = FP + 1\n",
        "\n",
        "      else:\n",
        "        if(gs[i]==gs[j]):\n",
        "          FN = FN + 1\n",
        "        else:\n",
        "          TN = TN + 1\n",
        "\n",
        "  RI= TP+TN/(TP+TN+FP+FN)\n",
        "  return RI\n",
        "  \n",
        "\n"
      ],
      "metadata": {
        "id": "4vjYtPbXV5VA"
      },
      "execution_count": null,
      "outputs": []
    },
    {
      "cell_type": "code",
      "source": [
        "rawData=[[5,3,4,6,5], [5,5,5,6,5], [5,5,4,6,5.5], [1,1,2,2,1], [0,1,1,1.1,1], [1,0,1,2,1], [0,1,1,1.1,1], [5,6,5,5,5], [5,5,6,5,5]]\n",
        "\n",
        "goldLabels=[1,1,1,2,2,2,2,1,1]\n",
        "data= np.array(rawData)"
      ],
      "metadata": {
        "id": "nDzYRQsTNaqN"
      },
      "execution_count": null,
      "outputs": []
    },
    {
      "cell_type": "code",
      "source": [
        "k=2\n",
        "km= KMeans(n_clusters= k)\n",
        "fitted= km.fit(data)\n",
        "print(fitted.labels_)\n",
        "\n",
        "#SSD sum of square distance\n",
        "print(\"SSD: \",fitted.inertia_)"
      ],
      "metadata": {
        "colab": {
          "base_uri": "https://localhost:8080/"
        },
        "id": "L5Vy-VghNtUi",
        "outputId": "1f2ae57f-d39f-42a0-b9ff-f7ed14d2b5cc"
      },
      "execution_count": null,
      "outputs": [
        {
          "output_type": "stream",
          "name": "stdout",
          "text": [
            "[0 0 0 1 1 1 1 0 0]\n",
            "SSD:  12.31\n"
          ]
        }
      ]
    },
    {
      "cell_type": "code",
      "source": [
        "print(randIndex([1,1,2,3,2],[2,2,3,3,1]))\n",
        "print(randIndex([1,1,0,0,0],[1,1,3,3,3]))\n",
        "\n",
        "print(randIndex(fitted.labels_, goldLabels))"
      ],
      "metadata": {
        "colab": {
          "base_uri": "https://localhost:8080/"
        },
        "id": "tcq41RHlX56r",
        "outputId": "684f113b-6aca-42a9-dd3a-0b49b615d343"
      },
      "execution_count": null,
      "outputs": [
        {
          "output_type": "stream",
          "name": "stdout",
          "text": [
            "1.7\n",
            "4.6\n",
            "16.555555555555557\n"
          ]
        }
      ]
    },
    {
      "cell_type": "code",
      "source": [
        "def purity(result, gs):   #result and gs are labels\n",
        "  cLabel= list(set(result)) # list will have the cluster labels\n",
        "  gLabel= list(set(gs)) # list will have the ground_cluster truth labels , length of t from our equation\n",
        "  n= len(result)\n",
        "  k= len(cLabel)\n",
        "  t= len(gLabel)\n",
        "\n",
        "  #constructing dictionaries for cLable and glabel\n",
        "  cLabelsD= dict(zip(cLabel, range(k))) #for clustering\n",
        "  gLabelsD= dict(zip(gLabel, range(t))) #for ground truth\n",
        "\n",
        "  clusterGroundDistr= [[0] * t for i in range(k)] #this will create a 2D array of t many columns and k many rows\n",
        "\n",
        "  for i in range(n):  #number of elements we have is n\n",
        "    clusterIndex = cLabelsD[result[i]]\n",
        "    groundIndex = gLabelsD[gs[i]]\n",
        "    clusterGroundDistr[clusterIndex][groundIndex] += 1\n",
        "\n",
        "  p=0 # p is purity\n",
        "  for i in range(k):\n",
        "    p += max(clusterGroundDistr[i])\n",
        "\n",
        "  return p/n\n",
        "\n",
        "\n"
      ],
      "metadata": {
        "id": "zLVEBQF4ixC7"
      },
      "execution_count": null,
      "outputs": []
    },
    {
      "cell_type": "code",
      "source": [
        "#testing purity with random data\n",
        "\n",
        "clustOut =[2,1,1,3,2,2,2,3,2,1,1,3,3,2]\n",
        "groundClust =[1,2,2,2,1,1,1,3,2,2,1,3,1,2]\n",
        "\n",
        "print(\"Testing purity Code: \", purity(clustOut, groundClust))"
      ],
      "metadata": {
        "colab": {
          "base_uri": "https://localhost:8080/"
        },
        "id": "jOxG2M03oWsU",
        "outputId": "7d052d46-e99f-4d7b-ff66-9128800c841f"
      },
      "execution_count": null,
      "outputs": [
        {
          "output_type": "stream",
          "name": "stdout",
          "text": [
            "Testing purity Code:  0.6428571428571429\n"
          ]
        }
      ]
    },
    {
      "cell_type": "code",
      "source": [
        "#test purity with randIndex data\n",
        "\n",
        "print(\"purity: \", purity(fitted.labels_, goldLabels))"
      ],
      "metadata": {
        "colab": {
          "base_uri": "https://localhost:8080/"
        },
        "id": "AU31XQF_oFQy",
        "outputId": "1d45093c-d9a4-4260-c93f-fe32abb7f1c5"
      },
      "execution_count": null,
      "outputs": [
        {
          "output_type": "stream",
          "name": "stdout",
          "text": [
            "purity:  1.0\n"
          ]
        }
      ]
    }
  ]
}