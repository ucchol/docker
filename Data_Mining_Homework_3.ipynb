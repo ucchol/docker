{
  "nbformat": 4,
  "nbformat_minor": 0,
  "metadata": {
    "colab": {
      "provenance": [],
      "authorship_tag": "ABX9TyOc3yfUojdGiaTJFuAXDxok",
      "include_colab_link": true
    },
    "kernelspec": {
      "name": "python3",
      "display_name": "Python 3"
    },
    "language_info": {
      "name": "python"
    }
  },
  "cells": [
    {
      "cell_type": "markdown",
      "metadata": {
        "id": "view-in-github",
        "colab_type": "text"
      },
      "source": [
        "<a href=\"https://colab.research.google.com/github/ucchol/docker/blob/main/Data_Mining_Homework_3.ipynb\" target=\"_parent\"><img src=\"https://colab.research.google.com/assets/colab-badge.svg\" alt=\"Open In Colab\"/></a>"
      ]
    },
    {
      "cell_type": "markdown",
      "source": [
        "# Assignment /Homework 3"
      ],
      "metadata": {
        "id": "E3yruUwov0uf"
      }
    },
    {
      "cell_type": "code",
      "execution_count": 2,
      "metadata": {
        "id": "4i2d5_chvO-p"
      },
      "outputs": [],
      "source": [
        "import numpy as np\n",
        "import pandas as pd\n",
        "import matplotlib.pyplot as plt\n",
        "from sklearn.linear_model import LinearRegression"
      ]
    },
    {
      "cell_type": "code",
      "source": [
        "#uploading files\n",
        "from google.colab import files\n",
        "uploaded= files.upload()"
      ],
      "metadata": {
        "colab": {
          "base_uri": "https://localhost:8080/",
          "height": 212
        },
        "id": "8jnahyTiv5BJ",
        "outputId": "c5a667b7-9391-4d64-a816-1c422324fc61"
      },
      "execution_count": 3,
      "outputs": [
        {
          "output_type": "display_data",
          "data": {
            "text/plain": [
              "<IPython.core.display.HTML object>"
            ],
            "text/html": [
              "\n",
              "     <input type=\"file\" id=\"files-aabde6f8-d531-4d34-9411-ffd623235a32\" name=\"files[]\" multiple disabled\n",
              "        style=\"border:none\" />\n",
              "     <output id=\"result-aabde6f8-d531-4d34-9411-ffd623235a32\">\n",
              "      Upload widget is only available when the cell has been executed in the\n",
              "      current browser session. Please rerun this cell to enable.\n",
              "      </output>\n",
              "      <script>// Copyright 2017 Google LLC\n",
              "//\n",
              "// Licensed under the Apache License, Version 2.0 (the \"License\");\n",
              "// you may not use this file except in compliance with the License.\n",
              "// You may obtain a copy of the License at\n",
              "//\n",
              "//      http://www.apache.org/licenses/LICENSE-2.0\n",
              "//\n",
              "// Unless required by applicable law or agreed to in writing, software\n",
              "// distributed under the License is distributed on an \"AS IS\" BASIS,\n",
              "// WITHOUT WARRANTIES OR CONDITIONS OF ANY KIND, either express or implied.\n",
              "// See the License for the specific language governing permissions and\n",
              "// limitations under the License.\n",
              "\n",
              "/**\n",
              " * @fileoverview Helpers for google.colab Python module.\n",
              " */\n",
              "(function(scope) {\n",
              "function span(text, styleAttributes = {}) {\n",
              "  const element = document.createElement('span');\n",
              "  element.textContent = text;\n",
              "  for (const key of Object.keys(styleAttributes)) {\n",
              "    element.style[key] = styleAttributes[key];\n",
              "  }\n",
              "  return element;\n",
              "}\n",
              "\n",
              "// Max number of bytes which will be uploaded at a time.\n",
              "const MAX_PAYLOAD_SIZE = 100 * 1024;\n",
              "\n",
              "function _uploadFiles(inputId, outputId) {\n",
              "  const steps = uploadFilesStep(inputId, outputId);\n",
              "  const outputElement = document.getElementById(outputId);\n",
              "  // Cache steps on the outputElement to make it available for the next call\n",
              "  // to uploadFilesContinue from Python.\n",
              "  outputElement.steps = steps;\n",
              "\n",
              "  return _uploadFilesContinue(outputId);\n",
              "}\n",
              "\n",
              "// This is roughly an async generator (not supported in the browser yet),\n",
              "// where there are multiple asynchronous steps and the Python side is going\n",
              "// to poll for completion of each step.\n",
              "// This uses a Promise to block the python side on completion of each step,\n",
              "// then passes the result of the previous step as the input to the next step.\n",
              "function _uploadFilesContinue(outputId) {\n",
              "  const outputElement = document.getElementById(outputId);\n",
              "  const steps = outputElement.steps;\n",
              "\n",
              "  const next = steps.next(outputElement.lastPromiseValue);\n",
              "  return Promise.resolve(next.value.promise).then((value) => {\n",
              "    // Cache the last promise value to make it available to the next\n",
              "    // step of the generator.\n",
              "    outputElement.lastPromiseValue = value;\n",
              "    return next.value.response;\n",
              "  });\n",
              "}\n",
              "\n",
              "/**\n",
              " * Generator function which is called between each async step of the upload\n",
              " * process.\n",
              " * @param {string} inputId Element ID of the input file picker element.\n",
              " * @param {string} outputId Element ID of the output display.\n",
              " * @return {!Iterable<!Object>} Iterable of next steps.\n",
              " */\n",
              "function* uploadFilesStep(inputId, outputId) {\n",
              "  const inputElement = document.getElementById(inputId);\n",
              "  inputElement.disabled = false;\n",
              "\n",
              "  const outputElement = document.getElementById(outputId);\n",
              "  outputElement.innerHTML = '';\n",
              "\n",
              "  const pickedPromise = new Promise((resolve) => {\n",
              "    inputElement.addEventListener('change', (e) => {\n",
              "      resolve(e.target.files);\n",
              "    });\n",
              "  });\n",
              "\n",
              "  const cancel = document.createElement('button');\n",
              "  inputElement.parentElement.appendChild(cancel);\n",
              "  cancel.textContent = 'Cancel upload';\n",
              "  const cancelPromise = new Promise((resolve) => {\n",
              "    cancel.onclick = () => {\n",
              "      resolve(null);\n",
              "    };\n",
              "  });\n",
              "\n",
              "  // Wait for the user to pick the files.\n",
              "  const files = yield {\n",
              "    promise: Promise.race([pickedPromise, cancelPromise]),\n",
              "    response: {\n",
              "      action: 'starting',\n",
              "    }\n",
              "  };\n",
              "\n",
              "  cancel.remove();\n",
              "\n",
              "  // Disable the input element since further picks are not allowed.\n",
              "  inputElement.disabled = true;\n",
              "\n",
              "  if (!files) {\n",
              "    return {\n",
              "      response: {\n",
              "        action: 'complete',\n",
              "      }\n",
              "    };\n",
              "  }\n",
              "\n",
              "  for (const file of files) {\n",
              "    const li = document.createElement('li');\n",
              "    li.append(span(file.name, {fontWeight: 'bold'}));\n",
              "    li.append(span(\n",
              "        `(${file.type || 'n/a'}) - ${file.size} bytes, ` +\n",
              "        `last modified: ${\n",
              "            file.lastModifiedDate ? file.lastModifiedDate.toLocaleDateString() :\n",
              "                                    'n/a'} - `));\n",
              "    const percent = span('0% done');\n",
              "    li.appendChild(percent);\n",
              "\n",
              "    outputElement.appendChild(li);\n",
              "\n",
              "    const fileDataPromise = new Promise((resolve) => {\n",
              "      const reader = new FileReader();\n",
              "      reader.onload = (e) => {\n",
              "        resolve(e.target.result);\n",
              "      };\n",
              "      reader.readAsArrayBuffer(file);\n",
              "    });\n",
              "    // Wait for the data to be ready.\n",
              "    let fileData = yield {\n",
              "      promise: fileDataPromise,\n",
              "      response: {\n",
              "        action: 'continue',\n",
              "      }\n",
              "    };\n",
              "\n",
              "    // Use a chunked sending to avoid message size limits. See b/62115660.\n",
              "    let position = 0;\n",
              "    do {\n",
              "      const length = Math.min(fileData.byteLength - position, MAX_PAYLOAD_SIZE);\n",
              "      const chunk = new Uint8Array(fileData, position, length);\n",
              "      position += length;\n",
              "\n",
              "      const base64 = btoa(String.fromCharCode.apply(null, chunk));\n",
              "      yield {\n",
              "        response: {\n",
              "          action: 'append',\n",
              "          file: file.name,\n",
              "          data: base64,\n",
              "        },\n",
              "      };\n",
              "\n",
              "      let percentDone = fileData.byteLength === 0 ?\n",
              "          100 :\n",
              "          Math.round((position / fileData.byteLength) * 100);\n",
              "      percent.textContent = `${percentDone}% done`;\n",
              "\n",
              "    } while (position < fileData.byteLength);\n",
              "  }\n",
              "\n",
              "  // All done.\n",
              "  yield {\n",
              "    response: {\n",
              "      action: 'complete',\n",
              "    }\n",
              "  };\n",
              "}\n",
              "\n",
              "scope.google = scope.google || {};\n",
              "scope.google.colab = scope.google.colab || {};\n",
              "scope.google.colab._files = {\n",
              "  _uploadFiles,\n",
              "  _uploadFilesContinue,\n",
              "};\n",
              "})(self);\n",
              "</script> "
            ]
          },
          "metadata": {}
        },
        {
          "output_type": "stream",
          "name": "stdout",
          "text": [
            "Saving GrowthData1.csv to GrowthData1.csv\n",
            "Saving GrowthData2.csv to GrowthData2.csv\n",
            "Saving Growth-Unknown.csv to Growth-Unknown.csv\n",
            "Saving JetData.csv to JetData.csv\n",
            "Saving JetData-unknown.csv to JetData-unknown.csv\n"
          ]
        }
      ]
    },
    {
      "cell_type": "markdown",
      "source": [
        "# Example DATASET"
      ],
      "metadata": {
        "id": "1uerDN7xwrHC"
      }
    },
    {
      "cell_type": "markdown",
      "source": [
        "I have the two files named JetData.csv and JetData-unknown.csv.\n",
        "JetData.csv has a number of columns, among which Propulsion pressure, Radiation, and Heat are the independent variables. Life span is the dependent variable. The ID column contains just a serial number and does not influence any of the columns.\n",
        "I performed a linear regression-based analysis to predict the Life span of Jet Engines with IDs X, Y, and Z.\n",
        "The intercept of the linear regression model turned out to be 1500.0000003813395.\n",
        "In the regression model, I found that the coefficients with Propulsion pressure, Radiation, and Heat are 3, -8, and -3, respectively. Based on the magnitude of the coefficients, I say that Radiation is the most influential variable for Life span."
      ],
      "metadata": {
        "id": "9AXyRzWVwX8B"
      }
    },
    {
      "cell_type": "code",
      "source": [
        "df = pd.read_csv(\"JetData.csv\")\n",
        "df"
      ],
      "metadata": {
        "colab": {
          "base_uri": "https://localhost:8080/",
          "height": 833
        },
        "id": "5R9zTNsFwY7I",
        "outputId": "564d5bab-88d0-4c16-ca3b-b776c52ed897"
      },
      "execution_count": 4,
      "outputs": [
        {
          "output_type": "execute_result",
          "data": {
            "text/plain": [
              "    ID  Propulsion pressure  Radiation        Heat   Life span\n",
              "0    1             4.221967  29.724798  120.596608  913.077690\n",
              "1    2             1.862120  42.364783  151.892318  710.991143\n",
              "2    3            17.682084  35.921981  155.882826  798.021930\n",
              "3    4             3.238585  34.590306  119.277659  875.160333\n",
              "4    5             2.340730  40.067117  179.602227  647.678575\n",
              "5    6            11.547014  19.045088  168.382828  877.131855\n",
              "6    7            14.111215  25.436550  144.197409  906.249018\n",
              "7    8             5.015590  45.566745  125.561593  773.828030\n",
              "8    9            14.067049  29.819593  177.314306  771.701487\n",
              "9   10             0.935271  23.193977  184.477187  763.822433\n",
              "10  11             6.910029  27.581581  172.566849  782.376891\n",
              "11  12            12.007738  32.053936  155.186419  814.032469\n",
              "12  13            14.960960   9.493303  165.401560  972.731774\n",
              "13  14             5.110664  33.939592  138.129061  829.428068\n",
              "14  15             3.879445  13.862940  162.673188  912.715251\n",
              "15  16             4.120787  23.529849  165.364328  828.030587\n",
              "16  17            10.858032  28.039071  102.983851  999.309975\n",
              "17  18             8.875729  26.195735  133.474483  916.637861\n",
              "18  19             1.741910  26.689716  152.845036  833.172896\n",
              "19  20            17.725820  26.033975  137.562603  932.217849\n",
              "20  21            18.204466  40.189193  107.269632  911.290957\n",
              "21  22            12.620854  14.118024  180.780040  882.578255\n",
              "22  23            10.632088  41.825448  157.464788  724.898318\n",
              "23  24            12.101626  38.762457  154.176888  763.674561\n",
              "24  25            13.985286  19.914663  166.365779  883.541214"
            ],
            "text/html": [
              "\n",
              "  <div id=\"df-b790a921-c51d-42c4-97c1-cfe90b374289\">\n",
              "    <div class=\"colab-df-container\">\n",
              "      <div>\n",
              "<style scoped>\n",
              "    .dataframe tbody tr th:only-of-type {\n",
              "        vertical-align: middle;\n",
              "    }\n",
              "\n",
              "    .dataframe tbody tr th {\n",
              "        vertical-align: top;\n",
              "    }\n",
              "\n",
              "    .dataframe thead th {\n",
              "        text-align: right;\n",
              "    }\n",
              "</style>\n",
              "<table border=\"1\" class=\"dataframe\">\n",
              "  <thead>\n",
              "    <tr style=\"text-align: right;\">\n",
              "      <th></th>\n",
              "      <th>ID</th>\n",
              "      <th>Propulsion pressure</th>\n",
              "      <th>Radiation</th>\n",
              "      <th>Heat</th>\n",
              "      <th>Life span</th>\n",
              "    </tr>\n",
              "  </thead>\n",
              "  <tbody>\n",
              "    <tr>\n",
              "      <th>0</th>\n",
              "      <td>1</td>\n",
              "      <td>4.221967</td>\n",
              "      <td>29.724798</td>\n",
              "      <td>120.596608</td>\n",
              "      <td>913.077690</td>\n",
              "    </tr>\n",
              "    <tr>\n",
              "      <th>1</th>\n",
              "      <td>2</td>\n",
              "      <td>1.862120</td>\n",
              "      <td>42.364783</td>\n",
              "      <td>151.892318</td>\n",
              "      <td>710.991143</td>\n",
              "    </tr>\n",
              "    <tr>\n",
              "      <th>2</th>\n",
              "      <td>3</td>\n",
              "      <td>17.682084</td>\n",
              "      <td>35.921981</td>\n",
              "      <td>155.882826</td>\n",
              "      <td>798.021930</td>\n",
              "    </tr>\n",
              "    <tr>\n",
              "      <th>3</th>\n",
              "      <td>4</td>\n",
              "      <td>3.238585</td>\n",
              "      <td>34.590306</td>\n",
              "      <td>119.277659</td>\n",
              "      <td>875.160333</td>\n",
              "    </tr>\n",
              "    <tr>\n",
              "      <th>4</th>\n",
              "      <td>5</td>\n",
              "      <td>2.340730</td>\n",
              "      <td>40.067117</td>\n",
              "      <td>179.602227</td>\n",
              "      <td>647.678575</td>\n",
              "    </tr>\n",
              "    <tr>\n",
              "      <th>5</th>\n",
              "      <td>6</td>\n",
              "      <td>11.547014</td>\n",
              "      <td>19.045088</td>\n",
              "      <td>168.382828</td>\n",
              "      <td>877.131855</td>\n",
              "    </tr>\n",
              "    <tr>\n",
              "      <th>6</th>\n",
              "      <td>7</td>\n",
              "      <td>14.111215</td>\n",
              "      <td>25.436550</td>\n",
              "      <td>144.197409</td>\n",
              "      <td>906.249018</td>\n",
              "    </tr>\n",
              "    <tr>\n",
              "      <th>7</th>\n",
              "      <td>8</td>\n",
              "      <td>5.015590</td>\n",
              "      <td>45.566745</td>\n",
              "      <td>125.561593</td>\n",
              "      <td>773.828030</td>\n",
              "    </tr>\n",
              "    <tr>\n",
              "      <th>8</th>\n",
              "      <td>9</td>\n",
              "      <td>14.067049</td>\n",
              "      <td>29.819593</td>\n",
              "      <td>177.314306</td>\n",
              "      <td>771.701487</td>\n",
              "    </tr>\n",
              "    <tr>\n",
              "      <th>9</th>\n",
              "      <td>10</td>\n",
              "      <td>0.935271</td>\n",
              "      <td>23.193977</td>\n",
              "      <td>184.477187</td>\n",
              "      <td>763.822433</td>\n",
              "    </tr>\n",
              "    <tr>\n",
              "      <th>10</th>\n",
              "      <td>11</td>\n",
              "      <td>6.910029</td>\n",
              "      <td>27.581581</td>\n",
              "      <td>172.566849</td>\n",
              "      <td>782.376891</td>\n",
              "    </tr>\n",
              "    <tr>\n",
              "      <th>11</th>\n",
              "      <td>12</td>\n",
              "      <td>12.007738</td>\n",
              "      <td>32.053936</td>\n",
              "      <td>155.186419</td>\n",
              "      <td>814.032469</td>\n",
              "    </tr>\n",
              "    <tr>\n",
              "      <th>12</th>\n",
              "      <td>13</td>\n",
              "      <td>14.960960</td>\n",
              "      <td>9.493303</td>\n",
              "      <td>165.401560</td>\n",
              "      <td>972.731774</td>\n",
              "    </tr>\n",
              "    <tr>\n",
              "      <th>13</th>\n",
              "      <td>14</td>\n",
              "      <td>5.110664</td>\n",
              "      <td>33.939592</td>\n",
              "      <td>138.129061</td>\n",
              "      <td>829.428068</td>\n",
              "    </tr>\n",
              "    <tr>\n",
              "      <th>14</th>\n",
              "      <td>15</td>\n",
              "      <td>3.879445</td>\n",
              "      <td>13.862940</td>\n",
              "      <td>162.673188</td>\n",
              "      <td>912.715251</td>\n",
              "    </tr>\n",
              "    <tr>\n",
              "      <th>15</th>\n",
              "      <td>16</td>\n",
              "      <td>4.120787</td>\n",
              "      <td>23.529849</td>\n",
              "      <td>165.364328</td>\n",
              "      <td>828.030587</td>\n",
              "    </tr>\n",
              "    <tr>\n",
              "      <th>16</th>\n",
              "      <td>17</td>\n",
              "      <td>10.858032</td>\n",
              "      <td>28.039071</td>\n",
              "      <td>102.983851</td>\n",
              "      <td>999.309975</td>\n",
              "    </tr>\n",
              "    <tr>\n",
              "      <th>17</th>\n",
              "      <td>18</td>\n",
              "      <td>8.875729</td>\n",
              "      <td>26.195735</td>\n",
              "      <td>133.474483</td>\n",
              "      <td>916.637861</td>\n",
              "    </tr>\n",
              "    <tr>\n",
              "      <th>18</th>\n",
              "      <td>19</td>\n",
              "      <td>1.741910</td>\n",
              "      <td>26.689716</td>\n",
              "      <td>152.845036</td>\n",
              "      <td>833.172896</td>\n",
              "    </tr>\n",
              "    <tr>\n",
              "      <th>19</th>\n",
              "      <td>20</td>\n",
              "      <td>17.725820</td>\n",
              "      <td>26.033975</td>\n",
              "      <td>137.562603</td>\n",
              "      <td>932.217849</td>\n",
              "    </tr>\n",
              "    <tr>\n",
              "      <th>20</th>\n",
              "      <td>21</td>\n",
              "      <td>18.204466</td>\n",
              "      <td>40.189193</td>\n",
              "      <td>107.269632</td>\n",
              "      <td>911.290957</td>\n",
              "    </tr>\n",
              "    <tr>\n",
              "      <th>21</th>\n",
              "      <td>22</td>\n",
              "      <td>12.620854</td>\n",
              "      <td>14.118024</td>\n",
              "      <td>180.780040</td>\n",
              "      <td>882.578255</td>\n",
              "    </tr>\n",
              "    <tr>\n",
              "      <th>22</th>\n",
              "      <td>23</td>\n",
              "      <td>10.632088</td>\n",
              "      <td>41.825448</td>\n",
              "      <td>157.464788</td>\n",
              "      <td>724.898318</td>\n",
              "    </tr>\n",
              "    <tr>\n",
              "      <th>23</th>\n",
              "      <td>24</td>\n",
              "      <td>12.101626</td>\n",
              "      <td>38.762457</td>\n",
              "      <td>154.176888</td>\n",
              "      <td>763.674561</td>\n",
              "    </tr>\n",
              "    <tr>\n",
              "      <th>24</th>\n",
              "      <td>25</td>\n",
              "      <td>13.985286</td>\n",
              "      <td>19.914663</td>\n",
              "      <td>166.365779</td>\n",
              "      <td>883.541214</td>\n",
              "    </tr>\n",
              "  </tbody>\n",
              "</table>\n",
              "</div>\n",
              "      <button class=\"colab-df-convert\" onclick=\"convertToInteractive('df-b790a921-c51d-42c4-97c1-cfe90b374289')\"\n",
              "              title=\"Convert this dataframe to an interactive table.\"\n",
              "              style=\"display:none;\">\n",
              "        \n",
              "  <svg xmlns=\"http://www.w3.org/2000/svg\" height=\"24px\"viewBox=\"0 0 24 24\"\n",
              "       width=\"24px\">\n",
              "    <path d=\"M0 0h24v24H0V0z\" fill=\"none\"/>\n",
              "    <path d=\"M18.56 5.44l.94 2.06.94-2.06 2.06-.94-2.06-.94-.94-2.06-.94 2.06-2.06.94zm-11 1L8.5 8.5l.94-2.06 2.06-.94-2.06-.94L8.5 2.5l-.94 2.06-2.06.94zm10 10l.94 2.06.94-2.06 2.06-.94-2.06-.94-.94-2.06-.94 2.06-2.06.94z\"/><path d=\"M17.41 7.96l-1.37-1.37c-.4-.4-.92-.59-1.43-.59-.52 0-1.04.2-1.43.59L10.3 9.45l-7.72 7.72c-.78.78-.78 2.05 0 2.83L4 21.41c.39.39.9.59 1.41.59.51 0 1.02-.2 1.41-.59l7.78-7.78 2.81-2.81c.8-.78.8-2.07 0-2.86zM5.41 20L4 18.59l7.72-7.72 1.47 1.35L5.41 20z\"/>\n",
              "  </svg>\n",
              "      </button>\n",
              "      \n",
              "  <style>\n",
              "    .colab-df-container {\n",
              "      display:flex;\n",
              "      flex-wrap:wrap;\n",
              "      gap: 12px;\n",
              "    }\n",
              "\n",
              "    .colab-df-convert {\n",
              "      background-color: #E8F0FE;\n",
              "      border: none;\n",
              "      border-radius: 50%;\n",
              "      cursor: pointer;\n",
              "      display: none;\n",
              "      fill: #1967D2;\n",
              "      height: 32px;\n",
              "      padding: 0 0 0 0;\n",
              "      width: 32px;\n",
              "    }\n",
              "\n",
              "    .colab-df-convert:hover {\n",
              "      background-color: #E2EBFA;\n",
              "      box-shadow: 0px 1px 2px rgba(60, 64, 67, 0.3), 0px 1px 3px 1px rgba(60, 64, 67, 0.15);\n",
              "      fill: #174EA6;\n",
              "    }\n",
              "\n",
              "    [theme=dark] .colab-df-convert {\n",
              "      background-color: #3B4455;\n",
              "      fill: #D2E3FC;\n",
              "    }\n",
              "\n",
              "    [theme=dark] .colab-df-convert:hover {\n",
              "      background-color: #434B5C;\n",
              "      box-shadow: 0px 1px 3px 1px rgba(0, 0, 0, 0.15);\n",
              "      filter: drop-shadow(0px 1px 2px rgba(0, 0, 0, 0.3));\n",
              "      fill: #FFFFFF;\n",
              "    }\n",
              "  </style>\n",
              "\n",
              "      <script>\n",
              "        const buttonEl =\n",
              "          document.querySelector('#df-b790a921-c51d-42c4-97c1-cfe90b374289 button.colab-df-convert');\n",
              "        buttonEl.style.display =\n",
              "          google.colab.kernel.accessAllowed ? 'block' : 'none';\n",
              "\n",
              "        async function convertToInteractive(key) {\n",
              "          const element = document.querySelector('#df-b790a921-c51d-42c4-97c1-cfe90b374289');\n",
              "          const dataTable =\n",
              "            await google.colab.kernel.invokeFunction('convertToInteractive',\n",
              "                                                     [key], {});\n",
              "          if (!dataTable) return;\n",
              "\n",
              "          const docLinkHtml = 'Like what you see? Visit the ' +\n",
              "            '<a target=\"_blank\" href=https://colab.research.google.com/notebooks/data_table.ipynb>data table notebook</a>'\n",
              "            + ' to learn more about interactive tables.';\n",
              "          element.innerHTML = '';\n",
              "          dataTable['output_type'] = 'display_data';\n",
              "          await google.colab.output.renderOutput(dataTable, element);\n",
              "          const docLink = document.createElement('div');\n",
              "          docLink.innerHTML = docLinkHtml;\n",
              "          element.appendChild(docLink);\n",
              "        }\n",
              "      </script>\n",
              "    </div>\n",
              "  </div>\n",
              "  "
            ]
          },
          "metadata": {},
          "execution_count": 4
        }
      ]
    },
    {
      "cell_type": "markdown",
      "source": [
        "# y= 2x+c, where x is the independent variable, y is the dependent variable, and c is the intercept"
      ],
      "metadata": {
        "id": "Y5i6CWf4xQP-"
      }
    },
    {
      "cell_type": "code",
      "source": [
        "x = df.values[:, range(1, 4)]  #Propulsion pressure, Radiation, and Heat are the independent variables. \n",
        "y = df.values[:, 4]  #Life span is the dependent variable. "
      ],
      "metadata": {
        "id": "prPADq3xxHst"
      },
      "execution_count": 5,
      "outputs": []
    },
    {
      "cell_type": "code",
      "source": [
        "model = LinearRegression().fit(x, y)  #class sklearn.linear_model.LinearRegression(*, fit_intercept=True, copy_X=True, \n",
        "                                      #n_jobs=None, positive=False)"
      ],
      "metadata": {
        "id": "JZ1Oc8aJxb8Q"
      },
      "execution_count": 6,
      "outputs": []
    },
    {
      "cell_type": "code",
      "source": [
        "print(model.intercept_)  #The intercept of the linear regression model turned out to be 1500.0000003813395."
      ],
      "metadata": {
        "colab": {
          "base_uri": "https://localhost:8080/"
        },
        "id": "XlTpatCXzNoO",
        "outputId": "4aa4b0ef-b61d-4692-941b-fca6c39c0484"
      },
      "execution_count": 7,
      "outputs": [
        {
          "output_type": "stream",
          "name": "stdout",
          "text": [
            "1500.0000003813393\n"
          ]
        }
      ]
    },
    {
      "cell_type": "code",
      "source": [
        "print(model.coef_) #found that the coefficients with Propulsion pressure, Radiation, and Heat are 3, -8, and -3, respectively. Based on \n",
        "                  #the magnitude of the coefficients, I say that Radiation is the most influential variable for Life span."
      ],
      "metadata": {
        "colab": {
          "base_uri": "https://localhost:8080/"
        },
        "id": "fspqdo_hzCHF",
        "outputId": "e038c702-d262-4174-fc9c-ddb9aa0d0581"
      },
      "execution_count": 8,
      "outputs": [
        {
          "output_type": "stream",
          "name": "stdout",
          "text": [
            "[ 3. -8. -3.]\n"
          ]
        }
      ]
    },
    {
      "cell_type": "markdown",
      "source": [
        "I am ranking below the engines of JetData-unknown.csv based on their predicted life span. The one at order 1 has the highest predicted life span.\n",
        "1. X\n",
        "2. Z\n",
        "3. Y"
      ],
      "metadata": {
        "id": "XOoZa5rR0HSO"
      }
    },
    {
      "cell_type": "code",
      "source": [],
      "metadata": {
        "id": "NhwSItUR0Kzy"
      },
      "execution_count": null,
      "outputs": []
    },
    {
      "cell_type": "markdown",
      "source": [
        "# QUESTION 1\n",
        "\n",
        "If the coefficient associated with an independent variable column is k, then how will you compute the angle of the associated regression line (model) in degrees? "
      ],
      "metadata": {
        "id": "zeZHM_GA0zXi"
      }
    },
    {
      "cell_type": "markdown",
      "source": [
        "# K_angle_degree = Math.Atan(k)*(180/Math.pi)"
      ],
      "metadata": {
        "id": "g4b2l85N01Vt"
      }
    },
    {
      "cell_type": "markdown",
      "source": [],
      "metadata": {
        "id": "gN96x3wr08Mt"
      }
    },
    {
      "cell_type": "markdown",
      "source": [
        "# QUESTION 5\n",
        "\n",
        "What is the intercept for the linear regression model using GrowthData2.csv? The error tolerance for this answer is -2.0 to +2.0. That is, your answer will be considered correct if it differs by at most 2.0."
      ],
      "metadata": {
        "id": "wqTEPmgf1IT4"
      }
    },
    {
      "cell_type": "markdown",
      "source": [
        "**800.0000001903576**"
      ],
      "metadata": {
        "id": "6gDulFD04BRn"
      }
    },
    {
      "cell_type": "code",
      "source": [
        "df2 = pd.read_csv(\"GrowthData2.csv\")\n",
        "df2"
      ],
      "metadata": {
        "colab": {
          "base_uri": "https://localhost:8080/",
          "height": 423
        },
        "id": "gqZkPPUR1JJO",
        "outputId": "a4f539c7-479c-48b0-b083-de0158eb778f"
      },
      "execution_count": 9,
      "outputs": [
        {
          "output_type": "execute_result",
          "data": {
            "text/plain": [
              "      ID   A-Factor   B-Factor    C-Factor   D-Factor   E-Factor  Growth Rate\n",
              "0      1  12.914732  40.218656  143.736195  45.842464  53.169693  1103.426805\n",
              "1      2   4.504380  24.303156  173.844537  27.866619  58.520026  1198.142354\n",
              "2      3   9.292202  45.539439  145.477303  25.761641   6.895694  1304.980555\n",
              "3      4  11.249013  10.913801  153.936826  30.928504  10.068521  1162.769995\n",
              "4      5  16.666415  17.009242  113.560090  49.597200  66.335946   843.045246\n",
              "..   ...        ...        ...         ...        ...        ...          ...\n",
              "200  201   8.708230  27.835302  136.817074  46.395797  49.490998  1086.237136\n",
              "201  202   2.264980  16.166851  150.263422  26.714477  16.967128  1241.906489\n",
              "202  203  15.856586  37.577228  186.177681  35.232066  60.104744  1169.961856\n",
              "203  204   2.801867  24.076161  121.078324  31.933744  37.687927  1118.457165\n",
              "204  205   1.001705  10.677583  187.901007  37.210723  31.452036  1302.040191\n",
              "\n",
              "[205 rows x 7 columns]"
            ],
            "text/html": [
              "\n",
              "  <div id=\"df-595a5a5d-7e82-4ed8-99b1-ae6f387d9362\">\n",
              "    <div class=\"colab-df-container\">\n",
              "      <div>\n",
              "<style scoped>\n",
              "    .dataframe tbody tr th:only-of-type {\n",
              "        vertical-align: middle;\n",
              "    }\n",
              "\n",
              "    .dataframe tbody tr th {\n",
              "        vertical-align: top;\n",
              "    }\n",
              "\n",
              "    .dataframe thead th {\n",
              "        text-align: right;\n",
              "    }\n",
              "</style>\n",
              "<table border=\"1\" class=\"dataframe\">\n",
              "  <thead>\n",
              "    <tr style=\"text-align: right;\">\n",
              "      <th></th>\n",
              "      <th>ID</th>\n",
              "      <th>A-Factor</th>\n",
              "      <th>B-Factor</th>\n",
              "      <th>C-Factor</th>\n",
              "      <th>D-Factor</th>\n",
              "      <th>E-Factor</th>\n",
              "      <th>Growth Rate</th>\n",
              "    </tr>\n",
              "  </thead>\n",
              "  <tbody>\n",
              "    <tr>\n",
              "      <th>0</th>\n",
              "      <td>1</td>\n",
              "      <td>12.914732</td>\n",
              "      <td>40.218656</td>\n",
              "      <td>143.736195</td>\n",
              "      <td>45.842464</td>\n",
              "      <td>53.169693</td>\n",
              "      <td>1103.426805</td>\n",
              "    </tr>\n",
              "    <tr>\n",
              "      <th>1</th>\n",
              "      <td>2</td>\n",
              "      <td>4.504380</td>\n",
              "      <td>24.303156</td>\n",
              "      <td>173.844537</td>\n",
              "      <td>27.866619</td>\n",
              "      <td>58.520026</td>\n",
              "      <td>1198.142354</td>\n",
              "    </tr>\n",
              "    <tr>\n",
              "      <th>2</th>\n",
              "      <td>3</td>\n",
              "      <td>9.292202</td>\n",
              "      <td>45.539439</td>\n",
              "      <td>145.477303</td>\n",
              "      <td>25.761641</td>\n",
              "      <td>6.895694</td>\n",
              "      <td>1304.980555</td>\n",
              "    </tr>\n",
              "    <tr>\n",
              "      <th>3</th>\n",
              "      <td>4</td>\n",
              "      <td>11.249013</td>\n",
              "      <td>10.913801</td>\n",
              "      <td>153.936826</td>\n",
              "      <td>30.928504</td>\n",
              "      <td>10.068521</td>\n",
              "      <td>1162.769995</td>\n",
              "    </tr>\n",
              "    <tr>\n",
              "      <th>4</th>\n",
              "      <td>5</td>\n",
              "      <td>16.666415</td>\n",
              "      <td>17.009242</td>\n",
              "      <td>113.560090</td>\n",
              "      <td>49.597200</td>\n",
              "      <td>66.335946</td>\n",
              "      <td>843.045246</td>\n",
              "    </tr>\n",
              "    <tr>\n",
              "      <th>...</th>\n",
              "      <td>...</td>\n",
              "      <td>...</td>\n",
              "      <td>...</td>\n",
              "      <td>...</td>\n",
              "      <td>...</td>\n",
              "      <td>...</td>\n",
              "      <td>...</td>\n",
              "    </tr>\n",
              "    <tr>\n",
              "      <th>200</th>\n",
              "      <td>201</td>\n",
              "      <td>8.708230</td>\n",
              "      <td>27.835302</td>\n",
              "      <td>136.817074</td>\n",
              "      <td>46.395797</td>\n",
              "      <td>49.490998</td>\n",
              "      <td>1086.237136</td>\n",
              "    </tr>\n",
              "    <tr>\n",
              "      <th>201</th>\n",
              "      <td>202</td>\n",
              "      <td>2.264980</td>\n",
              "      <td>16.166851</td>\n",
              "      <td>150.263422</td>\n",
              "      <td>26.714477</td>\n",
              "      <td>16.967128</td>\n",
              "      <td>1241.906489</td>\n",
              "    </tr>\n",
              "    <tr>\n",
              "      <th>202</th>\n",
              "      <td>203</td>\n",
              "      <td>15.856586</td>\n",
              "      <td>37.577228</td>\n",
              "      <td>186.177681</td>\n",
              "      <td>35.232066</td>\n",
              "      <td>60.104744</td>\n",
              "      <td>1169.961856</td>\n",
              "    </tr>\n",
              "    <tr>\n",
              "      <th>203</th>\n",
              "      <td>204</td>\n",
              "      <td>2.801867</td>\n",
              "      <td>24.076161</td>\n",
              "      <td>121.078324</td>\n",
              "      <td>31.933744</td>\n",
              "      <td>37.687927</td>\n",
              "      <td>1118.457165</td>\n",
              "    </tr>\n",
              "    <tr>\n",
              "      <th>204</th>\n",
              "      <td>205</td>\n",
              "      <td>1.001705</td>\n",
              "      <td>10.677583</td>\n",
              "      <td>187.901007</td>\n",
              "      <td>37.210723</td>\n",
              "      <td>31.452036</td>\n",
              "      <td>1302.040191</td>\n",
              "    </tr>\n",
              "  </tbody>\n",
              "</table>\n",
              "<p>205 rows × 7 columns</p>\n",
              "</div>\n",
              "      <button class=\"colab-df-convert\" onclick=\"convertToInteractive('df-595a5a5d-7e82-4ed8-99b1-ae6f387d9362')\"\n",
              "              title=\"Convert this dataframe to an interactive table.\"\n",
              "              style=\"display:none;\">\n",
              "        \n",
              "  <svg xmlns=\"http://www.w3.org/2000/svg\" height=\"24px\"viewBox=\"0 0 24 24\"\n",
              "       width=\"24px\">\n",
              "    <path d=\"M0 0h24v24H0V0z\" fill=\"none\"/>\n",
              "    <path d=\"M18.56 5.44l.94 2.06.94-2.06 2.06-.94-2.06-.94-.94-2.06-.94 2.06-2.06.94zm-11 1L8.5 8.5l.94-2.06 2.06-.94-2.06-.94L8.5 2.5l-.94 2.06-2.06.94zm10 10l.94 2.06.94-2.06 2.06-.94-2.06-.94-.94-2.06-.94 2.06-2.06.94z\"/><path d=\"M17.41 7.96l-1.37-1.37c-.4-.4-.92-.59-1.43-.59-.52 0-1.04.2-1.43.59L10.3 9.45l-7.72 7.72c-.78.78-.78 2.05 0 2.83L4 21.41c.39.39.9.59 1.41.59.51 0 1.02-.2 1.41-.59l7.78-7.78 2.81-2.81c.8-.78.8-2.07 0-2.86zM5.41 20L4 18.59l7.72-7.72 1.47 1.35L5.41 20z\"/>\n",
              "  </svg>\n",
              "      </button>\n",
              "      \n",
              "  <style>\n",
              "    .colab-df-container {\n",
              "      display:flex;\n",
              "      flex-wrap:wrap;\n",
              "      gap: 12px;\n",
              "    }\n",
              "\n",
              "    .colab-df-convert {\n",
              "      background-color: #E8F0FE;\n",
              "      border: none;\n",
              "      border-radius: 50%;\n",
              "      cursor: pointer;\n",
              "      display: none;\n",
              "      fill: #1967D2;\n",
              "      height: 32px;\n",
              "      padding: 0 0 0 0;\n",
              "      width: 32px;\n",
              "    }\n",
              "\n",
              "    .colab-df-convert:hover {\n",
              "      background-color: #E2EBFA;\n",
              "      box-shadow: 0px 1px 2px rgba(60, 64, 67, 0.3), 0px 1px 3px 1px rgba(60, 64, 67, 0.15);\n",
              "      fill: #174EA6;\n",
              "    }\n",
              "\n",
              "    [theme=dark] .colab-df-convert {\n",
              "      background-color: #3B4455;\n",
              "      fill: #D2E3FC;\n",
              "    }\n",
              "\n",
              "    [theme=dark] .colab-df-convert:hover {\n",
              "      background-color: #434B5C;\n",
              "      box-shadow: 0px 1px 3px 1px rgba(0, 0, 0, 0.15);\n",
              "      filter: drop-shadow(0px 1px 2px rgba(0, 0, 0, 0.3));\n",
              "      fill: #FFFFFF;\n",
              "    }\n",
              "  </style>\n",
              "\n",
              "      <script>\n",
              "        const buttonEl =\n",
              "          document.querySelector('#df-595a5a5d-7e82-4ed8-99b1-ae6f387d9362 button.colab-df-convert');\n",
              "        buttonEl.style.display =\n",
              "          google.colab.kernel.accessAllowed ? 'block' : 'none';\n",
              "\n",
              "        async function convertToInteractive(key) {\n",
              "          const element = document.querySelector('#df-595a5a5d-7e82-4ed8-99b1-ae6f387d9362');\n",
              "          const dataTable =\n",
              "            await google.colab.kernel.invokeFunction('convertToInteractive',\n",
              "                                                     [key], {});\n",
              "          if (!dataTable) return;\n",
              "\n",
              "          const docLinkHtml = 'Like what you see? Visit the ' +\n",
              "            '<a target=\"_blank\" href=https://colab.research.google.com/notebooks/data_table.ipynb>data table notebook</a>'\n",
              "            + ' to learn more about interactive tables.';\n",
              "          element.innerHTML = '';\n",
              "          dataTable['output_type'] = 'display_data';\n",
              "          await google.colab.output.renderOutput(dataTable, element);\n",
              "          const docLink = document.createElement('div');\n",
              "          docLink.innerHTML = docLinkHtml;\n",
              "          element.appendChild(docLink);\n",
              "        }\n",
              "      </script>\n",
              "    </div>\n",
              "  </div>\n",
              "  "
            ]
          },
          "metadata": {},
          "execution_count": 9
        }
      ]
    },
    {
      "cell_type": "code",
      "source": [
        "x2 = df2.values[:, range(1, 6)]  #A-Factor, B-Factor, C-Factor, D-Factor, and E-Factor are the independent variables. \n",
        "y2 = df2.values[:, 6]   #Growth Rate is the dependent variable."
      ],
      "metadata": {
        "id": "PGO49Me12oV4"
      },
      "execution_count": 10,
      "outputs": []
    },
    {
      "cell_type": "code",
      "source": [
        "print(x2)"
      ],
      "metadata": {
        "colab": {
          "base_uri": "https://localhost:8080/"
        },
        "id": "NWyLU0Mw29WI",
        "outputId": "bd522d34-acdd-4b1d-874f-c320811b0b7a"
      },
      "execution_count": 11,
      "outputs": [
        {
          "output_type": "stream",
          "name": "stdout",
          "text": [
            "[[ 12.91473238  40.2186559  143.736195    45.84246361  53.16969321]\n",
            " [  4.50438025  24.30315641 173.8445367   27.86661898  58.52002626]\n",
            " [  9.29220245  45.53943853 145.4773026   25.76164113   6.89569412]\n",
            " ...\n",
            " [ 15.85658639  37.57722787 186.1776806   35.23206647  60.10474448]\n",
            " [  2.80186692  24.07616066 121.0783237   31.93374383  37.6879265 ]\n",
            " [  1.00170544  10.67758347 187.9010069   37.21072323  31.45203646]]\n"
          ]
        }
      ]
    },
    {
      "cell_type": "code",
      "source": [
        "print(y2)"
      ],
      "metadata": {
        "colab": {
          "base_uri": "https://localhost:8080/"
        },
        "id": "W7WXyG7n3M6Y",
        "outputId": "600d70bb-7358-47f2-9a94-d7e29371f602"
      },
      "execution_count": 12,
      "outputs": [
        {
          "output_type": "stream",
          "name": "stdout",
          "text": [
            "[1103.426805  1198.142354  1304.980555  1162.769995   843.0452463\n",
            "  924.4022831 1172.665006  1154.333731  1124.338159  1159.4018\n",
            " 1175.209643  1114.873474   795.7162898 1144.101726  1089.25089\n",
            "  883.2013873  991.3522706 1226.142265  1217.151424   753.1780448\n",
            "  890.0906105 1122.339875   839.9721989 1143.498619   982.5462052\n",
            " 1149.353715  1082.624718  1027.1536     956.1186895 1010.906708\n",
            " 1068.887823   997.2229699  962.4278007  993.5393402 1321.04186\n",
            " 1195.977926  1319.062087  1164.045328  1182.673823  1238.704772\n",
            " 1192.242943  1344.64929   1172.489435  1100.97188    961.3663424\n",
            " 1114.264287  1125.681705  1021.345604  1194.572499  1104.221501\n",
            " 1123.008095  1111.415949  1147.181033  1144.440646  1072.919538\n",
            " 1145.626137   950.6720595 1191.290433  1353.575576  1125.851868\n",
            " 1318.589115  1199.734891  1157.823008  1076.767488  1026.915127\n",
            " 1061.91069   1181.669022  1154.248119  1080.424933   956.765601\n",
            "  819.3755877 1117.136425   977.1054333 1215.376102   879.4935286\n",
            " 1228.963534   806.5504951 1227.402563  1279.937708  1077.89731\n",
            " 1381.937077   970.8934593 1253.770161  1086.122861   950.4051448\n",
            " 1050.289839  1181.005207   752.2750027 1222.098193  1124.009282\n",
            " 1101.073414  1015.184816  1227.424338   973.5190863 1265.899124\n",
            " 1194.828754  1048.360547  1329.105331  1168.334983   967.7269308\n",
            " 1138.485147   927.8664195  982.2073043 1089.791374  1276.473728\n",
            " 1065.632053  1165.939933  1334.719756   955.6894637 1264.462591\n",
            " 1410.247755  1259.374547  1331.968347  1198.463954  1052.030133\n",
            " 1171.693349   876.7419656  996.8565174  991.5770297 1115.178542\n",
            " 1384.590332  1209.413597   927.3747167  933.4012462  966.4336419\n",
            " 1115.021359  1280.923868  1193.752746  1197.319859  1245.04216\n",
            " 1202.594476  1047.685757   975.5806431  903.7010432 1286.027308\n",
            " 1045.834006   877.1894399 1355.848183  1077.449075  1107.63314\n",
            " 1316.636128   988.6848342 1185.351142  1052.324395   929.1999827\n",
            " 1312.771734   876.3588543 1367.700048  1164.678139  1069.867155\n",
            "  882.3999785 1235.600324  1111.261856  1111.273519   874.7103983\n",
            " 1299.378783  1336.794518  1068.960651   825.5570745  933.5583788\n",
            " 1015.1003    1142.955557  1064.607435  1130.604821  1254.320739\n",
            " 1384.375289  1034.384656   949.269178   967.43153    832.5277474\n",
            " 1224.585933  1041.411583  1232.632951  1293.367285  1045.83972\n",
            "  868.3981833 1176.451459  1287.203133  1148.897954   867.5468789\n",
            "  959.9340484 1111.933528  1045.431494  1058.014695   983.591435\n",
            " 1124.585652  1189.601205  1176.385199  1052.219746  1082.829634\n",
            " 1028.021629  1227.407622  1052.1376    1078.674951  1427.560046\n",
            " 1199.68072    959.9582864  942.8961303 1301.774628  1017.355332\n",
            " 1086.237136  1241.906489  1169.961856  1118.457165  1302.040191 ]\n"
          ]
        }
      ]
    },
    {
      "cell_type": "code",
      "source": [
        "model_2 = LinearRegression().fit(x2, y2)\n",
        "print(model_2.intercept_)   #intercept of the model"
      ],
      "metadata": {
        "colab": {
          "base_uri": "https://localhost:8080/"
        },
        "id": "58QQ0HMd3YIg",
        "outputId": "6356da8d-e31c-44b2-89bc-c8c31739c52c"
      },
      "execution_count": 13,
      "outputs": [
        {
          "output_type": "stream",
          "name": "stdout",
          "text": [
            "800.0000001903576\n"
          ]
        }
      ]
    },
    {
      "cell_type": "markdown",
      "source": [
        "# QUESTION 4\n",
        "\n",
        "Looking at the coefficients of the model using GrowthData2.csv, order the independent variables based on their strength in influencing the Growth Rate? Place the most influential one first and the least influential one last. If two variables are equally influential to the Growth Rate, in that case, use the column name chronology to order. For example, if Factor-B and Factor-E influence the Growth Rate in equal amounts, then Factor-B should appear before Factor-E.\n",
        "\n",
        "\n",
        "-\n",
        " \n",
        "A-Factor\n",
        "\n",
        "\n",
        "\n",
        "-\n",
        " \n",
        "B-Factor\n",
        "\n",
        "\n",
        "\n",
        "-\n",
        " \n",
        "C-Factor\n",
        "\n",
        "\n",
        "\n",
        "-\n",
        " \n",
        "D-Factor\n",
        "\n",
        "\n",
        "\n",
        "-\n",
        " \n",
        "E-Factor\n",
        "\n"
      ],
      "metadata": {
        "id": "IpP68w494_3Y"
      }
    },
    {
      "cell_type": "markdown",
      "source": [
        "**A--> B--> C--> E--> D**"
      ],
      "metadata": {
        "id": "h-rHXrxM5lig"
      }
    },
    {
      "cell_type": "code",
      "source": [
        "print(model_2.coef_)  #co-efficient of growthdata2.CSV"
      ],
      "metadata": {
        "colab": {
          "base_uri": "https://localhost:8080/"
        },
        "id": "vXDDW-vf5B7x",
        "outputId": "75fbe750-06ab-4a47-a069-def17edf6ef9"
      },
      "execution_count": 14,
      "outputs": [
        {
          "output_type": "stream",
          "name": "stdout",
          "text": [
            "[-1.00000000e+01  4.00000000e+00  3.00000000e+00 -4.38021208e-09\n",
            " -3.00000000e+00]\n"
          ]
        }
      ]
    },
    {
      "cell_type": "code",
      "source": [
        "print(np.sort(model_2.coef_))"
      ],
      "metadata": {
        "colab": {
          "base_uri": "https://localhost:8080/"
        },
        "id": "efmIp5OL5Rbj",
        "outputId": "6954c7c8-57e2-4a8b-f6c5-a42be26c3a32"
      },
      "execution_count": 15,
      "outputs": [
        {
          "output_type": "stream",
          "name": "stdout",
          "text": [
            "[-1.00000000e+01 -3.00000000e+00 -4.38021208e-09  3.00000000e+00\n",
            "  4.00000000e+00]\n"
          ]
        }
      ]
    },
    {
      "cell_type": "code",
      "source": [
        "print(np.sort(abs(model_2.coef_))[::-1])"
      ],
      "metadata": {
        "colab": {
          "base_uri": "https://localhost:8080/"
        },
        "id": "1K_7K4zu5jJ0",
        "outputId": "43163e82-1f65-4f4f-c388-bff8c04e6e2f"
      },
      "execution_count": 16,
      "outputs": [
        {
          "output_type": "stream",
          "name": "stdout",
          "text": [
            "[1.00000000e+01 4.00000000e+00 3.00000000e+00 3.00000000e+00\n",
            " 4.38021208e-09]\n"
          ]
        }
      ]
    },
    {
      "cell_type": "markdown",
      "source": [
        "# QUESTION 3\n",
        "\n",
        "Which column has the least (most negligible) impact on the dependent variable of GrowthData2.csv?\n",
        "\n",
        "\t\t\n",
        "A-Factor\n",
        "\n",
        "\t\t\n",
        "B-Factor\n",
        "\n",
        "\t\t\n",
        "C-Factor\n",
        "\n",
        "\t\t\n",
        "D-Factor\n",
        "\n",
        "\t\t\n",
        "E-Factor"
      ],
      "metadata": {
        "id": "_ZHj2ghd4KV1"
      }
    },
    {
      "cell_type": "code",
      "source": [
        "x2 = df2.values[:, range(1, 6)]  #A-Factor, B-Factor, C-Factor, D-Factor, and E-Factor are the independent variables. \n",
        "y2 = df2.values[:, 6]   #Growth Rate is the dependent variable."
      ],
      "metadata": {
        "id": "Kl0TUEIt4MG9"
      },
      "execution_count": 17,
      "outputs": []
    },
    {
      "cell_type": "code",
      "source": [
        "print(model_2.coef_)  #co-efficient of growthdata2.CSV"
      ],
      "metadata": {
        "colab": {
          "base_uri": "https://localhost:8080/"
        },
        "id": "J6QJrdBcDsS6",
        "outputId": "ff390fa1-3125-43b8-d608-f9b1443302a5"
      },
      "execution_count": 18,
      "outputs": [
        {
          "output_type": "stream",
          "name": "stdout",
          "text": [
            "[-1.00000000e+01  4.00000000e+00  3.00000000e+00 -4.38021208e-09\n",
            " -3.00000000e+00]\n"
          ]
        }
      ]
    },
    {
      "cell_type": "code",
      "source": [
        "print(np.sort(model_2.coef_))"
      ],
      "metadata": {
        "colab": {
          "base_uri": "https://localhost:8080/"
        },
        "id": "h611hN32Dukf",
        "outputId": "42cfe096-ade0-4ea6-81d6-86b75989924f"
      },
      "execution_count": 19,
      "outputs": [
        {
          "output_type": "stream",
          "name": "stdout",
          "text": [
            "[-1.00000000e+01 -3.00000000e+00 -4.38021208e-09  3.00000000e+00\n",
            "  4.00000000e+00]\n"
          ]
        }
      ]
    },
    {
      "cell_type": "code",
      "source": [
        "print(np.sort(abs(model_2.coef_))[::-1])"
      ],
      "metadata": {
        "colab": {
          "base_uri": "https://localhost:8080/"
        },
        "id": "Tc1mdh4jDyt1",
        "outputId": "515af91d-c867-41f0-edb8-9010b6b14349"
      },
      "execution_count": 20,
      "outputs": [
        {
          "output_type": "stream",
          "name": "stdout",
          "text": [
            "[1.00000000e+01 4.00000000e+00 3.00000000e+00 3.00000000e+00\n",
            " 4.38021208e-09]\n"
          ]
        }
      ]
    },
    {
      "cell_type": "markdown",
      "source": [
        "# QUESTION 2\n",
        "\n",
        "For which of the variables in GrowthData2.csv, the growth rate decreases with higher values in the respective columns? \n",
        "\n",
        "\t\t\n",
        "A-Factor\n",
        "\n",
        "\t\t\n",
        "B-Factor\n",
        "\n",
        "\t\t\n",
        "C-Factor\n",
        "\n",
        "\t\t\n",
        "D-Factor\n",
        "\n",
        "\t\t\n",
        "E-Factor\n",
        "\n"
      ],
      "metadata": {
        "id": "7CCN1onOEM8G"
      }
    },
    {
      "cell_type": "markdown",
      "source": [
        "**A, B, C**"
      ],
      "metadata": {
        "id": "Mol5D4NpEjOA"
      }
    },
    {
      "cell_type": "code",
      "source": [
        "print(np.sort(model_2.coef_))"
      ],
      "metadata": {
        "colab": {
          "base_uri": "https://localhost:8080/"
        },
        "id": "5jHlC1AjEba_",
        "outputId": "41a9333b-5e69-4338-f487-7f43e9a14770"
      },
      "execution_count": 22,
      "outputs": [
        {
          "output_type": "stream",
          "name": "stdout",
          "text": [
            "[-1.00000000e+01 -3.00000000e+00 -4.38021208e-09  3.00000000e+00\n",
            "  4.00000000e+00]\n"
          ]
        }
      ]
    },
    {
      "cell_type": "markdown",
      "source": [
        "# Growth-Data1.CSV"
      ],
      "metadata": {
        "id": "nKT1beUE6OV6"
      }
    },
    {
      "cell_type": "markdown",
      "source": [
        "# QUESTION 6\n",
        "\n",
        "Order the samples P, Q, R, S, and T based on their predicted Growth Rates when using the linear regression model of GrowthData1.csv. The sample ID of the highest predicted Growth Rate should appear earliest in the sequence in the ordering. "
      ],
      "metadata": {
        "id": "PQFjJ-iMEyr8"
      }
    },
    {
      "cell_type": "code",
      "source": [
        "df1 = pd.read_csv(\"GrowthData2.csv\")\n",
        "df1"
      ],
      "metadata": {
        "colab": {
          "base_uri": "https://localhost:8080/",
          "height": 423
        },
        "id": "b3eO1m5L6R1u",
        "outputId": "8ed23b21-e32f-49b8-f9cd-6cd7ccab6b5e"
      },
      "execution_count": 23,
      "outputs": [
        {
          "output_type": "execute_result",
          "data": {
            "text/plain": [
              "      ID   A-Factor   B-Factor    C-Factor   D-Factor   E-Factor  Growth Rate\n",
              "0      1  12.914732  40.218656  143.736195  45.842464  53.169693  1103.426805\n",
              "1      2   4.504380  24.303156  173.844537  27.866619  58.520026  1198.142354\n",
              "2      3   9.292202  45.539439  145.477303  25.761641   6.895694  1304.980555\n",
              "3      4  11.249013  10.913801  153.936826  30.928504  10.068521  1162.769995\n",
              "4      5  16.666415  17.009242  113.560090  49.597200  66.335946   843.045246\n",
              "..   ...        ...        ...         ...        ...        ...          ...\n",
              "200  201   8.708230  27.835302  136.817074  46.395797  49.490998  1086.237136\n",
              "201  202   2.264980  16.166851  150.263422  26.714477  16.967128  1241.906489\n",
              "202  203  15.856586  37.577228  186.177681  35.232066  60.104744  1169.961856\n",
              "203  204   2.801867  24.076161  121.078324  31.933744  37.687927  1118.457165\n",
              "204  205   1.001705  10.677583  187.901007  37.210723  31.452036  1302.040191\n",
              "\n",
              "[205 rows x 7 columns]"
            ],
            "text/html": [
              "\n",
              "  <div id=\"df-090cf9b6-6cbd-4746-8660-23a29c169fa8\">\n",
              "    <div class=\"colab-df-container\">\n",
              "      <div>\n",
              "<style scoped>\n",
              "    .dataframe tbody tr th:only-of-type {\n",
              "        vertical-align: middle;\n",
              "    }\n",
              "\n",
              "    .dataframe tbody tr th {\n",
              "        vertical-align: top;\n",
              "    }\n",
              "\n",
              "    .dataframe thead th {\n",
              "        text-align: right;\n",
              "    }\n",
              "</style>\n",
              "<table border=\"1\" class=\"dataframe\">\n",
              "  <thead>\n",
              "    <tr style=\"text-align: right;\">\n",
              "      <th></th>\n",
              "      <th>ID</th>\n",
              "      <th>A-Factor</th>\n",
              "      <th>B-Factor</th>\n",
              "      <th>C-Factor</th>\n",
              "      <th>D-Factor</th>\n",
              "      <th>E-Factor</th>\n",
              "      <th>Growth Rate</th>\n",
              "    </tr>\n",
              "  </thead>\n",
              "  <tbody>\n",
              "    <tr>\n",
              "      <th>0</th>\n",
              "      <td>1</td>\n",
              "      <td>12.914732</td>\n",
              "      <td>40.218656</td>\n",
              "      <td>143.736195</td>\n",
              "      <td>45.842464</td>\n",
              "      <td>53.169693</td>\n",
              "      <td>1103.426805</td>\n",
              "    </tr>\n",
              "    <tr>\n",
              "      <th>1</th>\n",
              "      <td>2</td>\n",
              "      <td>4.504380</td>\n",
              "      <td>24.303156</td>\n",
              "      <td>173.844537</td>\n",
              "      <td>27.866619</td>\n",
              "      <td>58.520026</td>\n",
              "      <td>1198.142354</td>\n",
              "    </tr>\n",
              "    <tr>\n",
              "      <th>2</th>\n",
              "      <td>3</td>\n",
              "      <td>9.292202</td>\n",
              "      <td>45.539439</td>\n",
              "      <td>145.477303</td>\n",
              "      <td>25.761641</td>\n",
              "      <td>6.895694</td>\n",
              "      <td>1304.980555</td>\n",
              "    </tr>\n",
              "    <tr>\n",
              "      <th>3</th>\n",
              "      <td>4</td>\n",
              "      <td>11.249013</td>\n",
              "      <td>10.913801</td>\n",
              "      <td>153.936826</td>\n",
              "      <td>30.928504</td>\n",
              "      <td>10.068521</td>\n",
              "      <td>1162.769995</td>\n",
              "    </tr>\n",
              "    <tr>\n",
              "      <th>4</th>\n",
              "      <td>5</td>\n",
              "      <td>16.666415</td>\n",
              "      <td>17.009242</td>\n",
              "      <td>113.560090</td>\n",
              "      <td>49.597200</td>\n",
              "      <td>66.335946</td>\n",
              "      <td>843.045246</td>\n",
              "    </tr>\n",
              "    <tr>\n",
              "      <th>...</th>\n",
              "      <td>...</td>\n",
              "      <td>...</td>\n",
              "      <td>...</td>\n",
              "      <td>...</td>\n",
              "      <td>...</td>\n",
              "      <td>...</td>\n",
              "      <td>...</td>\n",
              "    </tr>\n",
              "    <tr>\n",
              "      <th>200</th>\n",
              "      <td>201</td>\n",
              "      <td>8.708230</td>\n",
              "      <td>27.835302</td>\n",
              "      <td>136.817074</td>\n",
              "      <td>46.395797</td>\n",
              "      <td>49.490998</td>\n",
              "      <td>1086.237136</td>\n",
              "    </tr>\n",
              "    <tr>\n",
              "      <th>201</th>\n",
              "      <td>202</td>\n",
              "      <td>2.264980</td>\n",
              "      <td>16.166851</td>\n",
              "      <td>150.263422</td>\n",
              "      <td>26.714477</td>\n",
              "      <td>16.967128</td>\n",
              "      <td>1241.906489</td>\n",
              "    </tr>\n",
              "    <tr>\n",
              "      <th>202</th>\n",
              "      <td>203</td>\n",
              "      <td>15.856586</td>\n",
              "      <td>37.577228</td>\n",
              "      <td>186.177681</td>\n",
              "      <td>35.232066</td>\n",
              "      <td>60.104744</td>\n",
              "      <td>1169.961856</td>\n",
              "    </tr>\n",
              "    <tr>\n",
              "      <th>203</th>\n",
              "      <td>204</td>\n",
              "      <td>2.801867</td>\n",
              "      <td>24.076161</td>\n",
              "      <td>121.078324</td>\n",
              "      <td>31.933744</td>\n",
              "      <td>37.687927</td>\n",
              "      <td>1118.457165</td>\n",
              "    </tr>\n",
              "    <tr>\n",
              "      <th>204</th>\n",
              "      <td>205</td>\n",
              "      <td>1.001705</td>\n",
              "      <td>10.677583</td>\n",
              "      <td>187.901007</td>\n",
              "      <td>37.210723</td>\n",
              "      <td>31.452036</td>\n",
              "      <td>1302.040191</td>\n",
              "    </tr>\n",
              "  </tbody>\n",
              "</table>\n",
              "<p>205 rows × 7 columns</p>\n",
              "</div>\n",
              "      <button class=\"colab-df-convert\" onclick=\"convertToInteractive('df-090cf9b6-6cbd-4746-8660-23a29c169fa8')\"\n",
              "              title=\"Convert this dataframe to an interactive table.\"\n",
              "              style=\"display:none;\">\n",
              "        \n",
              "  <svg xmlns=\"http://www.w3.org/2000/svg\" height=\"24px\"viewBox=\"0 0 24 24\"\n",
              "       width=\"24px\">\n",
              "    <path d=\"M0 0h24v24H0V0z\" fill=\"none\"/>\n",
              "    <path d=\"M18.56 5.44l.94 2.06.94-2.06 2.06-.94-2.06-.94-.94-2.06-.94 2.06-2.06.94zm-11 1L8.5 8.5l.94-2.06 2.06-.94-2.06-.94L8.5 2.5l-.94 2.06-2.06.94zm10 10l.94 2.06.94-2.06 2.06-.94-2.06-.94-.94-2.06-.94 2.06-2.06.94z\"/><path d=\"M17.41 7.96l-1.37-1.37c-.4-.4-.92-.59-1.43-.59-.52 0-1.04.2-1.43.59L10.3 9.45l-7.72 7.72c-.78.78-.78 2.05 0 2.83L4 21.41c.39.39.9.59 1.41.59.51 0 1.02-.2 1.41-.59l7.78-7.78 2.81-2.81c.8-.78.8-2.07 0-2.86zM5.41 20L4 18.59l7.72-7.72 1.47 1.35L5.41 20z\"/>\n",
              "  </svg>\n",
              "      </button>\n",
              "      \n",
              "  <style>\n",
              "    .colab-df-container {\n",
              "      display:flex;\n",
              "      flex-wrap:wrap;\n",
              "      gap: 12px;\n",
              "    }\n",
              "\n",
              "    .colab-df-convert {\n",
              "      background-color: #E8F0FE;\n",
              "      border: none;\n",
              "      border-radius: 50%;\n",
              "      cursor: pointer;\n",
              "      display: none;\n",
              "      fill: #1967D2;\n",
              "      height: 32px;\n",
              "      padding: 0 0 0 0;\n",
              "      width: 32px;\n",
              "    }\n",
              "\n",
              "    .colab-df-convert:hover {\n",
              "      background-color: #E2EBFA;\n",
              "      box-shadow: 0px 1px 2px rgba(60, 64, 67, 0.3), 0px 1px 3px 1px rgba(60, 64, 67, 0.15);\n",
              "      fill: #174EA6;\n",
              "    }\n",
              "\n",
              "    [theme=dark] .colab-df-convert {\n",
              "      background-color: #3B4455;\n",
              "      fill: #D2E3FC;\n",
              "    }\n",
              "\n",
              "    [theme=dark] .colab-df-convert:hover {\n",
              "      background-color: #434B5C;\n",
              "      box-shadow: 0px 1px 3px 1px rgba(0, 0, 0, 0.15);\n",
              "      filter: drop-shadow(0px 1px 2px rgba(0, 0, 0, 0.3));\n",
              "      fill: #FFFFFF;\n",
              "    }\n",
              "  </style>\n",
              "\n",
              "      <script>\n",
              "        const buttonEl =\n",
              "          document.querySelector('#df-090cf9b6-6cbd-4746-8660-23a29c169fa8 button.colab-df-convert');\n",
              "        buttonEl.style.display =\n",
              "          google.colab.kernel.accessAllowed ? 'block' : 'none';\n",
              "\n",
              "        async function convertToInteractive(key) {\n",
              "          const element = document.querySelector('#df-090cf9b6-6cbd-4746-8660-23a29c169fa8');\n",
              "          const dataTable =\n",
              "            await google.colab.kernel.invokeFunction('convertToInteractive',\n",
              "                                                     [key], {});\n",
              "          if (!dataTable) return;\n",
              "\n",
              "          const docLinkHtml = 'Like what you see? Visit the ' +\n",
              "            '<a target=\"_blank\" href=https://colab.research.google.com/notebooks/data_table.ipynb>data table notebook</a>'\n",
              "            + ' to learn more about interactive tables.';\n",
              "          element.innerHTML = '';\n",
              "          dataTable['output_type'] = 'display_data';\n",
              "          await google.colab.output.renderOutput(dataTable, element);\n",
              "          const docLink = document.createElement('div');\n",
              "          docLink.innerHTML = docLinkHtml;\n",
              "          element.appendChild(docLink);\n",
              "        }\n",
              "      </script>\n",
              "    </div>\n",
              "  </div>\n",
              "  "
            ]
          },
          "metadata": {},
          "execution_count": 23
        }
      ]
    },
    {
      "cell_type": "code",
      "source": [
        "X1 = df1.values[:, range(1, 6)]\n",
        "y1 = df1.values[:, 6]"
      ],
      "metadata": {
        "id": "Xxg7uORWFqt2"
      },
      "execution_count": 24,
      "outputs": []
    },
    {
      "cell_type": "code",
      "source": [
        "model_1 = LinearRegression().fit(X1, y1)"
      ],
      "metadata": {
        "id": "3b4vAVYpFs6w"
      },
      "execution_count": 25,
      "outputs": []
    },
    {
      "cell_type": "code",
      "source": [
        "model_1.intercept_"
      ],
      "metadata": {
        "colab": {
          "base_uri": "https://localhost:8080/"
        },
        "id": "5esPRns_Fuhd",
        "outputId": "d4d1ad54-b4f4-4f80-9a9a-cc30817cb14d"
      },
      "execution_count": 26,
      "outputs": [
        {
          "output_type": "execute_result",
          "data": {
            "text/plain": [
              "800.0000001903576"
            ]
          },
          "metadata": {},
          "execution_count": 26
        }
      ]
    },
    {
      "cell_type": "code",
      "source": [
        "print(model_1.coef_)"
      ],
      "metadata": {
        "colab": {
          "base_uri": "https://localhost:8080/"
        },
        "id": "wRW5fm95F06g",
        "outputId": "767ecb79-0ab4-498a-be8d-439e0bceb521"
      },
      "execution_count": 27,
      "outputs": [
        {
          "output_type": "stream",
          "name": "stdout",
          "text": [
            "[-1.00000000e+01  4.00000000e+00  3.00000000e+00 -4.38021208e-09\n",
            " -3.00000000e+00]\n"
          ]
        }
      ]
    },
    {
      "cell_type": "code",
      "source": [
        "print(np.sort(abs(model_1.coef_))[::-1])"
      ],
      "metadata": {
        "colab": {
          "base_uri": "https://localhost:8080/"
        },
        "id": "fcFySyaAF3ug",
        "outputId": "9e5d0dd7-2fe5-448c-8f6a-f1305dabfb5a"
      },
      "execution_count": 28,
      "outputs": [
        {
          "output_type": "stream",
          "name": "stdout",
          "text": [
            "[1.00000000e+01 4.00000000e+00 3.00000000e+00 3.00000000e+00\n",
            " 4.38021208e-09]\n"
          ]
        }
      ]
    }
  ]
}