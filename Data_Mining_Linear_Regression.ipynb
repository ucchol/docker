{
  "nbformat": 4,
  "nbformat_minor": 0,
  "metadata": {
    "colab": {
      "provenance": [],
      "authorship_tag": "ABX9TyPDvY/ZsP6kxsHRIawHHgvh",
      "include_colab_link": true
    },
    "kernelspec": {
      "name": "python3",
      "display_name": "Python 3"
    },
    "language_info": {
      "name": "python"
    }
  },
  "cells": [
    {
      "cell_type": "markdown",
      "metadata": {
        "id": "view-in-github",
        "colab_type": "text"
      },
      "source": [
        "<a href=\"https://colab.research.google.com/github/ucchol/docker/blob/Data-Mining/Data_Mining_Linear_Regression.ipynb\" target=\"_parent\"><img src=\"https://colab.research.google.com/assets/colab-badge.svg\" alt=\"Open In Colab\"/></a>"
      ]
    },
    {
      "cell_type": "code",
      "execution_count": null,
      "metadata": {
        "id": "lHn7vddHo1y9"
      },
      "outputs": [],
      "source": [
        "import numpy as np\n",
        "import pandas as pd\n",
        "import matplotlib.pyplot as plt\n",
        "from sklearn.linear_model import LinearRegression"
      ]
    },
    {
      "cell_type": "code",
      "source": [
        "from google.colab import files\n",
        "uploaded= files.upload()"
      ],
      "metadata": {
        "colab": {
          "base_uri": "https://localhost:8080/",
          "height": 212
        },
        "id": "tRmmKDiSqhvL",
        "outputId": "80f043a5-dd92-404d-c90d-9c194162a7db"
      },
      "execution_count": null,
      "outputs": [
        {
          "output_type": "display_data",
          "data": {
            "text/plain": [
              "<IPython.core.display.HTML object>"
            ],
            "text/html": [
              "\n",
              "     <input type=\"file\" id=\"files-6ee6c469-cd98-48ce-8c25-93220f09ab1b\" name=\"files[]\" multiple disabled\n",
              "        style=\"border:none\" />\n",
              "     <output id=\"result-6ee6c469-cd98-48ce-8c25-93220f09ab1b\">\n",
              "      Upload widget is only available when the cell has been executed in the\n",
              "      current browser session. Please rerun this cell to enable.\n",
              "      </output>\n",
              "      <script>// Copyright 2017 Google LLC\n",
              "//\n",
              "// Licensed under the Apache License, Version 2.0 (the \"License\");\n",
              "// you may not use this file except in compliance with the License.\n",
              "// You may obtain a copy of the License at\n",
              "//\n",
              "//      http://www.apache.org/licenses/LICENSE-2.0\n",
              "//\n",
              "// Unless required by applicable law or agreed to in writing, software\n",
              "// distributed under the License is distributed on an \"AS IS\" BASIS,\n",
              "// WITHOUT WARRANTIES OR CONDITIONS OF ANY KIND, either express or implied.\n",
              "// See the License for the specific language governing permissions and\n",
              "// limitations under the License.\n",
              "\n",
              "/**\n",
              " * @fileoverview Helpers for google.colab Python module.\n",
              " */\n",
              "(function(scope) {\n",
              "function span(text, styleAttributes = {}) {\n",
              "  const element = document.createElement('span');\n",
              "  element.textContent = text;\n",
              "  for (const key of Object.keys(styleAttributes)) {\n",
              "    element.style[key] = styleAttributes[key];\n",
              "  }\n",
              "  return element;\n",
              "}\n",
              "\n",
              "// Max number of bytes which will be uploaded at a time.\n",
              "const MAX_PAYLOAD_SIZE = 100 * 1024;\n",
              "\n",
              "function _uploadFiles(inputId, outputId) {\n",
              "  const steps = uploadFilesStep(inputId, outputId);\n",
              "  const outputElement = document.getElementById(outputId);\n",
              "  // Cache steps on the outputElement to make it available for the next call\n",
              "  // to uploadFilesContinue from Python.\n",
              "  outputElement.steps = steps;\n",
              "\n",
              "  return _uploadFilesContinue(outputId);\n",
              "}\n",
              "\n",
              "// This is roughly an async generator (not supported in the browser yet),\n",
              "// where there are multiple asynchronous steps and the Python side is going\n",
              "// to poll for completion of each step.\n",
              "// This uses a Promise to block the python side on completion of each step,\n",
              "// then passes the result of the previous step as the input to the next step.\n",
              "function _uploadFilesContinue(outputId) {\n",
              "  const outputElement = document.getElementById(outputId);\n",
              "  const steps = outputElement.steps;\n",
              "\n",
              "  const next = steps.next(outputElement.lastPromiseValue);\n",
              "  return Promise.resolve(next.value.promise).then((value) => {\n",
              "    // Cache the last promise value to make it available to the next\n",
              "    // step of the generator.\n",
              "    outputElement.lastPromiseValue = value;\n",
              "    return next.value.response;\n",
              "  });\n",
              "}\n",
              "\n",
              "/**\n",
              " * Generator function which is called between each async step of the upload\n",
              " * process.\n",
              " * @param {string} inputId Element ID of the input file picker element.\n",
              " * @param {string} outputId Element ID of the output display.\n",
              " * @return {!Iterable<!Object>} Iterable of next steps.\n",
              " */\n",
              "function* uploadFilesStep(inputId, outputId) {\n",
              "  const inputElement = document.getElementById(inputId);\n",
              "  inputElement.disabled = false;\n",
              "\n",
              "  const outputElement = document.getElementById(outputId);\n",
              "  outputElement.innerHTML = '';\n",
              "\n",
              "  const pickedPromise = new Promise((resolve) => {\n",
              "    inputElement.addEventListener('change', (e) => {\n",
              "      resolve(e.target.files);\n",
              "    });\n",
              "  });\n",
              "\n",
              "  const cancel = document.createElement('button');\n",
              "  inputElement.parentElement.appendChild(cancel);\n",
              "  cancel.textContent = 'Cancel upload';\n",
              "  const cancelPromise = new Promise((resolve) => {\n",
              "    cancel.onclick = () => {\n",
              "      resolve(null);\n",
              "    };\n",
              "  });\n",
              "\n",
              "  // Wait for the user to pick the files.\n",
              "  const files = yield {\n",
              "    promise: Promise.race([pickedPromise, cancelPromise]),\n",
              "    response: {\n",
              "      action: 'starting',\n",
              "    }\n",
              "  };\n",
              "\n",
              "  cancel.remove();\n",
              "\n",
              "  // Disable the input element since further picks are not allowed.\n",
              "  inputElement.disabled = true;\n",
              "\n",
              "  if (!files) {\n",
              "    return {\n",
              "      response: {\n",
              "        action: 'complete',\n",
              "      }\n",
              "    };\n",
              "  }\n",
              "\n",
              "  for (const file of files) {\n",
              "    const li = document.createElement('li');\n",
              "    li.append(span(file.name, {fontWeight: 'bold'}));\n",
              "    li.append(span(\n",
              "        `(${file.type || 'n/a'}) - ${file.size} bytes, ` +\n",
              "        `last modified: ${\n",
              "            file.lastModifiedDate ? file.lastModifiedDate.toLocaleDateString() :\n",
              "                                    'n/a'} - `));\n",
              "    const percent = span('0% done');\n",
              "    li.appendChild(percent);\n",
              "\n",
              "    outputElement.appendChild(li);\n",
              "\n",
              "    const fileDataPromise = new Promise((resolve) => {\n",
              "      const reader = new FileReader();\n",
              "      reader.onload = (e) => {\n",
              "        resolve(e.target.result);\n",
              "      };\n",
              "      reader.readAsArrayBuffer(file);\n",
              "    });\n",
              "    // Wait for the data to be ready.\n",
              "    let fileData = yield {\n",
              "      promise: fileDataPromise,\n",
              "      response: {\n",
              "        action: 'continue',\n",
              "      }\n",
              "    };\n",
              "\n",
              "    // Use a chunked sending to avoid message size limits. See b/62115660.\n",
              "    let position = 0;\n",
              "    do {\n",
              "      const length = Math.min(fileData.byteLength - position, MAX_PAYLOAD_SIZE);\n",
              "      const chunk = new Uint8Array(fileData, position, length);\n",
              "      position += length;\n",
              "\n",
              "      const base64 = btoa(String.fromCharCode.apply(null, chunk));\n",
              "      yield {\n",
              "        response: {\n",
              "          action: 'append',\n",
              "          file: file.name,\n",
              "          data: base64,\n",
              "        },\n",
              "      };\n",
              "\n",
              "      let percentDone = fileData.byteLength === 0 ?\n",
              "          100 :\n",
              "          Math.round((position / fileData.byteLength) * 100);\n",
              "      percent.textContent = `${percentDone}% done`;\n",
              "\n",
              "    } while (position < fileData.byteLength);\n",
              "  }\n",
              "\n",
              "  // All done.\n",
              "  yield {\n",
              "    response: {\n",
              "      action: 'complete',\n",
              "    }\n",
              "  };\n",
              "}\n",
              "\n",
              "scope.google = scope.google || {};\n",
              "scope.google.colab = scope.google.colab || {};\n",
              "scope.google.colab._files = {\n",
              "  _uploadFiles,\n",
              "  _uploadFilesContinue,\n",
              "};\n",
              "})(self);\n",
              "</script> "
            ]
          },
          "metadata": {}
        },
        {
          "output_type": "stream",
          "name": "stdout",
          "text": [
            "Saving 16189299.txt to 16189299.txt\n",
            "Saving pecan yield.txt to pecan yield.txt\n",
            "Saving pecan.txt to pecan.txt\n",
            "Saving Pecan-TestDataForClassification.csv to Pecan-TestDataForClassification.csv\n",
            "Saving Pecan-ForClassification.csv to Pecan-ForClassification.csv\n"
          ]
        }
      ]
    },
    {
      "cell_type": "code",
      "source": [
        "df= pd.read_csv(\"pecan yield.txt\", delimiter=\"\\t\")"
      ],
      "metadata": {
        "id": "9KQUCAunqfmE"
      },
      "execution_count": null,
      "outputs": []
    },
    {
      "cell_type": "code",
      "source": [
        "df.info"
      ],
      "metadata": {
        "colab": {
          "base_uri": "https://localhost:8080/"
        },
        "id": "e94YzniErGSD",
        "outputId": "247cfb6b-5d35-4ae8-f029-f1af5837e9ab"
      },
      "execution_count": null,
      "outputs": [
        {
          "output_type": "execute_result",
          "data": {
            "text/plain": [
              "<bound method DataFrame.info of     Row ID  Water per acre  Salinity level  Fertilizer per acre  Pecan Yield\n",
              "0        1       73.755887       19.262253            46.412574   430.414973\n",
              "1        2       90.000000       12.000000            52.000000   495.000000\n",
              "2        3       83.051785       15.534284            49.958661   458.673526\n",
              "3        4       68.138954       22.156736            42.896806   426.880693\n",
              "4        5       61.233635       29.555770            40.581353   368.811742\n",
              "5        6      100.000000       10.000000            50.000000   500.000000\n",
              "6        7       49.048561       32.558373            31.671478   323.470077\n",
              "7        8       53.363203       24.447177            32.462484   355.562001\n",
              "8        9      102.110613       17.815800            60.147614   508.655293\n",
              "9       10       55.705258       36.486785            38.330343   338.984970\n",
              "10      11       51.064143       34.337543            33.847856   332.695248\n",
              "11      12       86.711979       22.397252            50.997799   447.065278\n",
              "12      13       59.057279       28.481459            38.297833   365.577799\n",
              "13      14       99.683937       22.803954            61.620698   490.291742\n",
              "14      15       93.269664       21.046636            57.085345   483.070750\n",
              "15      16      103.803027       18.522000            65.705308   518.412913\n",
              "16      17      104.184416       18.992306            68.562183   525.373926\n",
              "17      18       64.365744       20.806072            40.574305   401.755201\n",
              "18      19       73.806218       24.354478            45.467258   443.413591\n",
              "19      20       95.421366       21.929742            59.097497   487.610169\n",
              "20      21       95.308002       14.174447            56.241523   499.570698\n",
              "21      22       85.084074       17.137529            51.167830   466.332158\n",
              "22      23       70.730311       23.328608            45.028976   440.427076\n",
              "23      24       70.135015       18.346816            45.676838   427.891866\n",
              "24      25       65.485063       30.522244            42.852280   376.045106\n",
              "25      26       80.000000       15.000000            48.000000   450.000000\n",
              "26      27      111.788710       16.957951            60.898500   535.805848\n",
              "27      28       57.465808       28.406400            37.292158   363.997376\n",
              "28      29       66.514148       22.076110            41.772727   417.590903\n",
              "29      30      103.949462       11.588332            52.783113   503.137672\n",
              "30      31      107.668275       14.029502            56.122085   512.982334\n",
              "31      32       40.000000       27.000000            25.000000   310.000000\n",
              "32      33       93.604819       13.251688            54.747217   498.150976\n",
              "33      34       46.829226       30.565075            29.226876   316.751222\n",
              "34      35      102.840317       17.888550            63.040953   510.186496\n",
              "35      36       52.308672       35.671419            36.208172   337.801814\n",
              "36      37       70.000000       18.000000            45.000000   420.000000\n",
              "37      38       55.419496       27.255161            34.617959   363.205382\n",
              "38      39       79.907342       20.765473            49.763432   438.481829\n",
              "39      40      115.559116       17.212716            62.634097   543.797960\n",
              "40      41       60.000000       20.000000            40.000000   400.000000\n",
              "41      42       59.665052       37.613970            38.865891   348.978582\n",
              "42      43       53.425874       26.114349            32.835706   355.629466\n",
              "43      44       91.255560       23.451654            53.779698   447.671900\n",
              "44      45       43.150619       28.591686            27.695908   314.395353\n",
              "45      46       69.570882       23.159977            44.757309   432.645870\n",
              "46      47      104.929153       12.812808            53.296735   504.862589\n",
              "47      48       75.301620       19.535504            48.242166   436.906113\n",
              "48      49      111.736443       15.876813            58.936530   529.561755\n",
              "49      50       65.802164       21.558449            41.176247   409.078253\n",
              "50      51       90.871374       19.927759            55.994568   477.735369\n",
              "51      52       87.998959       18.252209            53.786407   472.085704\n",
              "52      53       82.505854       21.938086            49.884220   446.430830\n",
              "53      54      109.995923       14.731115            56.133076   519.877981\n",
              "54      55       50.000000       23.000000            30.000000   350.000000\n",
              "55      56       97.359748       15.832888            58.201160   508.599553>"
            ]
          },
          "metadata": {},
          "execution_count": 6
        }
      ]
    },
    {
      "cell_type": "code",
      "source": [
        "plt.scatter(df['Salinity level'], df['Pecan Yield'])"
      ],
      "metadata": {
        "colab": {
          "base_uri": "https://localhost:8080/",
          "height": 282
        },
        "id": "MRY8Dqdirb5h",
        "outputId": "923979b1-72b3-4845-a938-49bb28841153"
      },
      "execution_count": null,
      "outputs": [
        {
          "output_type": "execute_result",
          "data": {
            "text/plain": [
              "<matplotlib.collections.PathCollection at 0x7f1df5553460>"
            ]
          },
          "metadata": {},
          "execution_count": 8
        },
        {
          "output_type": "display_data",
          "data": {
            "text/plain": [
              "<Figure size 432x288 with 1 Axes>"
            ],
            "image/png": "[encoded data removed]"
          },
          "metadata": {
            "needs_background": "light"
          }
        }
      ]
    },
    {
      "cell_type": "markdown",
      "source": [
        "The relationship here is negative, as with the X(salinity Level) increases, Y(Pecan Yield) decreses"
      ],
      "metadata": {
        "id": "2Hj47YUCrxDG"
      }
    },
    {
      "cell_type": "code",
      "source": [
        "plt.scatter(df['Water per acre'], df['Pecan Yield'])"
      ],
      "metadata": {
        "colab": {
          "base_uri": "https://localhost:8080/",
          "height": 282
        },
        "id": "-RGyxqaHr3xq",
        "outputId": "a4831f43-ec57-4511-cb28-e268594661a3"
      },
      "execution_count": null,
      "outputs": [
        {
          "output_type": "execute_result",
          "data": {
            "text/plain": [
              "<matplotlib.collections.PathCollection at 0x7f1df50a3850>"
            ]
          },
          "metadata": {},
          "execution_count": 9
        },
        {
          "output_type": "display_data",
          "data": {
            "text/plain": [
              "<Figure size 432x288 with 1 Axes>"
            ],
            "image/png": "[encoded data removed]"
          },
          "metadata": {
            "needs_background": "light"
          }
        }
      ]
    },
    {
      "cell_type": "markdown",
      "source": [
        "Here the relationship is positive. "
      ],
      "metadata": {
        "id": "rN0yu1iksKRD"
      }
    },
    {
      "cell_type": "code",
      "source": [
        "plt.scatter(df['Fertilizer per acre'], df['Pecan Yield'])"
      ],
      "metadata": {
        "colab": {
          "base_uri": "https://localhost:8080/",
          "height": 282
        },
        "id": "BhlrRa7PsVGv",
        "outputId": "02ffa4c3-0ce7-4792-e642-236308532616"
      },
      "execution_count": null,
      "outputs": [
        {
          "output_type": "execute_result",
          "data": {
            "text/plain": [
              "<matplotlib.collections.PathCollection at 0x7f1df51a6190>"
            ]
          },
          "metadata": {},
          "execution_count": 11
        },
        {
          "output_type": "display_data",
          "data": {
            "text/plain": [
              "<Figure size 432x288 with 1 Axes>"
            ],
            "image/png": "[encoded data removed]"
          },
          "metadata": {
            "needs_background": "light"
          }
        }
      ]
    },
    {
      "cell_type": "code",
      "source": [
        "plt.scatter(df['Row ID'], df['Pecan Yield'])"
      ],
      "metadata": {
        "colab": {
          "base_uri": "https://localhost:8080/",
          "height": 282
        },
        "id": "VVfqYKvOsgnm",
        "outputId": "95ddf3bc-d9f8-465b-8545-2e9662a84f7f"
      },
      "execution_count": null,
      "outputs": [
        {
          "output_type": "execute_result",
          "data": {
            "text/plain": [
              "<matplotlib.collections.PathCollection at 0x7f1df4e43d90>"
            ]
          },
          "metadata": {},
          "execution_count": 12
        },
        {
          "output_type": "display_data",
          "data": {
            "text/plain": [
              "<Figure size 432x288 with 1 Axes>"
            ],
            "image/png": "[encoded data removed]"
          },
          "metadata": {
            "needs_background": "light"
          }
        }
      ]
    },
    {
      "cell_type": "markdown",
      "source": [
        "So there is no relation with row ID for the pecan yield unlike other rows."
      ],
      "metadata": {
        "id": "f2ZxApM9skpj"
      }
    },
    {
      "cell_type": "code",
      "source": [
        "#the following will return a two dimensional array\n",
        "X= df.values[:, range(1, 4)] # from column 1 to 3\n",
        "y=df.values[:, 4]"
      ],
      "metadata": {
        "id": "Rz_MRv2Hsrhz"
      },
      "execution_count": null,
      "outputs": []
    },
    {
      "cell_type": "code",
      "source": [
        "#we will get three co-efficient and one intercept from the model\n",
        "model = LinearRegression().fit(X,y)"
      ],
      "metadata": {
        "id": "xEjG-KOAtnLq"
      },
      "execution_count": null,
      "outputs": []
    },
    {
      "cell_type": "code",
      "source": [
        "model.coef_"
      ],
      "metadata": {
        "colab": {
          "base_uri": "https://localhost:8080/"
        },
        "id": "PJzTQGAKuLTZ",
        "outputId": "1d7dd6d8-c8cf-474e-9783-be61e8e7a5c7"
      },
      "execution_count": null,
      "outputs": [
        {
          "output_type": "execute_result",
          "data": {
            "text/plain": [
              "array([ 1.29499657, -2.7512248 ,  2.5204791 ])"
            ]
          },
          "metadata": {},
          "execution_count": 54
        }
      ]
    },
    {
      "cell_type": "code",
      "source": [
        "model.intercept_"
      ],
      "metadata": {
        "colab": {
          "base_uri": "https://localhost:8080/"
        },
        "id": "Dnba82Keumma",
        "outputId": "7296137e-09a8-476a-f4bf-fee74026e671"
      },
      "execution_count": null,
      "outputs": [
        {
          "output_type": "execute_result",
          "data": {
            "text/plain": [
              "274.4828355846261"
            ]
          },
          "metadata": {},
          "execution_count": 55
        }
      ]
    },
    {
      "cell_type": "code",
      "source": [
        "newData= [[120, 5, 80], [20, 40, 15]]"
      ],
      "metadata": {
        "id": "QZeq5zxsvaCA"
      },
      "execution_count": null,
      "outputs": []
    },
    {
      "cell_type": "code",
      "source": [
        "pred= model.predict(newData)"
      ],
      "metadata": {
        "id": "HXiYGbMzvopP"
      },
      "execution_count": null,
      "outputs": []
    },
    {
      "cell_type": "markdown",
      "source": [
        "# Evaluation"
      ],
      "metadata": {
        "id": "POi3nyTHwKvM"
      }
    },
    {
      "cell_type": "code",
      "source": [
        "model.score(X, y)"
      ],
      "metadata": {
        "colab": {
          "base_uri": "https://localhost:8080/"
        },
        "id": "5PHwUGtNwKIi",
        "outputId": "2b6fb912-b20a-4af1-8a8c-1271b0732fff"
      },
      "execution_count": null,
      "outputs": [
        {
          "output_type": "execute_result",
          "data": {
            "text/plain": [
              "0.9861404179966592"
            ]
          },
          "metadata": {},
          "execution_count": 58
        }
      ]
    },
    {
      "cell_type": "code",
      "source": [
        "model.score(newData, pred)"
      ],
      "metadata": {
        "colab": {
          "base_uri": "https://localhost:8080/"
        },
        "id": "G4_ly_SSwioP",
        "outputId": "fdf84513-fadc-4086-f143-fe8f8ddab352"
      },
      "execution_count": null,
      "outputs": [
        {
          "output_type": "execute_result",
          "data": {
            "text/plain": [
              "1.0"
            ]
          },
          "metadata": {},
          "execution_count": 59
        }
      ]
    }
  ]
}