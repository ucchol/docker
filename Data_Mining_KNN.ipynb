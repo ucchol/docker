{
  "nbformat": 4,
  "nbformat_minor": 0,
  "metadata": {
    "colab": {
      "provenance": [],
      "authorship_tag": "ABX9TyOze8B1C5Y2PeYLOEcqDyIM",
      "include_colab_link": true
    },
    "kernelspec": {
      "name": "python3",
      "display_name": "Python 3"
    },
    "language_info": {
      "name": "python"
    }
  },
  "cells": [
    {
      "cell_type": "markdown",
      "metadata": {
        "id": "view-in-github",
        "colab_type": "text"
      },
      "source": [
        "<a href=\"https://colab.research.google.com/github/ucchol/docker/blob/main/Data_Mining_KNN.ipynb\" target=\"_parent\"><img src=\"https://colab.research.google.com/assets/colab-badge.svg\" alt=\"Open In Colab\"/></a>"
      ]
    },
    {
      "cell_type": "code",
      "execution_count": null,
      "metadata": {
        "id": "GW92HzT5GbLu"
      },
      "outputs": [],
      "source": [
        "import numpy as np\n",
        "import pandas as pd\n",
        "from sklearn.neighbors import NearestNeighbors"
      ]
    },
    {
      "cell_type": "code",
      "source": [
        "rawdata=[[10,3,3,5],[5,0,6,0],[9,4,3,4],[0,2,0,0],[20,15,10,20],[10,4,1,5]]\n",
        "data= np.array(rawdata)"
      ],
      "metadata": {
        "id": "dANG4hCKHzuP"
      },
      "execution_count": null,
      "outputs": []
    },
    {
      "cell_type": "code",
      "source": [
        "refInd= 2 #reference vector\n",
        "refVec= data[refInd]\n",
        "k=4 #number of neighbors"
      ],
      "metadata": {
        "id": "bDvJrrZFINAd"
      },
      "execution_count": null,
      "outputs": []
    },
    {
      "cell_type": "code",
      "source": [
        "#model for nearest neighbor\n",
        "nbrs= NearestNeighbors(n_neighbors= k, algorithm= \"brute\", metric= \"manhattan\" ) #for metric we can't accept Jaccard as knn is expecting a distance\n",
        "fitted= nbrs.fit(data)\n",
        "distances, indices= fitted.kneighbors([refVec])\n",
        "print(\"indices of the nearest neighbors; \")\n",
        "print(indices)\n",
        "print(\"distances of the nearest neighbors; \")\n",
        "print(distances)"
      ],
      "metadata": {
        "colab": {
          "base_uri": "https://localhost:8080/"
        },
        "id": "EO7zKZNnIfPA",
        "outputId": "969808c1-789e-47b6-a5f4-b1c1c861cafd"
      },
      "execution_count": null,
      "outputs": [
        {
          "output_type": "stream",
          "name": "stdout",
          "text": [
            "indices of the nearest neighbors; \n",
            "[[2 0 5 1]]\n",
            "distances of the nearest neighbors; \n",
            "[[ 0.  3.  4. 15.]]\n"
          ]
        }
      ]
    }
  ]
}