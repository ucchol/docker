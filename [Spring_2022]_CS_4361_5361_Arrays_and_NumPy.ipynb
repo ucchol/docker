{
  "nbformat": 4,
  "nbformat_minor": 0,
  "metadata": {
    "colab": {
      "provenance": [],
      "include_colab_link": true
    },
    "kernelspec": {
      "name": "python3",
      "display_name": "Python 3"
    },
    "language_info": {
      "name": "python"
    }
  },
  "cells": [
    {
      "cell_type": "markdown",
      "metadata": {
        "id": "view-in-github",
        "colab_type": "text"
      },
      "source": [
        "<a href=\"https://colab.research.google.com/github/ucchol/docker/blob/main/%5BSpring_2022%5D_CS_4361_5361_Arrays_and_NumPy.ipynb\" target=\"_parent\"><img src=\"https://colab.research.google.com/assets/colab-badge.svg\" alt=\"Open In Colab\"/></a>"
      ]
    },
    {
      "cell_type": "markdown",
      "source": [
        "\n",
        "\n",
        "# CS 4361 / 5361 - Arrays and NumPy\n"
      ],
      "metadata": {
        "id": "cxtMerWMjVK_"
      }
    },
    {
      "cell_type": "markdown",
      "source": [
        "## **Before you start**\n",
        "\n",
        "Make a copy of this Colab by clicking on File > Save a Copy in Drive\n",
        "\n",
        "After making a copy, add your student id, last name, and first name to the title."
      ],
      "metadata": {
        "id": "ZkYL2NC8jlWc"
      }
    },
    {
      "cell_type": "code",
      "source": [
        "student_name = \"Asif Rahman\"\n",
        "student_id = \"80741895\""
      ],
      "metadata": {
        "id": "cJEwic3AjnXk"
      },
      "execution_count": null,
      "outputs": []
    },
    {
      "cell_type": "markdown",
      "metadata": {
        "id": "SAR-RP97t8ap"
      },
      "source": [
        "## Arrays"
      ]
    },
    {
      "cell_type": "markdown",
      "metadata": {
        "id": "xxW5owwzuBdW"
      },
      "source": [
        "Arrays are not part of the language. We will use them through the NumPy library. \n",
        "Arrays are similar to lists, but all elements must be of the same type.\n"
      ]
    },
    {
      "cell_type": "markdown",
      "metadata": {
        "id": "OFLv81Rcv-4G"
      },
      "source": [
        "The NumPy library provides implementations of many useful operations on arrays of any dimensionality.  "
      ]
    },
    {
      "cell_type": "markdown",
      "metadata": {
        "id": "YnEBaPW8un1s"
      },
      "source": [
        "The following statement imports the library and declares np as short for NumPy. We can access functions and modules in the NumPy library by using the dot notation. "
      ]
    },
    {
      "cell_type": "code",
      "metadata": {
        "id": "KN_loq20t1l9"
      },
      "source": [
        "import numpy as np"
      ],
      "execution_count": null,
      "outputs": []
    },
    {
      "cell_type": "markdown",
      "metadata": {
        "id": "mP4lN8l3v2C-"
      },
      "source": [
        "Arrays can be created in several ways."
      ]
    },
    {
      "cell_type": "markdown",
      "metadata": {
        "id": "JlJmKRMzwbld"
      },
      "source": [
        "We can convert a list to a 1-D array."
      ]
    },
    {
      "cell_type": "code",
      "metadata": {
        "id": "zG7GOtb4woBd",
        "colab": {
          "base_uri": "https://localhost:8080/"
        },
        "outputId": "f5da8134-5d36-4ebc-d2ee-fe0099c85808"
      },
      "source": [
        "a = np.array([1,2,3,4])\n",
        "print(a)"
      ],
      "execution_count": null,
      "outputs": [
        {
          "output_type": "stream",
          "name": "stdout",
          "text": [
            "[1 2 3 4]\n"
          ]
        }
      ]
    },
    {
      "cell_type": "markdown",
      "metadata": {
        "id": "gk6eUXDZubwF"
      },
      "source": [
        "We can convert a list of lists to a 2-D array (or a list of lists of lists to a 3D array, and so on)."
      ]
    },
    {
      "cell_type": "code",
      "metadata": {
        "id": "B94ERMmsw-4i",
        "colab": {
          "base_uri": "https://localhost:8080/"
        },
        "outputId": "2cb317e9-2fd0-4305-8923-0019280a180e"
      },
      "source": [
        "a = np.array([[1,2,3,4],[5,6,7,8]])\n",
        "print(a)"
      ],
      "execution_count": null,
      "outputs": [
        {
          "output_type": "stream",
          "name": "stdout",
          "text": [
            "[[1 2 3 4]\n",
            " [5 6 7 8]]\n"
          ]
        }
      ]
    },
    {
      "cell_type": "markdown",
      "metadata": {
        "id": "opLOpMOvxFQ6"
      },
      "source": [
        "Unlike Java, NumPy does not lallow jagged arrays. "
      ]
    },
    {
      "cell_type": "code",
      "metadata": {
        "id": "7Tj1MUk0xL0r",
        "colab": {
          "base_uri": "https://localhost:8080/"
        },
        "outputId": "6b147363-aa61-4592-b0c1-a6811526f985"
      },
      "source": [
        "a = np.array([[1,2,3,4],[5,6,7]])\n",
        "print(a)"
      ],
      "execution_count": null,
      "outputs": [
        {
          "output_type": "stream",
          "name": "stdout",
          "text": [
            "[list([1, 2, 3, 4]) list([5, 6, 7])]\n"
          ]
        },
        {
          "output_type": "stream",
          "name": "stderr",
          "text": [
            "/usr/local/lib/python3.7/dist-packages/ipykernel_launcher.py:1: VisibleDeprecationWarning: Creating an ndarray from ragged nested sequences (which is a list-or-tuple of lists-or-tuples-or ndarrays with different lengths or shapes) is deprecated. If you meant to do this, you must specify 'dtype=object' when creating the ndarray\n",
            "  \"\"\"Entry point for launching an IPython kernel.\n"
          ]
        }
      ]
    },
    {
      "cell_type": "markdown",
      "metadata": {
        "id": "26taW1s8xQfD"
      },
      "source": [
        "The array type is infered from the data provided"
      ]
    },
    {
      "cell_type": "code",
      "metadata": {
        "id": "W3w2rdUc9wmZ",
        "colab": {
          "base_uri": "https://localhost:8080/"
        },
        "outputId": "1952bfa4-486e-4f4a-c4b5-74b5458b0759"
      },
      "source": [
        "a = np.array([[1,2,3,4],[5,6,7,8]])\n",
        "print(a)"
      ],
      "execution_count": null,
      "outputs": [
        {
          "output_type": "stream",
          "name": "stdout",
          "text": [
            "[[1 2 3 4]\n",
            " [5 6 7 8]]\n"
          ]
        }
      ]
    },
    {
      "cell_type": "code",
      "metadata": {
        "id": "uEpA1FA7xbOr",
        "colab": {
          "base_uri": "https://localhost:8080/"
        },
        "outputId": "15d6afe4-535c-4525-c5d7-7f1126ce1108"
      },
      "source": [
        "a = np.array([[1.5,2,3,4],[5,6,7,8]])\n",
        "print(a)"
      ],
      "execution_count": null,
      "outputs": [
        {
          "output_type": "stream",
          "name": "stdout",
          "text": [
            "[[1.5 2.  3.  4. ]\n",
            " [5.  6.  7.  8. ]]\n"
          ]
        }
      ]
    },
    {
      "cell_type": "markdown",
      "metadata": {
        "id": "i1QRK33-xhdK"
      },
      "source": [
        "The function zeros creates an array full of zeros; the function ones creates an array full of ones, and the function empty creates an array whose initial content is random and depends on the state of the memory. By default, the dtype of the created array is float64."
      ]
    },
    {
      "cell_type": "code",
      "metadata": {
        "id": "zxTa9B1ox4ou",
        "colab": {
          "base_uri": "https://localhost:8080/"
        },
        "outputId": "a2c2c461-4ade-4ba9-8b1a-28c2b173655f"
      },
      "source": [
        "a = np.zeros(5) # Create 1-D array\n",
        "print(a)"
      ],
      "execution_count": null,
      "outputs": [
        {
          "output_type": "stream",
          "name": "stdout",
          "text": [
            "[0. 0. 0. 0. 0.]\n"
          ]
        }
      ]
    },
    {
      "cell_type": "code",
      "metadata": {
        "id": "e6YFA4o1yCTR",
        "colab": {
          "base_uri": "https://localhost:8080/"
        },
        "outputId": "8fe5e8d4-7dc0-43b0-c85f-44e56ee364f2"
      },
      "source": [
        "a = np.zeros((5,3)) # Create 2-D array with 5 rows and 3 colummns\n",
        "print(a)"
      ],
      "execution_count": null,
      "outputs": [
        {
          "output_type": "stream",
          "name": "stdout",
          "text": [
            "[[0. 0. 0.]\n",
            " [0. 0. 0.]\n",
            " [0. 0. 0.]\n",
            " [0. 0. 0.]\n",
            " [0. 0. 0.]]\n"
          ]
        }
      ]
    },
    {
      "cell_type": "code",
      "metadata": {
        "id": "IjVd6pzVyKRI",
        "colab": {
          "base_uri": "https://localhost:8080/"
        },
        "outputId": "96904045-5557-417f-d3a7-90e2dd438947"
      },
      "source": [
        "a = np.ones((2,3)) # Create 2-D array with 2 rows and 3 colummns\n",
        "print(a)"
      ],
      "execution_count": null,
      "outputs": [
        {
          "output_type": "stream",
          "name": "stdout",
          "text": [
            "[[1. 1. 1.]\n",
            " [1. 1. 1.]]\n"
          ]
        }
      ]
    },
    {
      "cell_type": "markdown",
      "metadata": {
        "id": "9sFyMIi2yPl4"
      },
      "source": [
        "You can also specify the type"
      ]
    },
    {
      "cell_type": "code",
      "metadata": {
        "id": "1m3mXXqWySfJ",
        "colab": {
          "base_uri": "https://localhost:8080/"
        },
        "outputId": "468624d3-ac95-4543-a275-7a3de6cb3c68"
      },
      "source": [
        "a = np.ones((2,3),dtype=np.int16) # Create 2-D array with 2 rows and 3 colummns\n",
        "print(a)"
      ],
      "execution_count": null,
      "outputs": [
        {
          "output_type": "stream",
          "name": "stdout",
          "text": [
            "[[1 1 1]\n",
            " [1 1 1]]\n"
          ]
        }
      ]
    },
    {
      "cell_type": "markdown",
      "metadata": {
        "id": "ZN-MDfKXydZ5"
      },
      "source": [
        "To create sequences of numbers, NumPy provides the arange function which \n",
        "\n",
        "*   List item\n",
        "*   List item\n",
        "\n",
        "is analogous to the Python built-in range, but returns an array."
      ]
    },
    {
      "cell_type": "code",
      "metadata": {
        "id": "UpOxj4fFyhgD",
        "colab": {
          "base_uri": "https://localhost:8080/"
        },
        "outputId": "f2cbce4c-9dfd-4444-b441-7e7e3b5f4b37"
      },
      "source": [
        "a= np.arange(16)\n",
        "print(a)"
      ],
      "execution_count": null,
      "outputs": [
        {
          "output_type": "stream",
          "name": "stdout",
          "text": [
            "[ 0  1  2  3  4  5  6  7  8  9 10 11 12 13 14 15]\n"
          ]
        }
      ]
    },
    {
      "cell_type": "code",
      "metadata": {
        "id": "OTPxhy0_yl-X",
        "colab": {
          "base_uri": "https://localhost:8080/"
        },
        "outputId": "538d3ae2-a37e-404e-e652-0180edbddc23"
      },
      "source": [
        "a= np.arange(20,100,10)\n",
        "print(a)"
      ],
      "execution_count": null,
      "outputs": [
        {
          "output_type": "stream",
          "name": "stdout",
          "text": [
            "[20 30 40 50 60 70 80 90]\n"
          ]
        }
      ]
    },
    {
      "cell_type": "markdown",
      "metadata": {
        "id": "TS1wY6P5y5g_"
      },
      "source": [
        "The reshape operation can be used to change the dimensionality of an array (but the number of elements cannot change)."
      ]
    },
    {
      "cell_type": "code",
      "metadata": {
        "id": "HmxFl3b2zEu_",
        "colab": {
          "base_uri": "https://localhost:8080/"
        },
        "outputId": "8d512b99-908a-4e55-d77d-96847baebb8a"
      },
      "source": [
        "a= np.arange(16)\n",
        "print(a)\n",
        "b = a.reshape(4,4)\n",
        "print(b)"
      ],
      "execution_count": null,
      "outputs": [
        {
          "output_type": "stream",
          "name": "stdout",
          "text": [
            "[ 0  1  2  3  4  5  6  7  8  9 10 11 12 13 14 15]\n",
            "[[ 0  1  2  3]\n",
            " [ 4  5  6  7]\n",
            " [ 8  9 10 11]\n",
            " [12 13 14 15]]\n"
          ]
        }
      ]
    },
    {
      "cell_type": "code",
      "metadata": {
        "id": "tllkQahQzL-v"
      },
      "source": [
        "a= np.arange(16)\n",
        "#b = a.reshape(4,5)\n",
        "#print(b)"
      ],
      "execution_count": null,
      "outputs": []
    },
    {
      "cell_type": "markdown",
      "metadata": {
        "id": "Ni1aUyr4zYCX"
      },
      "source": [
        "reshape returns a copy of the array, without modifying the original array.\n"
      ]
    },
    {
      "cell_type": "code",
      "metadata": {
        "id": "jy4vora9zf1_",
        "colab": {
          "base_uri": "https://localhost:8080/"
        },
        "outputId": "200d4045-7e62-4176-ef6b-6ce01c1ca52d"
      },
      "source": [
        "a= np.arange(16)\n",
        "a.reshape(4,4)\n",
        "print(a)"
      ],
      "execution_count": null,
      "outputs": [
        {
          "output_type": "stream",
          "name": "stdout",
          "text": [
            "[ 0  1  2  3  4  5  6  7  8  9 10 11 12 13 14 15]\n"
          ]
        }
      ]
    },
    {
      "cell_type": "markdown",
      "metadata": {
        "id": "7DLb5RBDasPF"
      },
      "source": [
        "a.shape is a tuple (an immutable list) that contains the size of each of \n",
        "\n",
        "---\n",
        "\n",
        "the dimensions of array a. len(a.shape) contains the number of dimensions of a."
      ]
    },
    {
      "cell_type": "code",
      "metadata": {
        "id": "RMuvbnjOat19",
        "colab": {
          "base_uri": "https://localhost:8080/"
        },
        "outputId": "0b7ac591-8a9d-4797-db7f-dfb6ae82b130"
      },
      "source": [
        "a= np.arange(16)\n",
        "print(a)\n",
        "print(a.shape)\n",
        "print(len(a.shape))\n",
        "b = a.reshape(4,4)\n",
        "print(b)\n",
        "print(b.shape)\n",
        "print(len(b.shape))\n",
        "c = a.reshape(2,2,4,1)\n",
        "print(c)\n",
        "print(c.shape)\n",
        "print(len(c.shape))"
      ],
      "execution_count": null,
      "outputs": [
        {
          "output_type": "stream",
          "name": "stdout",
          "text": [
            "[ 0  1  2  3  4  5  6  7  8  9 10 11 12 13 14 15]\n",
            "(16,)\n",
            "1\n",
            "[[ 0  1  2  3]\n",
            " [ 4  5  6  7]\n",
            " [ 8  9 10 11]\n",
            " [12 13 14 15]]\n",
            "(4, 4)\n",
            "2\n",
            "[[[[ 0]\n",
            "   [ 1]\n",
            "   [ 2]\n",
            "   [ 3]]\n",
            "\n",
            "  [[ 4]\n",
            "   [ 5]\n",
            "   [ 6]\n",
            "   [ 7]]]\n",
            "\n",
            "\n",
            " [[[ 8]\n",
            "   [ 9]\n",
            "   [10]\n",
            "   [11]]\n",
            "\n",
            "  [[12]\n",
            "   [13]\n",
            "   [14]\n",
            "   [15]]]]\n",
            "(2, 2, 4, 1)\n",
            "4\n"
          ]
        }
      ]
    },
    {
      "cell_type": "markdown",
      "metadata": {
        "id": "D5A0KLm60OH2"
      },
      "source": [
        "Arithmetic operators on arrays apply elementwise. There's no need to write for loops to perform array operations!!!"
      ]
    },
    {
      "cell_type": "code",
      "metadata": {
        "id": "OA6yITiV0P0e",
        "colab": {
          "base_uri": "https://localhost:8080/"
        },
        "outputId": "d759bbcf-f072-44fc-ff1c-c1a8cbc30c7f"
      },
      "source": [
        "a= np.arange(16).reshape(4,4)\n",
        "print(a)\n",
        "b = a + 5\n",
        "print(b)\n",
        "c = a**2\n",
        "print(c)\n",
        "d = np.sin(a)\n",
        "print(d)\n",
        "print(a+b) \n",
        "print(a*c) "
      ],
      "execution_count": null,
      "outputs": [
        {
          "output_type": "stream",
          "name": "stdout",
          "text": [
            "[[ 0  1  2  3]\n",
            " [ 4  5  6  7]\n",
            " [ 8  9 10 11]\n",
            " [12 13 14 15]]\n",
            "[[ 5  6  7  8]\n",
            " [ 9 10 11 12]\n",
            " [13 14 15 16]\n",
            " [17 18 19 20]]\n",
            "[[  0   1   4   9]\n",
            " [ 16  25  36  49]\n",
            " [ 64  81 100 121]\n",
            " [144 169 196 225]]\n",
            "[[ 0.          0.84147098  0.90929743  0.14112001]\n",
            " [-0.7568025  -0.95892427 -0.2794155   0.6569866 ]\n",
            " [ 0.98935825  0.41211849 -0.54402111 -0.99999021]\n",
            " [-0.53657292  0.42016704  0.99060736  0.65028784]]\n",
            "[[ 5  7  9 11]\n",
            " [13 15 17 19]\n",
            " [21 23 25 27]\n",
            " [29 31 33 35]]\n",
            "[[   0    1    8   27]\n",
            " [  64  125  216  343]\n",
            " [ 512  729 1000 1331]\n",
            " [1728 2197 2744 3375]]\n"
          ]
        }
      ]
    },
    {
      "cell_type": "markdown",
      "metadata": {
        "id": "kExzNadI1jTO"
      },
      "source": [
        "Integer indexing works the same was as in Java "
      ]
    },
    {
      "cell_type": "code",
      "metadata": {
        "id": "rV_E5OnT00vH",
        "colab": {
          "base_uri": "https://localhost:8080/"
        },
        "outputId": "d61291c9-13b2-4ad3-face-c852771d0ebe"
      },
      "source": [
        "print(a[2,3])\n",
        "print(a[0,2])"
      ],
      "execution_count": null,
      "outputs": [
        {
          "output_type": "stream",
          "name": "stdout",
          "text": [
            "11\n",
            "2\n"
          ]
        }
      ]
    },
    {
      "cell_type": "markdown",
      "metadata": {
        "id": "v6KWixes13A9"
      },
      "source": [
        "As with lists, negative indices (counting from the end) are allowed"
      ]
    },
    {
      "cell_type": "code",
      "metadata": {
        "id": "h02CTS2D19rk",
        "colab": {
          "base_uri": "https://localhost:8080/"
        },
        "outputId": "5abaa3f6-780d-4d0e-f6ef-f2b4f155b0d8"
      },
      "source": [
        "print(a[0,-1])\n",
        "print(a[-1,0])"
      ],
      "execution_count": null,
      "outputs": [
        {
          "output_type": "stream",
          "name": "stdout",
          "text": [
            "3\n",
            "12\n"
          ]
        }
      ]
    },
    {
      "cell_type": "markdown",
      "metadata": {
        "id": "Ge-SNtNv2SBt"
      },
      "source": [
        "Slicing works the same ways as with lists, with one slice per dimension"
      ]
    },
    {
      "cell_type": "code",
      "metadata": {
        "id": "aOS1NrPD2ReM",
        "colab": {
          "base_uri": "https://localhost:8080/"
        },
        "outputId": "c0035432-d8df-4ca4-e773-32b9476916d5"
      },
      "source": [
        "print(a[:2,1:])  # Select rows 0 and 1 and columns 1,2, and 3"
      ],
      "execution_count": null,
      "outputs": [
        {
          "output_type": "stream",
          "name": "stdout",
          "text": [
            "[[1 2 3]\n",
            " [5 6 7]]\n"
          ]
        }
      ]
    },
    {
      "cell_type": "code",
      "metadata": {
        "id": "QtvyF0GG2ogU",
        "colab": {
          "base_uri": "https://localhost:8080/"
        },
        "outputId": "96991152-88c5-4a07-8f1b-34e2baad6b32"
      },
      "source": [
        "print(a[::2,1::2])  # Select rows 0 and 2 and columns 1 and 3"
      ],
      "execution_count": null,
      "outputs": [
        {
          "output_type": "stream",
          "name": "stdout",
          "text": [
            "[[ 1  3]\n",
            " [ 9 11]]\n"
          ]
        }
      ]
    },
    {
      "cell_type": "code",
      "metadata": {
        "id": "CPryVII52-MM",
        "colab": {
          "base_uri": "https://localhost:8080/"
        },
        "outputId": "e640c3ae-83b1-4454-a475-9ccd9dbcdb50"
      },
      "source": [
        "print(a[:,::-1])  # Reverse the order of columns"
      ],
      "execution_count": null,
      "outputs": [
        {
          "output_type": "stream",
          "name": "stdout",
          "text": [
            "[[ 3  2  1  0]\n",
            " [ 7  6  5  4]\n",
            " [11 10  9  8]\n",
            " [15 14 13 12]]\n"
          ]
        }
      ]
    },
    {
      "cell_type": "code",
      "metadata": {
        "id": "hQ2Sw7sv2z0V",
        "colab": {
          "base_uri": "https://localhost:8080/"
        },
        "outputId": "363d8b42-5792-4837-892a-188c797833d4"
      },
      "source": [
        "print(a[::-1,:])  # Reverse the order of rows"
      ],
      "execution_count": null,
      "outputs": [
        {
          "output_type": "stream",
          "name": "stdout",
          "text": [
            "[[12 13 14 15]\n",
            " [ 8  9 10 11]\n",
            " [ 4  5  6  7]\n",
            " [ 0  1  2  3]]\n"
          ]
        }
      ]
    },
    {
      "cell_type": "code",
      "metadata": {
        "id": "zUsHKURK3JF8",
        "colab": {
          "base_uri": "https://localhost:8080/"
        },
        "outputId": "37bd4b7a-f55e-406b-919d-d901503d31d1"
      },
      "source": [
        "print(a[::-1])  # Reverse the order of rows, trailing ':' may be ommited"
      ],
      "execution_count": null,
      "outputs": [
        {
          "output_type": "stream",
          "name": "stdout",
          "text": [
            "[[12 13 14 15]\n",
            " [ 8  9 10 11]\n",
            " [ 4  5  6  7]\n",
            " [ 0  1  2  3]]\n"
          ]
        }
      ]
    },
    {
      "cell_type": "markdown",
      "metadata": {
        "id": "Jo8Jf0Zg3UOV"
      },
      "source": [
        "We can use lists of the same length as indices"
      ]
    },
    {
      "cell_type": "code",
      "metadata": {
        "id": "TcbHkELY3Zkc",
        "colab": {
          "base_uri": "https://localhost:8080/"
        },
        "outputId": "ce409878-5026-4ca9-a675-4cb612703092"
      },
      "source": [
        "c = a[[2,3,1],[1,0,3]] # Returns 1-D array containing [a[2,1], a[3,0], a[1,3]]\n",
        "print(c)"
      ],
      "execution_count": null,
      "outputs": [
        {
          "output_type": "stream",
          "name": "stdout",
          "text": [
            "[ 9 12  7]\n"
          ]
        }
      ]
    },
    {
      "cell_type": "markdown",
      "metadata": {
        "id": "vB02YnA17B2t"
      },
      "source": [
        "We can assign values to array elements and slices"
      ]
    },
    {
      "cell_type": "code",
      "metadata": {
        "id": "2aQdIUDe7hEO",
        "colab": {
          "base_uri": "https://localhost:8080/"
        },
        "outputId": "07d099ab-621a-46c8-cb79-8bf5203c87b9"
      },
      "source": [
        "a= np.arange(16).reshape(4,4)\n",
        "print(a)\n",
        "a[2,3] = -100\n",
        "print(a)"
      ],
      "execution_count": null,
      "outputs": [
        {
          "output_type": "stream",
          "name": "stdout",
          "text": [
            "[[ 0  1  2  3]\n",
            " [ 4  5  6  7]\n",
            " [ 8  9 10 11]\n",
            " [12 13 14 15]]\n",
            "[[   0    1    2    3]\n",
            " [   4    5    6    7]\n",
            " [   8    9   10 -100]\n",
            " [  12   13   14   15]]\n"
          ]
        }
      ]
    },
    {
      "cell_type": "code",
      "metadata": {
        "id": "5lK7umR172OC",
        "colab": {
          "base_uri": "https://localhost:8080/"
        },
        "outputId": "0ed8f70a-1fe4-49d4-8933-e10192b6fde4"
      },
      "source": [
        "a= np.arange(16).reshape(4,4)\n",
        "print(a)\n",
        "a[:2,1:] = -100\n",
        "print(a)"
      ],
      "execution_count": null,
      "outputs": [
        {
          "output_type": "stream",
          "name": "stdout",
          "text": [
            "[[ 0  1  2  3]\n",
            " [ 4  5  6  7]\n",
            " [ 8  9 10 11]\n",
            " [12 13 14 15]]\n",
            "[[   0 -100 -100 -100]\n",
            " [   4 -100 -100 -100]\n",
            " [   8    9   10   11]\n",
            " [  12   13   14   15]]\n"
          ]
        }
      ]
    },
    {
      "cell_type": "markdown",
      "metadata": {
        "id": "UbFXERWS-Iex"
      },
      "source": [
        "You can perform elementwise operations on array slices if they are the same size"
      ]
    },
    {
      "cell_type": "code",
      "metadata": {
        "id": "VW5x_E8h-e6K",
        "colab": {
          "base_uri": "https://localhost:8080/"
        },
        "outputId": "e302d535-8a39-4e85-c9fd-e541e9cd97fc"
      },
      "source": [
        "a= np.arange(16).reshape(4,4)\n",
        "print(a)\n",
        "b = np.arange(6).reshape(2,3)\n",
        "print(b)\n",
        "a[:2,1:] = a[:2,1:] - b\n",
        "print(a)"
      ],
      "execution_count": null,
      "outputs": [
        {
          "output_type": "stream",
          "name": "stdout",
          "text": [
            "[[ 0  1  2  3]\n",
            " [ 4  5  6  7]\n",
            " [ 8  9 10 11]\n",
            " [12 13 14 15]]\n",
            "[[0 1 2]\n",
            " [3 4 5]]\n",
            "[[ 0  1  1  1]\n",
            " [ 4  2  2  2]\n",
            " [ 8  9 10 11]\n",
            " [12 13 14 15]]\n"
          ]
        }
      ]
    },
    {
      "cell_type": "markdown",
      "metadata": {
        "id": "SNMUENZJ_e8r"
      },
      "source": [
        "Warning - arrays are passed by reference; array assignments are shallow"
      ]
    },
    {
      "cell_type": "code",
      "metadata": {
        "id": "4N0Qhuzt_ngj",
        "colab": {
          "base_uri": "https://localhost:8080/"
        },
        "outputId": "414cf76b-72f0-4878-9b23-677099babac8"
      },
      "source": [
        "a= np.arange(16).reshape(4,4)\n",
        "print(a)\n",
        "b = a\n",
        "b[0,0] = 2302\n",
        "print(a)"
      ],
      "execution_count": null,
      "outputs": [
        {
          "output_type": "stream",
          "name": "stdout",
          "text": [
            "[[ 0  1  2  3]\n",
            " [ 4  5  6  7]\n",
            " [ 8  9 10 11]\n",
            " [12 13 14 15]]\n",
            "[[2302    1    2    3]\n",
            " [   4    5    6    7]\n",
            " [   8    9   10   11]\n",
            " [  12   13   14   15]]\n"
          ]
        }
      ]
    },
    {
      "cell_type": "markdown",
      "metadata": {
        "id": "FFgzt-HgACYS"
      },
      "source": [
        "This will make a deep copy of a"
      ]
    },
    {
      "cell_type": "code",
      "metadata": {
        "id": "q8brWVR3_4Rb",
        "colab": {
          "base_uri": "https://localhost:8080/"
        },
        "outputId": "4b11fccd-a215-44a1-9429-0f5da24e0327"
      },
      "source": [
        "a= np.arange(16).reshape(4,4)\n",
        "print(a)\n",
        "b = np.copy(a)\n",
        "b[0,0] = 2302\n",
        "print(a)\n",
        "print(b)\n"
      ],
      "execution_count": null,
      "outputs": [
        {
          "output_type": "stream",
          "name": "stdout",
          "text": [
            "[[ 0  1  2  3]\n",
            " [ 4  5  6  7]\n",
            " [ 8  9 10 11]\n",
            " [12 13 14 15]]\n",
            "[[ 0  1  2  3]\n",
            " [ 4  5  6  7]\n",
            " [ 8  9 10 11]\n",
            " [12 13 14 15]]\n",
            "[[2302    1    2    3]\n",
            " [   4    5    6    7]\n",
            " [   8    9   10   11]\n",
            " [  12   13   14   15]]\n"
          ]
        }
      ]
    },
    {
      "cell_type": "markdown",
      "metadata": {
        "id": "17jt9dOZAUIZ"
      },
      "source": [
        "NumPy provides LOTS of array operations. See:\n",
        "https://numpy.org/doc/stable/reference/routines.math.html"
      ]
    },
    {
      "cell_type": "markdown",
      "metadata": {
        "id": "OTcg3FcNqOLL"
      },
      "source": [
        "Commonly use built-in functions:\n"
      ]
    },
    {
      "cell_type": "code",
      "metadata": {
        "id": "4Vdbi3p5qS_S"
      },
      "source": [
        "a = np.array([60,  0, 70, 50, 10, 30, 90, 40, 80, 20])"
      ],
      "execution_count": null,
      "outputs": []
    },
    {
      "cell_type": "code",
      "metadata": {
        "id": "4FJIOXE5qhdA",
        "colab": {
          "base_uri": "https://localhost:8080/"
        },
        "outputId": "6255de60-5ed7-4427-fac8-dd33bc0a4998"
      },
      "source": [
        "print(np.min(a))"
      ],
      "execution_count": null,
      "outputs": [
        {
          "output_type": "stream",
          "name": "stdout",
          "text": [
            "0\n"
          ]
        }
      ]
    },
    {
      "cell_type": "code",
      "metadata": {
        "id": "FE7Dyxe3qvd1",
        "colab": {
          "base_uri": "https://localhost:8080/"
        },
        "outputId": "fa74c8ae-a2bd-4e35-e318-98879e945ed9"
      },
      "source": [
        "print(np.max(a))"
      ],
      "execution_count": null,
      "outputs": [
        {
          "output_type": "stream",
          "name": "stdout",
          "text": [
            "90\n"
          ]
        }
      ]
    },
    {
      "cell_type": "code",
      "metadata": {
        "id": "qp5Ooa8aqzpU",
        "colab": {
          "base_uri": "https://localhost:8080/"
        },
        "outputId": "608a43f0-054e-4613-c260-00be16edc09a"
      },
      "source": [
        "print(np.mean(a))"
      ],
      "execution_count": null,
      "outputs": [
        {
          "output_type": "stream",
          "name": "stdout",
          "text": [
            "45.0\n"
          ]
        }
      ]
    },
    {
      "cell_type": "code",
      "metadata": {
        "id": "KDNG0sVHq3xl",
        "colab": {
          "base_uri": "https://localhost:8080/"
        },
        "outputId": "67699a89-39d8-42a5-9ecf-7add217a3966"
      },
      "source": [
        "print(np.argmax(a)) # Returns the index of the maximum element in a"
      ],
      "execution_count": null,
      "outputs": [
        {
          "output_type": "stream",
          "name": "stdout",
          "text": [
            "15\n"
          ]
        }
      ]
    },
    {
      "cell_type": "code",
      "metadata": {
        "id": "uDXRlorirDWY",
        "colab": {
          "base_uri": "https://localhost:8080/"
        },
        "outputId": "6a52f830-f766-425d-9718-98352a6a78fe"
      },
      "source": [
        "print(np.argmin(a)) # Returns the index of the minimum element in a"
      ],
      "execution_count": null,
      "outputs": [
        {
          "output_type": "stream",
          "name": "stdout",
          "text": [
            "11\n"
          ]
        }
      ]
    },
    {
      "cell_type": "markdown",
      "metadata": {
        "id": "aCVxqc-aAcIR"
      },
      "source": [
        "Since Python is an interpreted language, loops are slow. See the comparative running time of the same operation with and without loops. "
      ]
    },
    {
      "cell_type": "code",
      "metadata": {
        "id": "Maehku9EA07v",
        "colab": {
          "base_uri": "https://localhost:8080/"
        },
        "outputId": "b1fecc71-1a5e-4b66-c40e-92c5870029c4"
      },
      "source": [
        "import time\n",
        "\n",
        "def sum_array_loops(a,b): \n",
        "  c = np.zeros_like(a) \n",
        "  for i in range(a.shape[0]):\n",
        "    for j in range(a.shape[1]):\n",
        "      c[i,j] =  a[i,j] + b[i,j]\n",
        "  return c\n",
        "\n",
        "def sum_array(a,b): \n",
        "  c = a +b\n",
        "  return c\n",
        "  \n",
        "size = 2000\n",
        "\n",
        "a = np.random.random((size,size))\n",
        "b = np.random.random((size,size))\n",
        "\n",
        "start = time.time()\n",
        "c = sum_array_loops(a,b)\n",
        "elapsed_time1 = time.time() - start\n",
        "print('elapsed time using loops', elapsed_time1,'secs')\n",
        "\n",
        "start = time.time()\n",
        "c = sum_array(a,b)\n",
        "elapsed_time2 = time.time() - start\n",
        "print('elapsed time without loops', elapsed_time2,'secs')\n",
        "\n",
        "print('ratio',elapsed_time1/elapsed_time2)"
      ],
      "execution_count": null,
      "outputs": [
        {
          "output_type": "stream",
          "name": "stdout",
          "text": [
            "elapsed time using loops 2.697514533996582 secs\n",
            "elapsed time without loops 0.00996255874633789 secs\n",
            "ratio 270.76523237447947\n"
          ]
        }
      ]
    },
    {
      "cell_type": "markdown",
      "metadata": {
        "id": "JIYD-YUOeqlc"
      },
      "source": [
        "### Arrays as indices"
      ]
    },
    {
      "cell_type": "markdown",
      "metadata": {
        "id": "-PTlOtVPew95"
      },
      "source": [
        "In addition to slicing, we can use arrays as indices to other arrays. The resulting array will have the shape of the index array.\n",
        "\n"
      ]
    },
    {
      "cell_type": "markdown",
      "metadata": {
        "id": "NV0bVrSEfAM_"
      },
      "source": [
        "**Example:**"
      ]
    },
    {
      "cell_type": "code",
      "metadata": {
        "id": "wI1oWDMSfCwu",
        "colab": {
          "base_uri": "https://localhost:8080/"
        },
        "outputId": "4ee73511-20ac-4511-f3aa-9fbf6825c62f"
      },
      "source": [
        "A = np.arange(0,100,10)\n",
        "print(A)\n",
        "index = np.arange(4).reshape(2,2)\n",
        "print(index)\n",
        "print(A[index])"
      ],
      "execution_count": null,
      "outputs": [
        {
          "output_type": "stream",
          "name": "stdout",
          "text": [
            "[ 0 10 20 30 40 50 60 70 80 90]\n",
            "[[0 1]\n",
            " [2 3]]\n",
            "[[ 0 10]\n",
            " [20 30]]\n"
          ]
        }
      ]
    },
    {
      "cell_type": "markdown",
      "metadata": {
        "id": "QCLXQBYOgtgK"
      },
      "source": [
        "### Boolean indexing"
      ]
    },
    {
      "cell_type": "markdown",
      "metadata": {
        "id": "tpPAmhtAgxrG"
      },
      "source": [
        "We can use a boolean array as index. "
      ]
    },
    {
      "cell_type": "code",
      "metadata": {
        "id": "2JRY0Z3cg8rt",
        "colab": {
          "base_uri": "https://localhost:8080/"
        },
        "outputId": "724b4164-6e6f-4b00-f166-9538922d10b4"
      },
      "source": [
        "A = np.arange(0,15)\n",
        "ind = A%3==0\n",
        "print(A)\n",
        "print(ind)\n",
        "print(A[ind])"
      ],
      "execution_count": null,
      "outputs": [
        {
          "output_type": "stream",
          "name": "stdout",
          "text": [
            "[ 0  1  2  3  4  5  6  7  8  9 10 11 12 13 14]\n",
            "[ True False False  True False False  True False False  True False False\n",
            "  True False False]\n",
            "[ 0  3  6  9 12]\n"
          ]
        }
      ]
    },
    {
      "cell_type": "markdown",
      "metadata": {
        "id": "UnT_XUJjBET2"
      },
      "source": [
        "### Broadcasting"
      ]
    },
    {
      "cell_type": "markdown",
      "metadata": {
        "id": "JLMG2paWBIcB"
      },
      "source": [
        "The term broadcasting describes how NumPy treats arrays with different shapes during arithmetic operations. Subject to certain constraints, the smaller array is “broadcast” (conceptually, it is replicated, but no actual copies are made)  across the larger array so that they have compatible shapes. Broadcasting provides a means of vectorizing array operations so that looping occurs in C instead of Python."
      ]
    },
    {
      "cell_type": "markdown",
      "metadata": {
        "id": "C5p5uTCaBhL4"
      },
      "source": [
        "Two dimensions are compatible when they are equal, or one of them is 1"
      ]
    },
    {
      "cell_type": "code",
      "metadata": {
        "id": "WfrU5pQSBrQd",
        "colab": {
          "base_uri": "https://localhost:8080/"
        },
        "outputId": "fbdd4896-3cfd-4e08-f4c9-c7e3a5f882ee"
      },
      "source": [
        "A = np.arange(20).reshape(4,5)\n",
        "A\n"
      ],
      "execution_count": null,
      "outputs": [
        {
          "output_type": "execute_result",
          "data": {
            "text/plain": [
              "array([[ 0,  1,  2,  3,  4],\n",
              "       [ 5,  6,  7,  8,  9],\n",
              "       [10, 11, 12, 13, 14],\n",
              "       [15, 16, 17, 18, 19]])"
            ]
          },
          "metadata": {},
          "execution_count": 276
        }
      ]
    },
    {
      "cell_type": "markdown",
      "metadata": {
        "id": "F1iIMFm0CGIR"
      },
      "source": [
        "Since A and B have the same shape, they are compatible. Thus we can perform arithmetic operations with them."
      ]
    },
    {
      "cell_type": "code",
      "metadata": {
        "id": "Ovs5hC5UB4cf",
        "colab": {
          "base_uri": "https://localhost:8080/"
        },
        "outputId": "c76654ce-44fc-4fea-cf3d-2d9c0a3fa20f"
      },
      "source": [
        "B = np.random.randint(0,20,size=(4,5))\n",
        "B"
      ],
      "execution_count": null,
      "outputs": [
        {
          "output_type": "execute_result",
          "data": {
            "text/plain": [
              "array([[ 8,  1, 11,  6, 19],\n",
              "       [18,  7, 11, 12, 18],\n",
              "       [13,  5,  4, 14,  8],\n",
              "       [18, 13,  4,  7,  7]])"
            ]
          },
          "metadata": {},
          "execution_count": 277
        }
      ]
    },
    {
      "cell_type": "code",
      "metadata": {
        "id": "DH1PfphcCOJe",
        "colab": {
          "base_uri": "https://localhost:8080/"
        },
        "outputId": "26648502-b11e-4e58-8d10-0a9ea8167fd7"
      },
      "source": [
        "A+B"
      ],
      "execution_count": null,
      "outputs": [
        {
          "output_type": "execute_result",
          "data": {
            "text/plain": [
              "array([[ 8,  2, 13,  9, 23],\n",
              "       [23, 13, 18, 20, 27],\n",
              "       [23, 16, 16, 27, 22],\n",
              "       [33, 29, 21, 25, 26]])"
            ]
          },
          "metadata": {},
          "execution_count": 278
        }
      ]
    },
    {
      "cell_type": "code",
      "metadata": {
        "id": "bOObp8HlCR-w",
        "colab": {
          "base_uri": "https://localhost:8080/"
        },
        "outputId": "2c0a6836-69eb-4257-987e-f8162080e43d"
      },
      "source": [
        "A*B"
      ],
      "execution_count": null,
      "outputs": [
        {
          "output_type": "execute_result",
          "data": {
            "text/plain": [
              "array([[  0,   1,  22,  18,  76],\n",
              "       [ 90,  42,  77,  96, 162],\n",
              "       [130,  55,  48, 182, 112],\n",
              "       [270, 208,  68, 126, 133]])"
            ]
          },
          "metadata": {},
          "execution_count": 279
        }
      ]
    },
    {
      "cell_type": "code",
      "metadata": {
        "id": "q4ufGF3SCUdo",
        "colab": {
          "base_uri": "https://localhost:8080/"
        },
        "outputId": "ee07db0f-a4b0-46d4-a9cc-20636d1df01c"
      },
      "source": [
        "A==B"
      ],
      "execution_count": null,
      "outputs": [
        {
          "output_type": "execute_result",
          "data": {
            "text/plain": [
              "array([[False,  True, False, False, False],\n",
              "       [False, False, False, False, False],\n",
              "       [False, False, False, False, False],\n",
              "       [False, False, False, False, False]])"
            ]
          },
          "metadata": {},
          "execution_count": 280
        }
      ]
    },
    {
      "cell_type": "markdown",
      "metadata": {
        "id": "4jz37yuvCeRM"
      },
      "source": [
        "Let the shape of A be (r,c). With broadcasting, we can also perform arithmetic operations with A and arrays of sizes (1,c) and (r,1). "
      ]
    },
    {
      "cell_type": "code",
      "metadata": {
        "id": "_iepRETCCaK1"
      },
      "source": [
        "C = np.arange(5).reshape(1,5)\n",
        "D = np.arange(4).reshape(4,1)"
      ],
      "execution_count": null,
      "outputs": []
    },
    {
      "cell_type": "code",
      "metadata": {
        "id": "gojVFPHUDSMp",
        "colab": {
          "base_uri": "https://localhost:8080/"
        },
        "outputId": "dd26ae88-a6ad-4623-c9ff-c90fc69b94a0"
      },
      "source": [
        "C"
      ],
      "execution_count": null,
      "outputs": [
        {
          "output_type": "execute_result",
          "data": {
            "text/plain": [
              "array([[0, 1, 2, 3, 4]])"
            ]
          },
          "metadata": {},
          "execution_count": 282
        }
      ]
    },
    {
      "cell_type": "code",
      "metadata": {
        "id": "6GSucDiHDRLJ",
        "colab": {
          "base_uri": "https://localhost:8080/"
        },
        "outputId": "e8346c48-2039-440a-cf1a-ce25c2cd8507"
      },
      "source": [
        "D"
      ],
      "execution_count": null,
      "outputs": [
        {
          "output_type": "execute_result",
          "data": {
            "text/plain": [
              "array([[0],\n",
              "       [1],\n",
              "       [2],\n",
              "       [3]])"
            ]
          },
          "metadata": {},
          "execution_count": 283
        }
      ]
    },
    {
      "cell_type": "code",
      "metadata": {
        "id": "OxrUg95DDXj-",
        "colab": {
          "base_uri": "https://localhost:8080/"
        },
        "outputId": "77182a69-1620-4178-cb45-98cb64cea3cc"
      },
      "source": [
        "A * C"
      ],
      "execution_count": null,
      "outputs": [
        {
          "output_type": "execute_result",
          "data": {
            "text/plain": [
              "array([[ 0,  1,  4,  9, 16],\n",
              "       [ 0,  6, 14, 24, 36],\n",
              "       [ 0, 11, 24, 39, 56],\n",
              "       [ 0, 16, 34, 54, 76]])"
            ]
          },
          "metadata": {},
          "execution_count": 284
        }
      ]
    },
    {
      "cell_type": "code",
      "metadata": {
        "id": "i1FytMR_Db3z",
        "colab": {
          "base_uri": "https://localhost:8080/"
        },
        "outputId": "6db53fbc-83be-4f81-cc56-094f2ac00935"
      },
      "source": [
        "A * D"
      ],
      "execution_count": null,
      "outputs": [
        {
          "output_type": "execute_result",
          "data": {
            "text/plain": [
              "array([[ 0,  0,  0,  0,  0],\n",
              "       [ 5,  6,  7,  8,  9],\n",
              "       [20, 22, 24, 26, 28],\n",
              "       [45, 48, 51, 54, 57]])"
            ]
          },
          "metadata": {},
          "execution_count": 285
        }
      ]
    },
    {
      "cell_type": "markdown",
      "metadata": {
        "id": "KMsfAlyYgNMh"
      },
      "source": [
        "Similarly, we can perform operations on a (r,1) and a (1,c) array and obtain a (r,c) array."
      ]
    },
    {
      "cell_type": "code",
      "metadata": {
        "id": "FxidOyPAfkZ6",
        "colab": {
          "base_uri": "https://localhost:8080/"
        },
        "outputId": "897a1f92-2e4e-4cba-980c-b59cf586cc64"
      },
      "source": [
        "R = np.arange(5).reshape(-1,1)\n",
        "C = np.arange(10,17).reshape(1,-1)\n",
        "print(R)\n",
        "print(C)\n",
        "print(R*C)"
      ],
      "execution_count": null,
      "outputs": [
        {
          "output_type": "stream",
          "name": "stdout",
          "text": [
            "[[0]\n",
            " [1]\n",
            " [2]\n",
            " [3]\n",
            " [4]]\n",
            "[[10 11 12 13 14 15 16]]\n",
            "[[ 0  0  0  0  0  0  0]\n",
            " [10 11 12 13 14 15 16]\n",
            " [20 22 24 26 28 30 32]\n",
            " [30 33 36 39 42 45 48]\n",
            " [40 44 48 52 56 60 64]]\n"
          ]
        }
      ]
    },
    {
      "cell_type": "markdown",
      "metadata": {
        "id": "rWjHCu4fEJ2q"
      },
      "source": [
        "## **Exercises**\n"
      ]
    },
    {
      "cell_type": "markdown",
      "metadata": {
        "id": "4nd0o5JXs6eq"
      },
      "source": [
        "Write the function is_square(a) that receives an array a and determines if a is square (that is, is has exactly two dimensions and they have the same size).\n"
      ]
    },
    {
      "cell_type": "code",
      "metadata": {
        "id": "tVApLYxltI4P"
      },
      "source": [
        "def is_square(a):\n",
        "  # Your code goes here\n",
        "  s = a.shape\n",
        "  if(len(s)==2 and s[0]==s[1]):\n",
        "    return True\n",
        "  return False# Feel free to change / remove this line\n",
        "  "
      ],
      "execution_count": null,
      "outputs": []
    },
    {
      "cell_type": "code",
      "metadata": {
        "id": "JqE3SS-OtQhL",
        "colab": {
          "base_uri": "https://localhost:8080/"
        },
        "outputId": "c3c94135-5583-4689-ef2a-2da6696faa12"
      },
      "source": [
        "a = np.arange(16)\n",
        "print(a)\n",
        "print(is_square(a))\n",
        "b = a.reshape(2,8)\n",
        "print(b)\n",
        "print(is_square(b))\n",
        "c = a.reshape(4,4,1)\n",
        "print(c)\n",
        "print(is_square(c))\n",
        "d = a.reshape(4,4)\n",
        "print(d)\n",
        "print(is_square(d))"
      ],
      "execution_count": null,
      "outputs": [
        {
          "output_type": "stream",
          "name": "stdout",
          "text": [
            "[ 0  1  2  3  4  5  6  7  8  9 10 11 12 13 14 15]\n",
            "False\n",
            "[[ 0  1  2  3  4  5  6  7]\n",
            " [ 8  9 10 11 12 13 14 15]]\n",
            "False\n",
            "[[[ 0]\n",
            "  [ 1]\n",
            "  [ 2]\n",
            "  [ 3]]\n",
            "\n",
            " [[ 4]\n",
            "  [ 5]\n",
            "  [ 6]\n",
            "  [ 7]]\n",
            "\n",
            " [[ 8]\n",
            "  [ 9]\n",
            "  [10]\n",
            "  [11]]\n",
            "\n",
            " [[12]\n",
            "  [13]\n",
            "  [14]\n",
            "  [15]]]\n",
            "False\n",
            "[[ 0  1  2  3]\n",
            " [ 4  5  6  7]\n",
            " [ 8  9 10 11]\n",
            " [12 13 14 15]]\n",
            "True\n"
          ]
        }
      ]
    },
    {
      "cell_type": "markdown",
      "metadata": {
        "id": "L8xyeA74rPkb"
      },
      "source": [
        "Write the function replace_max(a,m) that replace the maximum element in a by m. If the maximum occurs multiple times, replace only the first occurrence."
      ]
    },
    {
      "cell_type": "code",
      "metadata": {
        "id": "q83nd1a9rcq_"
      },
      "source": [
        "\n",
        "def replace_max(a,m):\n",
        "    a[np.where(a == a.max())[0][:1]] = m\n"
      ],
      "execution_count": null,
      "outputs": []
    },
    {
      "cell_type": "code",
      "metadata": {
        "id": "VYxFfl-Prj9B",
        "colab": {
          "base_uri": "https://localhost:8080/"
        },
        "outputId": "d0048467-cab3-4f0a-8348-5df47e1426cc"
      },
      "source": [
        "a = np.array([20, 90, 80, 70, 40,  0, 50, 60, 30, 10])\n",
        "print(a)\n",
        "replace_max(a,-1)\n",
        "print(a)"
      ],
      "execution_count": null,
      "outputs": [
        {
          "output_type": "stream",
          "name": "stdout",
          "text": [
            "[20 90 80 70 40  0 50 60 30 10]\n",
            "[20 -1 80 70 40  0 50 60 30 10]\n"
          ]
        }
      ]
    },
    {
      "cell_type": "markdown",
      "metadata": {
        "id": "JSZ_awmar8eJ"
      },
      "source": [
        "Write the function diagonal(a) that receives a square array a and returns a 1D array containing the elements in the diagonal of a (that is [a[0,0], a[1,1], ...)."
      ]
    },
    {
      "cell_type": "code",
      "metadata": {
        "id": "IR9DbmFusKwa"
      },
      "source": [
        "def diagonal(a):\n",
        "  # Your code goes here\n",
        "  for i in range(len(a)):\n",
        "    array.append(a[i][i])\n",
        "  \n",
        "  return array # Feel free to change / remove this line"
      ],
      "execution_count": null,
      "outputs": []
    },
    {
      "cell_type": "code",
      "metadata": {
        "id": "sqeyNxuXsf46",
        "colab": {
          "base_uri": "https://localhost:8080/"
        },
        "outputId": "54988148-bd54-4418-8d44-5c9f5b40a228"
      },
      "source": [
        "a = np.array([[10, 70, 40], [ 0, 80, 60], [50, 30, 20]])\n",
        "print(a)\n",
        "array = []\n",
        "print(diagonal(a))"
      ],
      "execution_count": null,
      "outputs": [
        {
          "output_type": "stream",
          "name": "stdout",
          "text": [
            "[[10 70 40]\n",
            " [ 0 80 60]\n",
            " [50 30 20]]\n",
            "[10, 80, 20]\n"
          ]
        }
      ]
    },
    {
      "cell_type": "markdown",
      "source": [
        "## Submission Instructions\n",
        "\n",
        "1. File > Download .ipynb\n",
        "2. Go to Blackboard, find the submission page, and upload the .ipynb file you just downloaded."
      ],
      "metadata": {
        "id": "hdCpHyr7kZBe"
      }
    }
  ]
}