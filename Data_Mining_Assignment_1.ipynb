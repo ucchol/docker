{
  "nbformat": 4,
  "nbformat_minor": 0,
  "metadata": {
    "colab": {
      "provenance": [],
      "authorship_tag": "ABX9TyM3UuH7PkSnPW6My7Yw3YXE",
      "include_colab_link": true
    },
    "kernelspec": {
      "name": "python3",
      "display_name": "Python 3"
    },
    "language_info": {
      "name": "python"
    }
  },
  "cells": [
    {
      "cell_type": "markdown",
      "metadata": {
        "id": "view-in-github",
        "colab_type": "text"
      },
      "source": [
        "<a href=\"https://colab.research.google.com/github/ucchol/docker/blob/main/Data_Mining_Assignment_1.ipynb\" target=\"_parent\"><img src=\"https://colab.research.google.com/assets/colab-badge.svg\" alt=\"Open In Colab\"/></a>"
      ]
    },
    {
      "cell_type": "code",
      "execution_count": null,
      "metadata": {
        "id": "3l7UvoOHmQLF"
      },
      "outputs": [],
      "source": [
        "import numpy as np\n",
        "from numpy.linalg import norm\n",
        "import pandas as pd\n",
        "from sklearn.neighbors import NearestNeighbors"
      ]
    },
    {
      "cell_type": "code",
      "source": [
        "from google.colab import files\n",
        "uploaded = files.upload()"
      ],
      "metadata": {
        "colab": {
          "base_uri": "https://localhost:8080/",
          "height": 74
        },
        "id": "3iAnhO5iiO_D",
        "outputId": "3de9f201-eb32-4d54-83a1-904e2c1fed83"
      },
      "execution_count": null,
      "outputs": [
        {
          "output_type": "display_data",
          "data": {
            "text/plain": [
              "<IPython.core.display.HTML object>"
            ],
            "text/html": [
              "\n",
              "     <input type=\"file\" id=\"files-0c414902-3df9-4481-bbce-371a0b84e419\" name=\"files[]\" multiple disabled\n",
              "        style=\"border:none\" />\n",
              "     <output id=\"result-0c414902-3df9-4481-bbce-371a0b84e419\">\n",
              "      Upload widget is only available when the cell has been executed in the\n",
              "      current browser session. Please rerun this cell to enable.\n",
              "      </output>\n",
              "      <script>// Copyright 2017 Google LLC\n",
              "//\n",
              "// Licensed under the Apache License, Version 2.0 (the \"License\");\n",
              "// you may not use this file except in compliance with the License.\n",
              "// You may obtain a copy of the License at\n",
              "//\n",
              "//      http://www.apache.org/licenses/LICENSE-2.0\n",
              "//\n",
              "// Unless required by applicable law or agreed to in writing, software\n",
              "// distributed under the License is distributed on an \"AS IS\" BASIS,\n",
              "// WITHOUT WARRANTIES OR CONDITIONS OF ANY KIND, either express or implied.\n",
              "// See the License for the specific language governing permissions and\n",
              "// limitations under the License.\n",
              "\n",
              "/**\n",
              " * @fileoverview Helpers for google.colab Python module.\n",
              " */\n",
              "(function(scope) {\n",
              "function span(text, styleAttributes = {}) {\n",
              "  const element = document.createElement('span');\n",
              "  element.textContent = text;\n",
              "  for (const key of Object.keys(styleAttributes)) {\n",
              "    element.style[key] = styleAttributes[key];\n",
              "  }\n",
              "  return element;\n",
              "}\n",
              "\n",
              "// Max number of bytes which will be uploaded at a time.\n",
              "const MAX_PAYLOAD_SIZE = 100 * 1024;\n",
              "\n",
              "function _uploadFiles(inputId, outputId) {\n",
              "  const steps = uploadFilesStep(inputId, outputId);\n",
              "  const outputElement = document.getElementById(outputId);\n",
              "  // Cache steps on the outputElement to make it available for the next call\n",
              "  // to uploadFilesContinue from Python.\n",
              "  outputElement.steps = steps;\n",
              "\n",
              "  return _uploadFilesContinue(outputId);\n",
              "}\n",
              "\n",
              "// This is roughly an async generator (not supported in the browser yet),\n",
              "// where there are multiple asynchronous steps and the Python side is going\n",
              "// to poll for completion of each step.\n",
              "// This uses a Promise to block the python side on completion of each step,\n",
              "// then passes the result of the previous step as the input to the next step.\n",
              "function _uploadFilesContinue(outputId) {\n",
              "  const outputElement = document.getElementById(outputId);\n",
              "  const steps = outputElement.steps;\n",
              "\n",
              "  const next = steps.next(outputElement.lastPromiseValue);\n",
              "  return Promise.resolve(next.value.promise).then((value) => {\n",
              "    // Cache the last promise value to make it available to the next\n",
              "    // step of the generator.\n",
              "    outputElement.lastPromiseValue = value;\n",
              "    return next.value.response;\n",
              "  });\n",
              "}\n",
              "\n",
              "/**\n",
              " * Generator function which is called between each async step of the upload\n",
              " * process.\n",
              " * @param {string} inputId Element ID of the input file picker element.\n",
              " * @param {string} outputId Element ID of the output display.\n",
              " * @return {!Iterable<!Object>} Iterable of next steps.\n",
              " */\n",
              "function* uploadFilesStep(inputId, outputId) {\n",
              "  const inputElement = document.getElementById(inputId);\n",
              "  inputElement.disabled = false;\n",
              "\n",
              "  const outputElement = document.getElementById(outputId);\n",
              "  outputElement.innerHTML = '';\n",
              "\n",
              "  const pickedPromise = new Promise((resolve) => {\n",
              "    inputElement.addEventListener('change', (e) => {\n",
              "      resolve(e.target.files);\n",
              "    });\n",
              "  });\n",
              "\n",
              "  const cancel = document.createElement('button');\n",
              "  inputElement.parentElement.appendChild(cancel);\n",
              "  cancel.textContent = 'Cancel upload';\n",
              "  const cancelPromise = new Promise((resolve) => {\n",
              "    cancel.onclick = () => {\n",
              "      resolve(null);\n",
              "    };\n",
              "  });\n",
              "\n",
              "  // Wait for the user to pick the files.\n",
              "  const files = yield {\n",
              "    promise: Promise.race([pickedPromise, cancelPromise]),\n",
              "    response: {\n",
              "      action: 'starting',\n",
              "    }\n",
              "  };\n",
              "\n",
              "  cancel.remove();\n",
              "\n",
              "  // Disable the input element since further picks are not allowed.\n",
              "  inputElement.disabled = true;\n",
              "\n",
              "  if (!files) {\n",
              "    return {\n",
              "      response: {\n",
              "        action: 'complete',\n",
              "      }\n",
              "    };\n",
              "  }\n",
              "\n",
              "  for (const file of files) {\n",
              "    const li = document.createElement('li');\n",
              "    li.append(span(file.name, {fontWeight: 'bold'}));\n",
              "    li.append(span(\n",
              "        `(${file.type || 'n/a'}) - ${file.size} bytes, ` +\n",
              "        `last modified: ${\n",
              "            file.lastModifiedDate ? file.lastModifiedDate.toLocaleDateString() :\n",
              "                                    'n/a'} - `));\n",
              "    const percent = span('0% done');\n",
              "    li.appendChild(percent);\n",
              "\n",
              "    outputElement.appendChild(li);\n",
              "\n",
              "    const fileDataPromise = new Promise((resolve) => {\n",
              "      const reader = new FileReader();\n",
              "      reader.onload = (e) => {\n",
              "        resolve(e.target.result);\n",
              "      };\n",
              "      reader.readAsArrayBuffer(file);\n",
              "    });\n",
              "    // Wait for the data to be ready.\n",
              "    let fileData = yield {\n",
              "      promise: fileDataPromise,\n",
              "      response: {\n",
              "        action: 'continue',\n",
              "      }\n",
              "    };\n",
              "\n",
              "    // Use a chunked sending to avoid message size limits. See b/62115660.\n",
              "    let position = 0;\n",
              "    do {\n",
              "      const length = Math.min(fileData.byteLength - position, MAX_PAYLOAD_SIZE);\n",
              "      const chunk = new Uint8Array(fileData, position, length);\n",
              "      position += length;\n",
              "\n",
              "      const base64 = btoa(String.fromCharCode.apply(null, chunk));\n",
              "      yield {\n",
              "        response: {\n",
              "          action: 'append',\n",
              "          file: file.name,\n",
              "          data: base64,\n",
              "        },\n",
              "      };\n",
              "\n",
              "      let percentDone = fileData.byteLength === 0 ?\n",
              "          100 :\n",
              "          Math.round((position / fileData.byteLength) * 100);\n",
              "      percent.textContent = `${percentDone}% done`;\n",
              "\n",
              "    } while (position < fileData.byteLength);\n",
              "  }\n",
              "\n",
              "  // All done.\n",
              "  yield {\n",
              "    response: {\n",
              "      action: 'complete',\n",
              "    }\n",
              "  };\n",
              "}\n",
              "\n",
              "scope.google = scope.google || {};\n",
              "scope.google.colab = scope.google.colab || {};\n",
              "scope.google.colab._files = {\n",
              "  _uploadFiles,\n",
              "  _uploadFilesContinue,\n",
              "};\n",
              "})(self);\n",
              "</script> "
            ]
          },
          "metadata": {}
        },
        {
          "output_type": "stream",
          "name": "stdout",
          "text": [
            "Saving data-HW1.csv to data-HW1.csv\n"
          ]
        }
      ]
    },
    {
      "cell_type": "code",
      "source": [
        "import io\n",
        "df = pd.read_csv(io.BytesIO(uploaded['data-HW1.csv']))"
      ],
      "metadata": {
        "id": "-xywmN8lnZzO"
      },
      "execution_count": null,
      "outputs": []
    },
    {
      "cell_type": "code",
      "source": [
        "df"
      ],
      "metadata": {
        "colab": {
          "base_uri": "https://localhost:8080/",
          "height": 487
        },
        "id": "mjmP2qtnnhas",
        "outputId": "e6c7ba0b-9045-4dc2-c833-21abf41b71ed"
      },
      "execution_count": null,
      "outputs": [
        {
          "output_type": "execute_result",
          "data": {
            "text/plain": [
              "      f1   f2   f3        f5        f6        f7        f8       f10  \\\n",
              "0    4.9  2.4  3.3  0.690359  0.422645  0.878143  0.376585  0.362641   \n",
              "1    6.6  2.9  4.6  0.616655  0.874309  0.459046  0.482676  0.313274   \n",
              "2    5.2  2.7  3.9  0.437972  0.192906  0.797402  0.240313  0.759578   \n",
              "3    5.0  2.0  3.5  0.814196  0.597263  0.066628  0.571313  0.433396   \n",
              "4    5.9  3.0  4.2  0.946941  0.507036  0.769905  0.051230  0.029628   \n",
              "..   ...  ...  ...       ...       ...       ...       ...       ...   \n",
              "144  6.9  3.1  4.9  0.231961  0.023425  0.181783  0.424887  0.512870   \n",
              "145  5.5  2.3  4.0  0.027749  0.881636  0.301138  0.168493  0.851436   \n",
              "146  6.5  2.8  4.6  0.060429  0.360143  0.251416  0.172121  0.794980   \n",
              "147  5.7  2.8  4.5  0.881952  0.061499  0.453779  0.754540  0.333308   \n",
              "148  6.3  3.3  4.7  0.668355  0.238330  0.555170  0.465133  0.951390   \n",
              "\n",
              "          f11       f12       f13       f14       f15       f16       f23  \\\n",
              "0    0.203020  0.102603  0.076807  0.796171  0.031435  0.335731  0.037298   \n",
              "1    0.583737  0.973843  0.559280  0.906481  0.624345  0.484077  0.074671   \n",
              "2    0.132843  0.883097  0.343676  0.113243  0.421582  0.493521  0.132239   \n",
              "3    0.715804  0.459770  0.828627  0.706856  0.463386  0.211002  0.069390   \n",
              "4    0.871120  0.931087  0.663233  0.320440  0.268052  0.936505  0.588667   \n",
              "..        ...       ...       ...       ...       ...       ...       ...   \n",
              "144  0.483258  0.283802  0.004491  0.085795  0.779293  0.519107  0.305918   \n",
              "145  0.891328  0.851857  0.026040  0.881096  0.250410  0.946801  0.031899   \n",
              "146  0.480263  0.108190  0.205383  0.488929  0.928787  0.084804  0.313312   \n",
              "147  0.690532  0.671305  0.723592  0.844107  0.530368  0.900918  0.068293   \n",
              "148  0.940967  0.169391  0.389159  0.526002  0.278094  0.289880  0.038466   \n",
              "\n",
              "          f24       f25  f26  \n",
              "0    0.967632  0.143654  1.0  \n",
              "1    0.340242  0.545620  1.3  \n",
              "2    0.784557  0.168092  1.4  \n",
              "3    0.317207  0.782985  1.0  \n",
              "4    0.320596  0.898933  1.5  \n",
              "..        ...       ...  ...  \n",
              "144  0.193924  0.995627  1.5  \n",
              "145  0.127452  0.780047  1.3  \n",
              "146  0.638242  0.557372  1.5  \n",
              "147  0.624383  0.508832  1.3  \n",
              "148  0.836724  0.435064  1.6  \n",
              "\n",
              "[149 rows x 18 columns]"
            ],
            "text/html": [
              "\n",
              "  <div id=\"df-8d2c7911-037a-4795-a46e-412641452304\">\n",
              "    <div class=\"colab-df-container\">\n",
              "      <div>\n",
              "<style scoped>\n",
              "    .dataframe tbody tr th:only-of-type {\n",
              "        vertical-align: middle;\n",
              "    }\n",
              "\n",
              "    .dataframe tbody tr th {\n",
              "        vertical-align: top;\n",
              "    }\n",
              "\n",
              "    .dataframe thead th {\n",
              "        text-align: right;\n",
              "    }\n",
              "</style>\n",
              "<table border=\"1\" class=\"dataframe\">\n",
              "  <thead>\n",
              "    <tr style=\"text-align: right;\">\n",
              "      <th></th>\n",
              "      <th>f1</th>\n",
              "      <th>f2</th>\n",
              "      <th>f3</th>\n",
              "      <th>f5</th>\n",
              "      <th>f6</th>\n",
              "      <th>f7</th>\n",
              "      <th>f8</th>\n",
              "      <th>f10</th>\n",
              "      <th>f11</th>\n",
              "      <th>f12</th>\n",
              "      <th>f13</th>\n",
              "      <th>f14</th>\n",
              "      <th>f15</th>\n",
              "      <th>f16</th>\n",
              "      <th>f23</th>\n",
              "      <th>f24</th>\n",
              "      <th>f25</th>\n",
              "      <th>f26</th>\n",
              "    </tr>\n",
              "  </thead>\n",
              "  <tbody>\n",
              "    <tr>\n",
              "      <th>0</th>\n",
              "      <td>4.9</td>\n",
              "      <td>2.4</td>\n",
              "      <td>3.3</td>\n",
              "      <td>0.690359</td>\n",
              "      <td>0.422645</td>\n",
              "      <td>0.878143</td>\n",
              "      <td>0.376585</td>\n",
              "      <td>0.362641</td>\n",
              "      <td>0.203020</td>\n",
              "      <td>0.102603</td>\n",
              "      <td>0.076807</td>\n",
              "      <td>0.796171</td>\n",
              "      <td>0.031435</td>\n",
              "      <td>0.335731</td>\n",
              "      <td>0.037298</td>\n",
              "      <td>0.967632</td>\n",
              "      <td>0.143654</td>\n",
              "      <td>1.0</td>\n",
              "    </tr>\n",
              "    <tr>\n",
              "      <th>1</th>\n",
              "      <td>6.6</td>\n",
              "      <td>2.9</td>\n",
              "      <td>4.6</td>\n",
              "      <td>0.616655</td>\n",
              "      <td>0.874309</td>\n",
              "      <td>0.459046</td>\n",
              "      <td>0.482676</td>\n",
              "      <td>0.313274</td>\n",
              "      <td>0.583737</td>\n",
              "      <td>0.973843</td>\n",
              "      <td>0.559280</td>\n",
              "      <td>0.906481</td>\n",
              "      <td>0.624345</td>\n",
              "      <td>0.484077</td>\n",
              "      <td>0.074671</td>\n",
              "      <td>0.340242</td>\n",
              "      <td>0.545620</td>\n",
              "      <td>1.3</td>\n",
              "    </tr>\n",
              "    <tr>\n",
              "      <th>2</th>\n",
              "      <td>5.2</td>\n",
              "      <td>2.7</td>\n",
              "      <td>3.9</td>\n",
              "      <td>0.437972</td>\n",
              "      <td>0.192906</td>\n",
              "      <td>0.797402</td>\n",
              "      <td>0.240313</td>\n",
              "      <td>0.759578</td>\n",
              "      <td>0.132843</td>\n",
              "      <td>0.883097</td>\n",
              "      <td>0.343676</td>\n",
              "      <td>0.113243</td>\n",
              "      <td>0.421582</td>\n",
              "      <td>0.493521</td>\n",
              "      <td>0.132239</td>\n",
              "      <td>0.784557</td>\n",
              "      <td>0.168092</td>\n",
              "      <td>1.4</td>\n",
              "    </tr>\n",
              "    <tr>\n",
              "      <th>3</th>\n",
              "      <td>5.0</td>\n",
              "      <td>2.0</td>\n",
              "      <td>3.5</td>\n",
              "      <td>0.814196</td>\n",
              "      <td>0.597263</td>\n",
              "      <td>0.066628</td>\n",
              "      <td>0.571313</td>\n",
              "      <td>0.433396</td>\n",
              "      <td>0.715804</td>\n",
              "      <td>0.459770</td>\n",
              "      <td>0.828627</td>\n",
              "      <td>0.706856</td>\n",
              "      <td>0.463386</td>\n",
              "      <td>0.211002</td>\n",
              "      <td>0.069390</td>\n",
              "      <td>0.317207</td>\n",
              "      <td>0.782985</td>\n",
              "      <td>1.0</td>\n",
              "    </tr>\n",
              "    <tr>\n",
              "      <th>4</th>\n",
              "      <td>5.9</td>\n",
              "      <td>3.0</td>\n",
              "      <td>4.2</td>\n",
              "      <td>0.946941</td>\n",
              "      <td>0.507036</td>\n",
              "      <td>0.769905</td>\n",
              "      <td>0.051230</td>\n",
              "      <td>0.029628</td>\n",
              "      <td>0.871120</td>\n",
              "      <td>0.931087</td>\n",
              "      <td>0.663233</td>\n",
              "      <td>0.320440</td>\n",
              "      <td>0.268052</td>\n",
              "      <td>0.936505</td>\n",
              "      <td>0.588667</td>\n",
              "      <td>0.320596</td>\n",
              "      <td>0.898933</td>\n",
              "      <td>1.5</td>\n",
              "    </tr>\n",
              "    <tr>\n",
              "      <th>...</th>\n",
              "      <td>...</td>\n",
              "      <td>...</td>\n",
              "      <td>...</td>\n",
              "      <td>...</td>\n",
              "      <td>...</td>\n",
              "      <td>...</td>\n",
              "      <td>...</td>\n",
              "      <td>...</td>\n",
              "      <td>...</td>\n",
              "      <td>...</td>\n",
              "      <td>...</td>\n",
              "      <td>...</td>\n",
              "      <td>...</td>\n",
              "      <td>...</td>\n",
              "      <td>...</td>\n",
              "      <td>...</td>\n",
              "      <td>...</td>\n",
              "      <td>...</td>\n",
              "    </tr>\n",
              "    <tr>\n",
              "      <th>144</th>\n",
              "      <td>6.9</td>\n",
              "      <td>3.1</td>\n",
              "      <td>4.9</td>\n",
              "      <td>0.231961</td>\n",
              "      <td>0.023425</td>\n",
              "      <td>0.181783</td>\n",
              "      <td>0.424887</td>\n",
              "      <td>0.512870</td>\n",
              "      <td>0.483258</td>\n",
              "      <td>0.283802</td>\n",
              "      <td>0.004491</td>\n",
              "      <td>0.085795</td>\n",
              "      <td>0.779293</td>\n",
              "      <td>0.519107</td>\n",
              "      <td>0.305918</td>\n",
              "      <td>0.193924</td>\n",
              "      <td>0.995627</td>\n",
              "      <td>1.5</td>\n",
              "    </tr>\n",
              "    <tr>\n",
              "      <th>145</th>\n",
              "      <td>5.5</td>\n",
              "      <td>2.3</td>\n",
              "      <td>4.0</td>\n",
              "      <td>0.027749</td>\n",
              "      <td>0.881636</td>\n",
              "      <td>0.301138</td>\n",
              "      <td>0.168493</td>\n",
              "      <td>0.851436</td>\n",
              "      <td>0.891328</td>\n",
              "      <td>0.851857</td>\n",
              "      <td>0.026040</td>\n",
              "      <td>0.881096</td>\n",
              "      <td>0.250410</td>\n",
              "      <td>0.946801</td>\n",
              "      <td>0.031899</td>\n",
              "      <td>0.127452</td>\n",
              "      <td>0.780047</td>\n",
              "      <td>1.3</td>\n",
              "    </tr>\n",
              "    <tr>\n",
              "      <th>146</th>\n",
              "      <td>6.5</td>\n",
              "      <td>2.8</td>\n",
              "      <td>4.6</td>\n",
              "      <td>0.060429</td>\n",
              "      <td>0.360143</td>\n",
              "      <td>0.251416</td>\n",
              "      <td>0.172121</td>\n",
              "      <td>0.794980</td>\n",
              "      <td>0.480263</td>\n",
              "      <td>0.108190</td>\n",
              "      <td>0.205383</td>\n",
              "      <td>0.488929</td>\n",
              "      <td>0.928787</td>\n",
              "      <td>0.084804</td>\n",
              "      <td>0.313312</td>\n",
              "      <td>0.638242</td>\n",
              "      <td>0.557372</td>\n",
              "      <td>1.5</td>\n",
              "    </tr>\n",
              "    <tr>\n",
              "      <th>147</th>\n",
              "      <td>5.7</td>\n",
              "      <td>2.8</td>\n",
              "      <td>4.5</td>\n",
              "      <td>0.881952</td>\n",
              "      <td>0.061499</td>\n",
              "      <td>0.453779</td>\n",
              "      <td>0.754540</td>\n",
              "      <td>0.333308</td>\n",
              "      <td>0.690532</td>\n",
              "      <td>0.671305</td>\n",
              "      <td>0.723592</td>\n",
              "      <td>0.844107</td>\n",
              "      <td>0.530368</td>\n",
              "      <td>0.900918</td>\n",
              "      <td>0.068293</td>\n",
              "      <td>0.624383</td>\n",
              "      <td>0.508832</td>\n",
              "      <td>1.3</td>\n",
              "    </tr>\n",
              "    <tr>\n",
              "      <th>148</th>\n",
              "      <td>6.3</td>\n",
              "      <td>3.3</td>\n",
              "      <td>4.7</td>\n",
              "      <td>0.668355</td>\n",
              "      <td>0.238330</td>\n",
              "      <td>0.555170</td>\n",
              "      <td>0.465133</td>\n",
              "      <td>0.951390</td>\n",
              "      <td>0.940967</td>\n",
              "      <td>0.169391</td>\n",
              "      <td>0.389159</td>\n",
              "      <td>0.526002</td>\n",
              "      <td>0.278094</td>\n",
              "      <td>0.289880</td>\n",
              "      <td>0.038466</td>\n",
              "      <td>0.836724</td>\n",
              "      <td>0.435064</td>\n",
              "      <td>1.6</td>\n",
              "    </tr>\n",
              "  </tbody>\n",
              "</table>\n",
              "<p>149 rows × 18 columns</p>\n",
              "</div>\n",
              "      <button class=\"colab-df-convert\" onclick=\"convertToInteractive('df-8d2c7911-037a-4795-a46e-412641452304')\"\n",
              "              title=\"Convert this dataframe to an interactive table.\"\n",
              "              style=\"display:none;\">\n",
              "        \n",
              "  <svg xmlns=\"http://www.w3.org/2000/svg\" height=\"24px\"viewBox=\"0 0 24 24\"\n",
              "       width=\"24px\">\n",
              "    <path d=\"M0 0h24v24H0V0z\" fill=\"none\"/>\n",
              "    <path d=\"M18.56 5.44l.94 2.06.94-2.06 2.06-.94-2.06-.94-.94-2.06-.94 2.06-2.06.94zm-11 1L8.5 8.5l.94-2.06 2.06-.94-2.06-.94L8.5 2.5l-.94 2.06-2.06.94zm10 10l.94 2.06.94-2.06 2.06-.94-2.06-.94-.94-2.06-.94 2.06-2.06.94z\"/><path d=\"M17.41 7.96l-1.37-1.37c-.4-.4-.92-.59-1.43-.59-.52 0-1.04.2-1.43.59L10.3 9.45l-7.72 7.72c-.78.78-.78 2.05 0 2.83L4 21.41c.39.39.9.59 1.41.59.51 0 1.02-.2 1.41-.59l7.78-7.78 2.81-2.81c.8-.78.8-2.07 0-2.86zM5.41 20L4 18.59l7.72-7.72 1.47 1.35L5.41 20z\"/>\n",
              "  </svg>\n",
              "      </button>\n",
              "      \n",
              "  <style>\n",
              "    .colab-df-container {\n",
              "      display:flex;\n",
              "      flex-wrap:wrap;\n",
              "      gap: 12px;\n",
              "    }\n",
              "\n",
              "    .colab-df-convert {\n",
              "      background-color: #E8F0FE;\n",
              "      border: none;\n",
              "      border-radius: 50%;\n",
              "      cursor: pointer;\n",
              "      display: none;\n",
              "      fill: #1967D2;\n",
              "      height: 32px;\n",
              "      padding: 0 0 0 0;\n",
              "      width: 32px;\n",
              "    }\n",
              "\n",
              "    .colab-df-convert:hover {\n",
              "      background-color: #E2EBFA;\n",
              "      box-shadow: 0px 1px 2px rgba(60, 64, 67, 0.3), 0px 1px 3px 1px rgba(60, 64, 67, 0.15);\n",
              "      fill: #174EA6;\n",
              "    }\n",
              "\n",
              "    [theme=dark] .colab-df-convert {\n",
              "      background-color: #3B4455;\n",
              "      fill: #D2E3FC;\n",
              "    }\n",
              "\n",
              "    [theme=dark] .colab-df-convert:hover {\n",
              "      background-color: #434B5C;\n",
              "      box-shadow: 0px 1px 3px 1px rgba(0, 0, 0, 0.15);\n",
              "      filter: drop-shadow(0px 1px 2px rgba(0, 0, 0, 0.3));\n",
              "      fill: #FFFFFF;\n",
              "    }\n",
              "  </style>\n",
              "\n",
              "      <script>\n",
              "        const buttonEl =\n",
              "          document.querySelector('#df-8d2c7911-037a-4795-a46e-412641452304 button.colab-df-convert');\n",
              "        buttonEl.style.display =\n",
              "          google.colab.kernel.accessAllowed ? 'block' : 'none';\n",
              "\n",
              "        async function convertToInteractive(key) {\n",
              "          const element = document.querySelector('#df-8d2c7911-037a-4795-a46e-412641452304');\n",
              "          const dataTable =\n",
              "            await google.colab.kernel.invokeFunction('convertToInteractive',\n",
              "                                                     [key], {});\n",
              "          if (!dataTable) return;\n",
              "\n",
              "          const docLinkHtml = 'Like what you see? Visit the ' +\n",
              "            '<a target=\"_blank\" href=https://colab.research.google.com/notebooks/data_table.ipynb>data table notebook</a>'\n",
              "            + ' to learn more about interactive tables.';\n",
              "          element.innerHTML = '';\n",
              "          dataTable['output_type'] = 'display_data';\n",
              "          await google.colab.output.renderOutput(dataTable, element);\n",
              "          const docLink = document.createElement('div');\n",
              "          docLink.innerHTML = docLinkHtml;\n",
              "          element.appendChild(docLink);\n",
              "        }\n",
              "      </script>\n",
              "    </div>\n",
              "  </div>\n",
              "  "
            ]
          },
          "metadata": {},
          "execution_count": 5
        }
      ]
    },
    {
      "cell_type": "code",
      "source": [
        "print(\"Row 0: \", np.array(df.iloc[0]))\n",
        "print(\"\\n\")\n",
        "print(\"Row 1: \", np.array(df.iloc[1]))"
      ],
      "metadata": {
        "colab": {
          "base_uri": "https://localhost:8080/"
        },
        "id": "gAGwwJUHr_XU",
        "outputId": "7753ab98-0185-4180-d3a0-db92289c1d65"
      },
      "execution_count": null,
      "outputs": [
        {
          "output_type": "stream",
          "name": "stdout",
          "text": [
            "Row 0:  [4.9        2.4        3.3        0.6903594  0.4226447  0.87814319\n",
            " 0.37658528 0.36264095 0.20301953 0.10260258 0.07680687 0.79617099\n",
            " 0.03143519 0.33573081 0.03729804 0.9676317  0.14365367 1.        ]\n",
            "\n",
            "\n",
            "Row 1:  [6.6        2.9        4.6        0.61665504 0.8743091  0.45904553\n",
            " 0.48267602 0.31327391 0.58373695 0.97384314 0.55928033 0.90648114\n",
            " 0.62434542 0.4840768  0.07467125 0.34024186 0.54561987 1.3       ]\n"
          ]
        }
      ]
    },
    {
      "cell_type": "code",
      "source": [
        "#cosine similarity\n",
        "\n",
        "def cosine(v1, v2):\n",
        "  n= np.dot(v1,v2)\n",
        "  d= np.sqrt(sum(v1**2)) * np.sqrt(sum(v2**2))\n",
        "  c= n/d\n",
        "  return c\n",
        "\n",
        "co= cosine(df.iloc[0], df.iloc[1])\n",
        "print(\"cosine Similarity: \",co)"
      ],
      "metadata": {
        "colab": {
          "base_uri": "https://localhost:8080/"
        },
        "id": "gXQDHhdYmzX1",
        "outputId": "169d722a-c1f8-45a0-a48f-6c0a7a0919e6"
      },
      "execution_count": null,
      "outputs": [
        {
          "output_type": "stream",
          "name": "stdout",
          "text": [
            "cosine Similarity:  0.9796454701665941\n"
          ]
        }
      ]
    },
    {
      "cell_type": "code",
      "source": [
        "#jaccard similarity\n",
        "\n",
        "def jaccard(v1,v2):\n",
        "  minimus=[]\n",
        "  maximus=[]\n",
        "\n",
        "  for i in range(0, len(v1)):\n",
        "    minimus.append(min(v1[i], v2[i]))\n",
        "    maximus.append(max(v1[i], v2[i]))\n",
        "\n",
        "  j= sum(minimus)/sum(maximus)\n",
        "  return j\n",
        "\n",
        "jd= jaccard(df.iloc[0], df.iloc[1])\n",
        "print(\"Jaccard Similarity: \",jd)"
      ],
      "metadata": {
        "colab": {
          "base_uri": "https://localhost:8080/"
        },
        "id": "7uFFF-JqtIGQ",
        "outputId": "8d43cc0d-7adc-44d1-b4d8-2b87e6b23260"
      },
      "execution_count": null,
      "outputs": [
        {
          "output_type": "stream",
          "name": "stdout",
          "text": [
            "Jaccard Similarity:  0.6495937402532462\n"
          ]
        }
      ]
    },
    {
      "cell_type": "code",
      "source": [
        "#tanimoto similarity\n",
        "\n",
        "def tanimoto(v1, v2):\n",
        "  n= np.dot(v1,v2)\n",
        "  d= (np.sqrt(sum(v1**2)))**2 + (np.sqrt(sum(v2**2)))**2 - n\n",
        "  c= n/d\n",
        "  return c\n",
        "\n",
        "tn= tanimoto(df.iloc[0], df.iloc[1])\n",
        "print(\"tanimoto Similarity: \",tn)"
      ],
      "metadata": {
        "colab": {
          "base_uri": "https://localhost:8080/"
        },
        "id": "wa9EnrNItXEt",
        "outputId": "7cd6aae2-90a7-45ed-facc-e879d8c1a8ed"
      },
      "execution_count": null,
      "outputs": [
        {
          "output_type": "stream",
          "name": "stdout",
          "text": [
            "tanimoto Similarity:  0.8883294479993544\n"
          ]
        }
      ]
    },
    {
      "cell_type": "code",
      "source": [
        "#eucledean distance\n",
        "\n",
        "def euclid(v1,v2):\n",
        "  e= np.sqrt(sum((v1-v2)**2))\n",
        "  return e\n",
        "\n",
        "ed= euclid(df.iloc[0], df.iloc[1])\n",
        "print(\"Eucledean Distance: \", ed)"
      ],
      "metadata": {
        "colab": {
          "base_uri": "https://localhost:8080/"
        },
        "id": "D1NkaiHmyd7m",
        "outputId": "f7f5e9d7-3f0f-470e-cbf4-cc510a386ab7"
      },
      "execution_count": null,
      "outputs": [
        {
          "output_type": "stream",
          "name": "stdout",
          "text": [
            "Eucledean Distance:  2.71990142706248\n"
          ]
        }
      ]
    },
    {
      "cell_type": "code",
      "source": [
        "#manhattan distance\n",
        "\n",
        "def manhattan(v1, v2):\n",
        "  m= sum(abs(v1-v2))\n",
        "  return m\n",
        "\n",
        "md= manhattan(df.iloc[0], df.iloc[1])\n",
        "print(\"Manhattan: \", md)"
      ],
      "metadata": {
        "colab": {
          "base_uri": "https://localhost:8080/"
        },
        "id": "q8w0_4cXynBe",
        "outputId": "a22006df-e487-4651-c821-6c9f6d675a6c"
      },
      "execution_count": null,
      "outputs": [
        {
          "output_type": "stream",
          "name": "stdout",
          "text": [
            "Manhattan:  8.552651256999999\n"
          ]
        }
      ]
    },
    {
      "cell_type": "code",
      "source": [
        "#reference vector for KNN\n",
        "\n",
        "refInd= 10 #reference vector\n",
        "refVec= df.iloc[refInd]\n",
        "k=5 #number of neighbors"
      ],
      "metadata": {
        "id": "eFygTSYO4ea1"
      },
      "execution_count": null,
      "outputs": []
    },
    {
      "cell_type": "code",
      "source": [
        "#model for nearest neighbor using euclidean\n",
        "\n",
        "nbrs= NearestNeighbors(n_neighbors= k, algorithm= \"brute\", metric= \"euclidean\" ) #for metric we can't accept Jaccard as knn is expecting a distance\n",
        "fitted= nbrs.fit(df)\n",
        "distances, indices= fitted.kneighbors([refVec])\n",
        "print(\"indices of the nearest neighbors; \")\n",
        "print(indices)\n",
        "print(\"distances of the nearest neighbors; \")\n",
        "print(distances)"
      ],
      "metadata": {
        "colab": {
          "base_uri": "https://localhost:8080/"
        },
        "id": "qFq7d935_ZBI",
        "outputId": "377f316e-9c1a-425b-cada-e575a6baf065"
      },
      "execution_count": null,
      "outputs": [
        {
          "output_type": "stream",
          "name": "stdout",
          "text": [
            "indices of the nearest neighbors; \n",
            "[[10  9  7 17 12]]\n",
            "distances of the nearest neighbors; \n",
            "[[8.42936970e-08 1.36099141e+00 1.54569261e+00 1.54949591e+00\n",
            "  1.54992765e+00]]\n"
          ]
        },
        {
          "output_type": "stream",
          "name": "stderr",
          "text": [
            "/usr/local/lib/python3.8/dist-packages/sklearn/base.py:450: UserWarning: X does not have valid feature names, but NearestNeighbors was fitted with feature names\n",
            "  warnings.warn(\n"
          ]
        }
      ]
    },
    {
      "cell_type": "code",
      "source": [
        "#model for nearest neighbor using manhattan\n",
        "\n",
        "nbrs= NearestNeighbors(n_neighbors= k, algorithm= \"brute\", metric= \"manhattan\" ) #for metric we can't accept Jaccard as knn is expecting a distance\n",
        "fitted= nbrs.fit(df)\n",
        "distances, indices= fitted.kneighbors([refVec])\n",
        "print(\"indices of the nearest neighbors; \")\n",
        "print(indices)\n",
        "print(\"distances of the nearest neighbors; \")\n",
        "print(distances)"
      ],
      "metadata": {
        "colab": {
          "base_uri": "https://localhost:8080/"
        },
        "id": "TjPcd6sJ_4C2",
        "outputId": "8c0a13a1-051b-475b-e437-e6ff937d8bae"
      },
      "execution_count": null,
      "outputs": [
        {
          "output_type": "stream",
          "name": "stdout",
          "text": [
            "indices of the nearest neighbors; \n",
            "[[10  9 17 15 12]]\n",
            "distances of the nearest neighbors; \n",
            "[[0.         5.01643507 5.05932368 5.40795824 5.44569167]]\n"
          ]
        },
        {
          "output_type": "stream",
          "name": "stderr",
          "text": [
            "/usr/local/lib/python3.8/dist-packages/sklearn/base.py:450: UserWarning: X does not have valid feature names, but NearestNeighbors was fitted with feature names\n",
            "  warnings.warn(\n"
          ]
        }
      ]
    },
    {
      "cell_type": "code",
      "source": [
        "#reference vector for KNN\n",
        "\n",
        "refInd= 10 #reference vector\n",
        "refVec= df.iloc[refInd]\n",
        "k=5 #number of neighbors"
      ],
      "metadata": {
        "id": "KboEVyYWmyHP"
      },
      "execution_count": null,
      "outputs": []
    },
    {
      "cell_type": "code",
      "source": [
        "#model for nearest neighbor using Jaccard\n",
        "#for metric we can't accept Jaccard as knn is expecting a distance\n",
        "nbrs=NearestNeighbors(n_neighbors=k,algorithm='brute',metric=lambda a, b: 1 - jaccard(a, b))\n",
        "fitted= nbrs.fit(df)\n",
        "distances, indices= fitted.kneighbors([refVec])\n",
        "print(\"indices of the nearest neighbors: \")\n",
        "print(indices)\n",
        "print(\"distances of the nearest neighbors: \")\n",
        "print(distances)"
      ],
      "metadata": {
        "colab": {
          "base_uri": "https://localhost:8080/"
        },
        "id": "omFjcBjQAL7M",
        "outputId": "514aa045-68c8-4ef5-ab79-7b409b381dfb"
      },
      "execution_count": null,
      "outputs": [
        {
          "output_type": "stream",
          "name": "stdout",
          "text": [
            "indices of the nearest neighbors: \n",
            "[[ 10  17  15   9 147]]\n",
            "distances of the nearest neighbors: \n",
            "[[0.         0.21081411 0.22612156 0.22615242 0.23078577]]\n"
          ]
        },
        {
          "output_type": "stream",
          "name": "stderr",
          "text": [
            "/usr/local/lib/python3.8/dist-packages/sklearn/base.py:450: UserWarning: X does not have valid feature names, but NearestNeighbors was fitted with feature names\n",
            "  warnings.warn(\n"
          ]
        }
      ]
    },
    {
      "cell_type": "markdown",
      "source": [
        "**QUESTION 5**\n",
        "\n",
        "What is the Euclidean distance between rows 50 and 55?"
      ],
      "metadata": {
        "id": "vZXBhgJBysgG"
      }
    },
    {
      "cell_type": "code",
      "source": [
        "#eucledean distance\n",
        "\n",
        "def euclid(v1,v2):\n",
        "  e= np.sqrt(sum((v1-v2)**2))\n",
        "  return e\n",
        "\n",
        "ed= euclid(df.iloc[50], df.iloc[55])\n",
        "print(\"Eucledean Distance: \", ed)"
      ],
      "metadata": {
        "colab": {
          "base_uri": "https://localhost:8080/"
        },
        "id": "GeAIo_ZRywSv",
        "outputId": "64106791-23c8-460a-cf67-3aa886d10720"
      },
      "execution_count": null,
      "outputs": [
        {
          "output_type": "stream",
          "name": "stdout",
          "text": [
            "Eucledean Distance:  1.9729823248531622\n"
          ]
        }
      ]
    },
    {
      "cell_type": "markdown",
      "source": [
        "**QUESTION 7**\n",
        "\n",
        "What is the Jaccard similarity between rows 111 and 101?"
      ],
      "metadata": {
        "id": "rqt4Cq9l0qWV"
      }
    },
    {
      "cell_type": "code",
      "source": [
        "#jaccard similarity\n",
        "\n",
        "def jaccard(v1,v2):\n",
        "  minimus=[]\n",
        "  maximus=[]\n",
        "\n",
        "  for i in range(0, len(v1)):\n",
        "    minimus.append(min(v1[i], v2[i]))\n",
        "    maximus.append(max(v1[i], v2[i]))\n",
        "\n",
        "  j= sum(minimus)/sum(maximus)\n",
        "  return j\n",
        "\n",
        "jd= jaccard(df.iloc[111], df.iloc[101])\n",
        "print(\"Jaccard Similarity: \",jd)"
      ],
      "metadata": {
        "colab": {
          "base_uri": "https://localhost:8080/"
        },
        "id": "1bD37tqD0x1K",
        "outputId": "ed6dc267-bf8b-4576-c046-04936b5c3ba1"
      },
      "execution_count": null,
      "outputs": [
        {
          "output_type": "stream",
          "name": "stdout",
          "text": [
            "Jaccard Similarity:  0.7441790855335985\n"
          ]
        }
      ]
    },
    {
      "cell_type": "markdown",
      "source": [
        "**QUESTION 8**\n",
        "\n",
        "What is the cosine similarity between rows 35 and 99?"
      ],
      "metadata": {
        "id": "dBXH5vVw1Bqf"
      }
    },
    {
      "cell_type": "code",
      "source": [
        "#cosine similarity\n",
        "\n",
        "def cosine(v1, v2):\n",
        "  n= np.dot(v1,v2)\n",
        "  d= np.sqrt(sum(v1**2)) * np.sqrt(sum(v2**2))\n",
        "  c= n/d\n",
        "  return c\n",
        "\n",
        "co= cosine(df.iloc[35], df.iloc[99])\n",
        "print(\"cosine Similarity: \",co)"
      ],
      "metadata": {
        "colab": {
          "base_uri": "https://localhost:8080/"
        },
        "id": "yRIO4Lwr1Dwd",
        "outputId": "6a644e67-7d5d-4d06-b786-b1d9bb9cae16"
      },
      "execution_count": null,
      "outputs": [
        {
          "output_type": "stream",
          "name": "stdout",
          "text": [
            "cosine Similarity:  0.9100554389849032\n"
          ]
        }
      ]
    },
    {
      "cell_type": "markdown",
      "source": [
        "**QUESTION 1**\n",
        "\n",
        "What is the Tanimoto similarity between rows 3 and 102?"
      ],
      "metadata": {
        "id": "YaraDBrBhEQ-"
      }
    },
    {
      "cell_type": "code",
      "source": [
        "#tanimoto similarity\n",
        "\n",
        "def tanimoto(v1, v2):\n",
        "  n= np.dot(v1,v2)\n",
        "  d= (np.sqrt(sum(v1**2)))**2 + (np.sqrt(sum(v2**2)))**2 - n\n",
        "  c= n/d\n",
        "  return c\n",
        "\n",
        "tn= tanimoto(df.iloc[3], df.iloc[102])\n",
        "print(\"tanimoto Similarity: \",tn)"
      ],
      "metadata": {
        "colab": {
          "base_uri": "https://localhost:8080/"
        },
        "id": "pEGFcGyghK1g",
        "outputId": "db6f0be1-79cf-463b-e5e9-453eeeb8a862"
      },
      "execution_count": null,
      "outputs": [
        {
          "output_type": "stream",
          "name": "stdout",
          "text": [
            "tanimoto Similarity:  0.7974743328062395\n"
          ]
        }
      ]
    },
    {
      "cell_type": "markdown",
      "source": [
        "**QUESTION 3**\n",
        "\n",
        "The first nearest neighbor of a row is itself. Which row is the second nearest neighbor of row 101 using euclidean distance?"
      ],
      "metadata": {
        "id": "EuGFyYlqhc0U"
      }
    },
    {
      "cell_type": "code",
      "source": [
        "#reference vector for KNN\n",
        "\n",
        "refInd= 101 #reference vector\n",
        "refVec= df.iloc[refInd]\n",
        "k=5 #number of neighbors\n",
        "\n",
        "#model for nearest neighbor using eucledean\n",
        "\n",
        "nbrs= NearestNeighbors(n_neighbors= k, algorithm= \"brute\", metric= \"euclidean\" ) #for metric we can't accept Jaccard as knn is expecting a distance\n",
        "fitted= nbrs.fit(df)\n",
        "distances, indices= fitted.kneighbors([refVec])\n",
        "print(\"indices of the nearest neighbors; \")\n",
        "print(indices)\n",
        "print(\"distances of the nearest neighbors; \")\n",
        "print(distances)"
      ],
      "metadata": {
        "colab": {
          "base_uri": "https://localhost:8080/"
        },
        "id": "pUyjO6QNh5KP",
        "outputId": "fb0b3312-bb00-4b4e-ddd1-9d09b206767d"
      },
      "execution_count": null,
      "outputs": [
        {
          "output_type": "stream",
          "name": "stdout",
          "text": [
            "indices of the nearest neighbors; \n",
            "[[101 122 132 129 127]]\n",
            "distances of the nearest neighbors; \n",
            "[[0.         1.21469392 1.2157888  1.22386318 1.32038255]]\n"
          ]
        },
        {
          "output_type": "stream",
          "name": "stderr",
          "text": [
            "/usr/local/lib/python3.8/dist-packages/sklearn/base.py:450: UserWarning: X does not have valid feature names, but NearestNeighbors was fitted with feature names\n",
            "  warnings.warn(\n"
          ]
        }
      ]
    },
    {
      "cell_type": "markdown",
      "source": [
        "**QUESTION 6**\n",
        "\n",
        "The first nearest neighbor of a row is itself. Which of the following statements is/are correct? \n",
        "\n",
        "\t\t\n",
        "The second nearest neighbor of row 63 using Euclidean distance is the same as the second nearest neighbor of row 63 using Manhattan distance.\n",
        "\n",
        "\t\t\n",
        "The fourth nearest neighbor of row 21 using Euclidean distance is the same as the fourth nearest neighbor of row 21 using Manhattan distance.\n",
        "\n",
        "\t\t\n",
        "The third nearest neighbor of row 63 using Euclidean distance is the same as the third nearest neighbor of row 63 using Manhattan distance.\n",
        "\n",
        "\t\t\n",
        "The fifth nearest neighbor of row 21 using Euclidean distance is the same as the fifth nearest neighbor of row 21 using Manhattan distance."
      ],
      "metadata": {
        "id": "vCuap4hXjMlh"
      }
    },
    {
      "cell_type": "code",
      "source": [
        "#option 1 and 3: euclidean distance\n",
        "#The second nearest neighbor of row 63 using Euclidean distance \n",
        "#is the same as the second nearest neighbor of row 63 using Manhattan distance.\n",
        "\n",
        "#reference vector for KNN\n",
        "\n",
        "refInd= 63 #reference vector\n",
        "refVec= df.iloc[refInd]\n",
        "k=5 #number of neighbors\n",
        "\n",
        "#model for nearest neighbor using eucledean\n",
        "\n",
        "nbrs= NearestNeighbors(n_neighbors= k, algorithm= \"brute\", metric= \"euclidean\" ) #for metric we can't accept Jaccard as knn is expecting a distance\n",
        "fitted= nbrs.fit(df)\n",
        "distances, indices= fitted.kneighbors([refVec])\n",
        "print(\"indices of the nearest neighbors using euclidean: \")\n",
        "print(indices)\n",
        "print(\"distances of the nearest neighbors; \")\n",
        "print(distances)\n",
        "\n",
        "print(\"*******************************************************************************************************\")\n",
        "#option 1 and 3: manhattan distance\n",
        "#The second nearest neighbor of row 63 using Euclidean distance \n",
        "#is the same as the second nearest neighbor of row 63 using Manhattan distance.\n",
        "\n",
        "refInd= 63 #reference vector\n",
        "refVec= df.iloc[refInd]\n",
        "k=5 #number of neighbors\n",
        "\n",
        "#model for nearest neighbor using eucledean\n",
        "\n",
        "nbrs= NearestNeighbors(n_neighbors= k, algorithm= \"brute\", metric= \"manhattan\" ) #for metric we can't accept Jaccard as knn is expecting a distance\n",
        "fitted= nbrs.fit(df)\n",
        "distances, indices= fitted.kneighbors([refVec])\n",
        "print(\"indices of the nearest neighbors using Manhattan: \")\n",
        "print(indices)\n",
        "print(\"distances of the nearest neighbors; \")\n",
        "print(distances)\n",
        "\n"
      ],
      "metadata": {
        "colab": {
          "base_uri": "https://localhost:8080/"
        },
        "id": "qzxxdn31jYL7",
        "outputId": "de8e2c49-78ab-4d5a-9428-092a601b77af"
      },
      "execution_count": null,
      "outputs": [
        {
          "output_type": "stream",
          "name": "stdout",
          "text": [
            "indices of the nearest neighbors using euclidean: \n",
            "[[63 83 79 45 86]]\n",
            "distances of the nearest neighbors; \n",
            "[[0.         1.19949819 1.22548933 1.32094813 1.32325672]]\n",
            "*******************************************************************************************************\n",
            "indices of the nearest neighbors using Manhattan: \n",
            "[[63 83 52 86 79]]\n",
            "distances of the nearest neighbors; \n",
            "[[0.         4.06445342 4.34817859 4.37387373 4.46802224]]\n"
          ]
        },
        {
          "output_type": "stream",
          "name": "stderr",
          "text": [
            "/usr/local/lib/python3.8/dist-packages/sklearn/base.py:450: UserWarning: X does not have valid feature names, but NearestNeighbors was fitted with feature names\n",
            "  warnings.warn(\n",
            "/usr/local/lib/python3.8/dist-packages/sklearn/base.py:450: UserWarning: X does not have valid feature names, but NearestNeighbors was fitted with feature names\n",
            "  warnings.warn(\n"
          ]
        }
      ]
    },
    {
      "cell_type": "markdown",
      "source": [
        "**Option 1: This option is true as the second neighbour in both case in 83.**\n",
        "**Option 3: This option is wrong as one is 79, and other is 52.**"
      ],
      "metadata": {
        "id": "9oxw414PkE6H"
      }
    },
    {
      "cell_type": "code",
      "source": [
        "#option 2\n",
        "#The fourth nearest neighbor of row 21 using Euclidean distance \n",
        "#is the same as the fourth nearest neighbor of row 21 using Manhattan distance.\n",
        "\n",
        "#reference vector for KNN\n",
        "\n",
        "refInd= 21 #reference vector\n",
        "refVec= df.iloc[refInd]\n",
        "k=5 #number of neighbors\n",
        "\n",
        "#model for nearest neighbor using eucledean\n",
        "\n",
        "nbrs= NearestNeighbors(n_neighbors= k, algorithm= \"brute\", metric= \"euclidean\" ) #for metric we can't accept Jaccard as knn is expecting a distance\n",
        "fitted= nbrs.fit(df)\n",
        "distances, indices= fitted.kneighbors([refVec])\n",
        "print(\"indices of the nearest neighbors using euclidean: \")\n",
        "print(indices)\n",
        "print(\"distances of the nearest neighbors; \")\n",
        "print(distances)\n",
        "\n",
        "print(\"*******************************************************************************************************\")\n",
        "#option 1: manhattan distance\n",
        "#The second nearest neighbor of row 63 using Euclidean distance \n",
        "#is the same as the second nearest neighbor of row 63 using Manhattan distance.\n",
        "\n",
        "#model for nearest neighbor using eucledean\n",
        "\n",
        "nbrs= NearestNeighbors(n_neighbors= k, algorithm= \"brute\", metric= \"manhattan\" ) #for metric we can't accept Jaccard as knn is expecting a distance\n",
        "fitted= nbrs.fit(df)\n",
        "distances, indices= fitted.kneighbors([refVec])\n",
        "print(\"indices of the nearest neighbors using Manhattan: \")\n",
        "print(indices)\n",
        "print(\"distances of the nearest neighbors; \")\n",
        "print(distances)"
      ],
      "metadata": {
        "colab": {
          "base_uri": "https://localhost:8080/"
        },
        "id": "CDp5JUiwk5UY",
        "outputId": "342e469b-708b-480a-ec46-e618e0ae93c3"
      },
      "execution_count": null,
      "outputs": [
        {
          "output_type": "stream",
          "name": "stdout",
          "text": [
            "indices of the nearest neighbors using euclidean: \n",
            "[[21 28 39  1 40]]\n",
            "distances of the nearest neighbors; \n",
            "[[1.68587394e-07 1.14860116e+00 1.18647510e+00 1.23710635e+00\n",
            "  1.26397079e+00]]\n",
            "*******************************************************************************************************\n",
            "indices of the nearest neighbors using Manhattan: \n",
            "[[21 28 39 27 40]]\n",
            "distances of the nearest neighbors; \n",
            "[[0.         3.72412972 4.18166674 4.18812899 4.43135326]]\n"
          ]
        },
        {
          "output_type": "stream",
          "name": "stderr",
          "text": [
            "/usr/local/lib/python3.8/dist-packages/sklearn/base.py:450: UserWarning: X does not have valid feature names, but NearestNeighbors was fitted with feature names\n",
            "  warnings.warn(\n",
            "/usr/local/lib/python3.8/dist-packages/sklearn/base.py:450: UserWarning: X does not have valid feature names, but NearestNeighbors was fitted with feature names\n",
            "  warnings.warn(\n"
          ]
        }
      ]
    },
    {
      "cell_type": "markdown",
      "source": [
        "The 4th Neighbor is different(1 and 27)\n",
        "\n",
        "Option 4: this is true as both is 40 \n",
        "\n"
      ],
      "metadata": {
        "id": "P1JIF5G6lVcf"
      }
    },
    {
      "cell_type": "markdown",
      "source": [
        "**QUESTION 2**\n",
        "\n",
        "When you use Jaccard disssimilarity for finding k-nearest neighbors, which row index has the second nearest neighbor of the row with index 105? Write only an integer. Writing anything else other than an integer will result in zero points for this question."
      ],
      "metadata": {
        "id": "6IwUcLI_pKju"
      }
    },
    {
      "cell_type": "code",
      "source": [
        "#option 2\n",
        "#The fourth nearest neighbor of row 21 using Euclidean distance \n",
        "#is the same as the fourth nearest neighbor of row 21 using Manhattan distance.\n",
        "\n",
        "#reference vector for KNN\n",
        "\n",
        "refInd= 21 #reference vector\n",
        "refVec= df.iloc[refInd]\n",
        "k=5 #number of neighbors\n",
        "\n",
        "#model for nearest neighbor using eucledean\n",
        "\n",
        "nbrs= NearestNeighbors(n_neighbors= k, algorithm= \"brute\", metric= \"euclidean\" ) #for metric we can't accept Jaccard as knn is expecting a distance\n",
        "fitted= nbrs.fit(df)\n",
        "distances, indices= fitted.kneighbors([refVec])\n",
        "print(\"indices of the nearest neighbors using euclidean: \")\n",
        "print(indices)\n",
        "print(\"distances of the nearest neighbors; \")\n",
        "print(distances)\n",
        "\n",
        "print(\"*******************************************************************************************************\")\n",
        "#option 1: manhattan distance\n",
        "#The second nearest neighbor of row 63 using Euclidean distance \n",
        "#is the same as the second nearest neighbor of row 63 using Manhattan distance.\n",
        "\n",
        "#model for nearest neighbor using eucledean\n",
        "\n",
        "nbrs= NearestNeighbors(n_neighbors= k, algorithm= \"brute\", metric= \"manhattan\" ) #for metric we can't accept Jaccard as knn is expecting a distance\n",
        "fitted= nbrs.fit(df)\n",
        "distances, indices= fitted.kneighbors([refVec])\n",
        "print(\"indices of the nearest neighbors using Manhattan: \")\n",
        "print(indices)\n",
        "print(\"distances of the nearest neighbors; \")\n",
        "print(distances)"
      ],
      "metadata": {
        "colab": {
          "base_uri": "https://localhost:8080/"
        },
        "id": "HieHQCrllmjJ",
        "outputId": "e8adacac-424f-4580-b292-e230182048d3"
      },
      "execution_count": null,
      "outputs": [
        {
          "output_type": "stream",
          "name": "stdout",
          "text": [
            "indices of the nearest neighbors using euclidean: \n",
            "[[21 28 39  1 40]]\n",
            "distances of the nearest neighbors; \n",
            "[[1.68587394e-07 1.14860116e+00 1.18647510e+00 1.23710635e+00\n",
            "  1.26397079e+00]]\n",
            "*******************************************************************************************************\n",
            "indices of the nearest neighbors using Manhattan: \n",
            "[[21 28 39 27 40]]\n",
            "distances of the nearest neighbors; \n",
            "[[0.         3.72412972 4.18166674 4.18812899 4.43135326]]\n"
          ]
        },
        {
          "output_type": "stream",
          "name": "stderr",
          "text": [
            "/usr/local/lib/python3.8/dist-packages/sklearn/base.py:450: UserWarning: X does not have valid feature names, but NearestNeighbors was fitted with feature names\n",
            "  warnings.warn(\n",
            "/usr/local/lib/python3.8/dist-packages/sklearn/base.py:450: UserWarning: X does not have valid feature names, but NearestNeighbors was fitted with feature names\n",
            "  warnings.warn(\n"
          ]
        }
      ]
    },
    {
      "cell_type": "code",
      "source": [
        "#reference vector for KNN\n",
        "\n",
        "refInd= 105 #reference vector\n",
        "refVec= df.iloc[refInd]\n",
        "k=5 #number of neighbors\n",
        "\n",
        "#model for nearest neighbor using Jaccard\n",
        "#for metric we can't accept Jaccard as knn is expecting a distance\n",
        "nbrs=NearestNeighbors(n_neighbors=k,algorithm='brute',metric=lambda a, b: 1 - jaccard(a, b))\n",
        "fitted= nbrs.fit(df)\n",
        "distances, indices= fitted.kneighbors([refVec])\n",
        "print(\"indices of the nearest neighbors; \")\n",
        "print(indices)\n",
        "print(\"distances of the nearest neighbors; \")\n",
        "print(distances)"
      ],
      "metadata": {
        "colab": {
          "base_uri": "https://localhost:8080/"
        },
        "id": "4uxt4llxpM_6",
        "outputId": "a4070ff5-7f07-48e8-fea6-5a4179c24d85"
      },
      "execution_count": null,
      "outputs": [
        {
          "output_type": "stream",
          "name": "stdout",
          "text": [
            "indices of the nearest neighbors; \n",
            "[[105 139 130 109  94]]\n",
            "distances of the nearest neighbors; \n",
            "[[0.         0.1878111  0.23854946 0.2546017  0.25913402]]\n"
          ]
        },
        {
          "output_type": "stream",
          "name": "stderr",
          "text": [
            "/usr/local/lib/python3.8/dist-packages/sklearn/base.py:450: UserWarning: X does not have valid feature names, but NearestNeighbors was fitted with feature names\n",
            "  warnings.warn(\n"
          ]
        }
      ]
    }
  ]
}