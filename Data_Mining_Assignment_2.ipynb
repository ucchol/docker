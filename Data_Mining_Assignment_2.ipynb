{
  "nbformat": 4,
  "nbformat_minor": 0,
  "metadata": {
    "colab": {
      "provenance": [],
      "authorship_tag": "ABX9TyMoGf21pmtjEw3OczyWGxOU",
      "include_colab_link": true
    },
    "kernelspec": {
      "name": "python3",
      "display_name": "Python 3"
    },
    "language_info": {
      "name": "python"
    }
  },
  "cells": [
    {
      "cell_type": "markdown",
      "metadata": {
        "id": "view-in-github",
        "colab_type": "text"
      },
      "source": [
        "<a href=\"https://colab.research.google.com/github/ucchol/docker/blob/main/Data_Mining_Assignment_2.ipynb\" target=\"_parent\"><img src=\"https://colab.research.google.com/assets/colab-badge.svg\" alt=\"Open In Colab\"/></a>"
      ]
    },
    {
      "cell_type": "markdown",
      "source": [
        "# K- Means Clustering"
      ],
      "metadata": {
        "id": "qLSzJU6XIAlg"
      }
    },
    {
      "cell_type": "code",
      "execution_count": 2,
      "metadata": {
        "id": "jswwDuh6tXuM"
      },
      "outputs": [],
      "source": [
        "import numpy as np\n",
        "import pandas as pd\n",
        "from sklearn.cluster import KMeans\n",
        "from sklearn.metrics import silhouette_score \n",
        "from sklearn.metrics import silhouette_samples \n",
        "from sklearn.cluster import AgglomerativeClustering\n",
        "from sklearn.cluster import DBSCAN"
      ]
    },
    {
      "cell_type": "code",
      "source": [
        "from google.colab import files\n",
        "uploaded = files.upload()"
      ],
      "metadata": {
        "colab": {
          "base_uri": "https://localhost:8080/",
          "height": 180
        },
        "id": "-FJ5M8kSu-dX",
        "outputId": "49cc3aeb-e679-4bf1-d779-ea5b8f18548f"
      },
      "execution_count": 4,
      "outputs": [
        {
          "output_type": "display_data",
          "data": {
            "text/plain": [
              "<IPython.core.display.HTML object>"
            ],
            "text/html": [
              "\n",
              "     <input type=\"file\" id=\"files-160282db-2e19-4503-8528-f15bf7283b1f\" name=\"files[]\" multiple disabled\n",
              "        style=\"border:none\" />\n",
              "     <output id=\"result-160282db-2e19-4503-8528-f15bf7283b1f\">\n",
              "      Upload widget is only available when the cell has been executed in the\n",
              "      current browser session. Please rerun this cell to enable.\n",
              "      </output>\n",
              "      <script>// Copyright 2017 Google LLC\n",
              "//\n",
              "// Licensed under the Apache License, Version 2.0 (the \"License\");\n",
              "// you may not use this file except in compliance with the License.\n",
              "// You may obtain a copy of the License at\n",
              "//\n",
              "//      http://www.apache.org/licenses/LICENSE-2.0\n",
              "//\n",
              "// Unless required by applicable law or agreed to in writing, software\n",
              "// distributed under the License is distributed on an \"AS IS\" BASIS,\n",
              "// WITHOUT WARRANTIES OR CONDITIONS OF ANY KIND, either express or implied.\n",
              "// See the License for the specific language governing permissions and\n",
              "// limitations under the License.\n",
              "\n",
              "/**\n",
              " * @fileoverview Helpers for google.colab Python module.\n",
              " */\n",
              "(function(scope) {\n",
              "function span(text, styleAttributes = {}) {\n",
              "  const element = document.createElement('span');\n",
              "  element.textContent = text;\n",
              "  for (const key of Object.keys(styleAttributes)) {\n",
              "    element.style[key] = styleAttributes[key];\n",
              "  }\n",
              "  return element;\n",
              "}\n",
              "\n",
              "// Max number of bytes which will be uploaded at a time.\n",
              "const MAX_PAYLOAD_SIZE = 100 * 1024;\n",
              "\n",
              "function _uploadFiles(inputId, outputId) {\n",
              "  const steps = uploadFilesStep(inputId, outputId);\n",
              "  const outputElement = document.getElementById(outputId);\n",
              "  // Cache steps on the outputElement to make it available for the next call\n",
              "  // to uploadFilesContinue from Python.\n",
              "  outputElement.steps = steps;\n",
              "\n",
              "  return _uploadFilesContinue(outputId);\n",
              "}\n",
              "\n",
              "// This is roughly an async generator (not supported in the browser yet),\n",
              "// where there are multiple asynchronous steps and the Python side is going\n",
              "// to poll for completion of each step.\n",
              "// This uses a Promise to block the python side on completion of each step,\n",
              "// then passes the result of the previous step as the input to the next step.\n",
              "function _uploadFilesContinue(outputId) {\n",
              "  const outputElement = document.getElementById(outputId);\n",
              "  const steps = outputElement.steps;\n",
              "\n",
              "  const next = steps.next(outputElement.lastPromiseValue);\n",
              "  return Promise.resolve(next.value.promise).then((value) => {\n",
              "    // Cache the last promise value to make it available to the next\n",
              "    // step of the generator.\n",
              "    outputElement.lastPromiseValue = value;\n",
              "    return next.value.response;\n",
              "  });\n",
              "}\n",
              "\n",
              "/**\n",
              " * Generator function which is called between each async step of the upload\n",
              " * process.\n",
              " * @param {string} inputId Element ID of the input file picker element.\n",
              " * @param {string} outputId Element ID of the output display.\n",
              " * @return {!Iterable<!Object>} Iterable of next steps.\n",
              " */\n",
              "function* uploadFilesStep(inputId, outputId) {\n",
              "  const inputElement = document.getElementById(inputId);\n",
              "  inputElement.disabled = false;\n",
              "\n",
              "  const outputElement = document.getElementById(outputId);\n",
              "  outputElement.innerHTML = '';\n",
              "\n",
              "  const pickedPromise = new Promise((resolve) => {\n",
              "    inputElement.addEventListener('change', (e) => {\n",
              "      resolve(e.target.files);\n",
              "    });\n",
              "  });\n",
              "\n",
              "  const cancel = document.createElement('button');\n",
              "  inputElement.parentElement.appendChild(cancel);\n",
              "  cancel.textContent = 'Cancel upload';\n",
              "  const cancelPromise = new Promise((resolve) => {\n",
              "    cancel.onclick = () => {\n",
              "      resolve(null);\n",
              "    };\n",
              "  });\n",
              "\n",
              "  // Wait for the user to pick the files.\n",
              "  const files = yield {\n",
              "    promise: Promise.race([pickedPromise, cancelPromise]),\n",
              "    response: {\n",
              "      action: 'starting',\n",
              "    }\n",
              "  };\n",
              "\n",
              "  cancel.remove();\n",
              "\n",
              "  // Disable the input element since further picks are not allowed.\n",
              "  inputElement.disabled = true;\n",
              "\n",
              "  if (!files) {\n",
              "    return {\n",
              "      response: {\n",
              "        action: 'complete',\n",
              "      }\n",
              "    };\n",
              "  }\n",
              "\n",
              "  for (const file of files) {\n",
              "    const li = document.createElement('li');\n",
              "    li.append(span(file.name, {fontWeight: 'bold'}));\n",
              "    li.append(span(\n",
              "        `(${file.type || 'n/a'}) - ${file.size} bytes, ` +\n",
              "        `last modified: ${\n",
              "            file.lastModifiedDate ? file.lastModifiedDate.toLocaleDateString() :\n",
              "                                    'n/a'} - `));\n",
              "    const percent = span('0% done');\n",
              "    li.appendChild(percent);\n",
              "\n",
              "    outputElement.appendChild(li);\n",
              "\n",
              "    const fileDataPromise = new Promise((resolve) => {\n",
              "      const reader = new FileReader();\n",
              "      reader.onload = (e) => {\n",
              "        resolve(e.target.result);\n",
              "      };\n",
              "      reader.readAsArrayBuffer(file);\n",
              "    });\n",
              "    // Wait for the data to be ready.\n",
              "    let fileData = yield {\n",
              "      promise: fileDataPromise,\n",
              "      response: {\n",
              "        action: 'continue',\n",
              "      }\n",
              "    };\n",
              "\n",
              "    // Use a chunked sending to avoid message size limits. See b/62115660.\n",
              "    let position = 0;\n",
              "    do {\n",
              "      const length = Math.min(fileData.byteLength - position, MAX_PAYLOAD_SIZE);\n",
              "      const chunk = new Uint8Array(fileData, position, length);\n",
              "      position += length;\n",
              "\n",
              "      const base64 = btoa(String.fromCharCode.apply(null, chunk));\n",
              "      yield {\n",
              "        response: {\n",
              "          action: 'append',\n",
              "          file: file.name,\n",
              "          data: base64,\n",
              "        },\n",
              "      };\n",
              "\n",
              "      let percentDone = fileData.byteLength === 0 ?\n",
              "          100 :\n",
              "          Math.round((position / fileData.byteLength) * 100);\n",
              "      percent.textContent = `${percentDone}% done`;\n",
              "\n",
              "    } while (position < fileData.byteLength);\n",
              "  }\n",
              "\n",
              "  // All done.\n",
              "  yield {\n",
              "    response: {\n",
              "      action: 'complete',\n",
              "    }\n",
              "  };\n",
              "}\n",
              "\n",
              "scope.google = scope.google || {};\n",
              "scope.google.colab = scope.google.colab || {};\n",
              "scope.google.colab._files = {\n",
              "  _uploadFiles,\n",
              "  _uploadFilesContinue,\n",
              "};\n",
              "})(self);\n",
              "</script> "
            ]
          },
          "metadata": {}
        },
        {
          "output_type": "stream",
          "name": "stdout",
          "text": [
            "Saving dry_beans_benchmarkclusters.csv to dry_beans_benchmarkclusters.csv\n",
            "Saving dry_beans_data.csv to dry_beans_data.csv\n",
            "Saving practicegoldset.csv to practicegoldset.csv\n",
            "Saving practicedata.csv to practicedata.csv\n"
          ]
        }
      ]
    },
    {
      "cell_type": "code",
      "source": [
        "prac_data = pd.read_csv('practicedata.csv')\n",
        "prac_goldset = pd.read_csv('practicegoldset.csv', header=None)"
      ],
      "metadata": {
        "id": "U_kJGix9_AFP"
      },
      "execution_count": 5,
      "outputs": []
    },
    {
      "cell_type": "code",
      "source": [
        "prac_data.shape"
      ],
      "metadata": {
        "colab": {
          "base_uri": "https://localhost:8080/"
        },
        "id": "lhlBektz_DLo",
        "outputId": "46bca26f-32c0-454f-ad19-4cdc6d0d0065"
      },
      "execution_count": 6,
      "outputs": [
        {
          "output_type": "execute_result",
          "data": {
            "text/plain": [
              "(56, 5)"
            ]
          },
          "metadata": {},
          "execution_count": 6
        }
      ]
    },
    {
      "cell_type": "code",
      "source": [
        "prac_goldset.shape"
      ],
      "metadata": {
        "colab": {
          "base_uri": "https://localhost:8080/"
        },
        "id": "KbxfK5vX_PPl",
        "outputId": "06dae369-0cf4-4072-b700-46fa4f6ea91e"
      },
      "execution_count": 7,
      "outputs": [
        {
          "output_type": "execute_result",
          "data": {
            "text/plain": [
              "(56, 1)"
            ]
          },
          "metadata": {},
          "execution_count": 7
        }
      ]
    },
    {
      "cell_type": "code",
      "source": [
        "prac_data.columns"
      ],
      "metadata": {
        "colab": {
          "base_uri": "https://localhost:8080/"
        },
        "id": "ssO-Kb0m_VIn",
        "outputId": "9858bbd3-5418-4783-f54c-0f4984a19ef8"
      },
      "execution_count": 8,
      "outputs": [
        {
          "output_type": "execute_result",
          "data": {
            "text/plain": [
              "Index(['f1', 'f2', 'f3', 'f4', 'f5'], dtype='object')"
            ]
          },
          "metadata": {},
          "execution_count": 8
        }
      ]
    },
    {
      "cell_type": "code",
      "source": [
        "data = prac_data.values"
      ],
      "metadata": {
        "id": "UtLWvrrE_Zkp"
      },
      "execution_count": 9,
      "outputs": []
    },
    {
      "cell_type": "code",
      "source": [
        "#goldset\n",
        "\n",
        "labels = prac_goldset.values\n",
        "gld_labels = labels[:, 0] \n",
        "print(gld_labels.shape)\n",
        "print(gld_labels)"
      ],
      "metadata": {
        "colab": {
          "base_uri": "https://localhost:8080/"
        },
        "id": "Hlh879_j_fVM",
        "outputId": "cdcea2fa-3b3b-4737-b8fd-9cbeeae58a1e"
      },
      "execution_count": 10,
      "outputs": [
        {
          "output_type": "stream",
          "name": "stdout",
          "text": [
            "(56,)\n",
            "[1 2 2 1 3 1 1 3 2 2 2 2 2 2 3 1 1 1 3 3 3 1 1 2 2 1 2 3 2 3 2 1 1 1 1 2 3\n",
            " 2 3 3 3 1 1 1 3 2 3 1 2 2 2 3 2 1 1 2]\n"
          ]
        }
      ]
    },
    {
      "cell_type": "code",
      "source": [
        "k=3\n",
        "km = KMeans(n_clusters=k, verbose=0).fit(data)"
      ],
      "metadata": {
        "id": "tux4Y-6L_5MI"
      },
      "execution_count": 11,
      "outputs": []
    },
    {
      "cell_type": "code",
      "source": [
        "print(\"The clustering Assignments are: \")\n",
        "print(km.labels_)"
      ],
      "metadata": {
        "colab": {
          "base_uri": "https://localhost:8080/"
        },
        "id": "P2ZG_40XECYZ",
        "outputId": "fd6591c9-d0a6-4917-a377-11e4ffcb4deb"
      },
      "execution_count": 12,
      "outputs": [
        {
          "output_type": "stream",
          "name": "stdout",
          "text": [
            "The clustering Assignments are: \n",
            "[0 1 0 0 2 0 0 2 1 1 1 1 1 1 2 0 0 0 2 2 2 0 0 1 1 0 1 2 1 2 1 0 0 0 0 1 2\n",
            " 1 2 2 2 0 1 0 2 1 2 0 1 1 1 2 1 2 0 1]\n"
          ]
        }
      ]
    },
    {
      "cell_type": "markdown",
      "source": [
        "With k= 3, using k-means clustering:\n",
        "\n",
        "The number of rows/objects in the clusters is: \n",
        "\n",
        "Cluster 0 has 21 rows (that is, the size of Cluster 0 is 21)\n",
        "\n",
        "Cluster 1 has 16 rows (that is, the size of Cluster 1 is 16)\n",
        "\n",
        "Cluster 2 has 19 rows (that is, the size of Cluster 2 is 19)"
      ],
      "metadata": {
        "id": "crNljeXvEH-c"
      }
    },
    {
      "cell_type": "code",
      "source": [
        "unique, counts = np.unique(km.labels_, return_counts=True)\n",
        "print(np.asarray((unique, counts)).T)"
      ],
      "metadata": {
        "colab": {
          "base_uri": "https://localhost:8080/"
        },
        "id": "4qRZomLzEJFG",
        "outputId": "c254ab60-30a0-4b96-91cd-38ded3d27f3d"
      },
      "execution_count": 13,
      "outputs": [
        {
          "output_type": "stream",
          "name": "stdout",
          "text": [
            "[[ 0 19]\n",
            " [ 1 21]\n",
            " [ 2 16]]\n"
          ]
        }
      ]
    },
    {
      "cell_type": "markdown",
      "source": [
        "The sum of squared distances of samples/rows to their closest cluster center (inertia_) is 43.58434029761278."
      ],
      "metadata": {
        "id": "2QhGx8T4EXQt"
      }
    },
    {
      "cell_type": "code",
      "source": [
        "print(\"SSD (sum of squared distance): \", km.inertia_)"
      ],
      "metadata": {
        "colab": {
          "base_uri": "https://localhost:8080/"
        },
        "id": "PqimbCdIEY5W",
        "outputId": "0e39bae8-c3a0-424b-973f-57649e6084a7"
      },
      "execution_count": 14,
      "outputs": [
        {
          "output_type": "stream",
          "name": "stdout",
          "text": [
            "SSD (sum of squared distance):  43.58434029761279\n"
          ]
        }
      ]
    },
    {
      "cell_type": "code",
      "source": [
        "#Rand index is 0.9285714285714286.\n",
        "\n",
        "def randIndex(result, gs):\n",
        "  TP=0\n",
        "  TN=0\n",
        "  FP=0\n",
        "  FN=0\n",
        "\n",
        "  for i in range(0, len(result)-1):\n",
        "    for j in range(i+1, len(result)):\n",
        "      if(result[i]==result[j]):  #positive result\n",
        "        if(gs[i]==gs[j]):\n",
        "          TP = TP + 1\n",
        "        else:\n",
        "          FP = FP + 1\n",
        "\n",
        "      else:\n",
        "        if(gs[i]==gs[j]):\n",
        "          FN = FN + 1\n",
        "        else:\n",
        "          TN = TN + 1\n",
        "\n",
        "  RI= TP+TN/(TP+TN+FP+FN)\n",
        "  return RI\n",
        "\n",
        "print(randIndex(gld_labels, km.labels_ ))"
      ],
      "metadata": {
        "colab": {
          "base_uri": "https://localhost:8080/"
        },
        "id": "TY-n9NI2EyjN",
        "outputId": "6dea77e7-25ca-47db-e011-f3c23fffad65"
      },
      "execution_count": 26,
      "outputs": [
        {
          "output_type": "stream",
          "name": "stdout",
          "text": [
            "448.63766233766233\n"
          ]
        }
      ]
    },
    {
      "cell_type": "code",
      "source": [
        "#Purity is 0.9464285714285714.\n",
        "\n",
        "def purity(result, gs):   #result and gs are labels\n",
        "  cLabel= list(set(result)) # list will have the cluster labels\n",
        "  gLabel= list(set(gs)) # list will have the ground_cluster truth labels , length of t from our equation\n",
        "  n= len(result)\n",
        "  k= len(cLabel)\n",
        "  t= len(gLabel)\n",
        "\n",
        "  #constructing dictionaries for cLable and glabel\n",
        "  cLabelsD= dict(zip(cLabel, range(k))) #for clustering\n",
        "  gLabelsD= dict(zip(gLabel, range(t))) #for ground truth\n",
        "\n",
        "  clusterGroundDistr= [[0] * t for i in range(k)] #this will create a 2D array of t many columns and k many rows\n",
        "\n",
        "  for i in range(n):  #number of elements we have is n\n",
        "    clusterIndex = cLabelsD[result[i]]\n",
        "    groundIndex = gLabelsD[gs[i]]\n",
        "    clusterGroundDistr[clusterIndex][groundIndex] += 1\n",
        "\n",
        "  p=0 # p is purity\n",
        "  for i in range(k):\n",
        "    p += max(clusterGroundDistr[i])\n",
        "\n",
        "  return p/n\n",
        "\n",
        "print(purity(gld_labels, km.labels_ ))"
      ],
      "metadata": {
        "colab": {
          "base_uri": "https://localhost:8080/"
        },
        "id": "vrEh4P13GySC",
        "outputId": "d442a3a8-5262-47be-8f12-4c541616797f"
      },
      "execution_count": 16,
      "outputs": [
        {
          "output_type": "stream",
          "name": "stdout",
          "text": [
            "0.9464285714285714\n"
          ]
        }
      ]
    },
    {
      "cell_type": "code",
      "source": [
        "#The average silhouette coefficient is 0.7870880067126674. \n",
        "\n",
        "print(silhouette_score(data, km.labels_))"
      ],
      "metadata": {
        "colab": {
          "base_uri": "https://localhost:8080/"
        },
        "id": "QG3rAkpfHsXx",
        "outputId": "7d82e270-2526-40d0-9e15-906c692966d0"
      },
      "execution_count": 17,
      "outputs": [
        {
          "output_type": "stream",
          "name": "stdout",
          "text": [
            "0.7870880067126678\n"
          ]
        }
      ]
    },
    {
      "cell_type": "markdown",
      "source": [
        "# Agglomerative clustering with three clusters: "
      ],
      "metadata": {
        "id": "NLi1nWMLH6Y2"
      }
    },
    {
      "cell_type": "code",
      "source": [
        "agg = AgglomerativeClustering(n_clusters=3).fit(data)\n",
        "agg.labels_"
      ],
      "metadata": {
        "colab": {
          "base_uri": "https://localhost:8080/"
        },
        "id": "wlFNYYTGH0E_",
        "outputId": "bddf583c-0ce1-491c-dd1c-59bfc7ef4bb8"
      },
      "execution_count": 18,
      "outputs": [
        {
          "output_type": "execute_result",
          "data": {
            "text/plain": [
              "array([1, 0, 1, 1, 2, 1, 1, 2, 0, 0, 0, 0, 0, 0, 2, 1, 1, 1, 2, 2, 2, 1,\n",
              "       1, 0, 0, 1, 0, 2, 0, 2, 0, 1, 1, 1, 1, 0, 2, 0, 2, 2, 2, 1, 0, 1,\n",
              "       2, 0, 2, 1, 0, 0, 0, 2, 0, 2, 1, 0])"
            ]
          },
          "metadata": {},
          "execution_count": 18
        }
      ]
    },
    {
      "cell_type": "code",
      "source": [
        "#Rand index using agglomerative clustering with three clusters is 0.9285714285714286.\n",
        "\n",
        "print(randIndex(gld_labels, agg.labels_))"
      ],
      "metadata": {
        "colab": {
          "base_uri": "https://localhost:8080/"
        },
        "id": "w3pwdFoNnIGk",
        "outputId": "36c9b14a-8cc9-473f-c626-4437cc46b49f"
      },
      "execution_count": 28,
      "outputs": [
        {
          "output_type": "stream",
          "name": "stdout",
          "text": [
            "448.63766233766233\n"
          ]
        }
      ]
    },
    {
      "cell_type": "code",
      "source": [
        "#Purity using Agglomerative clustering with three clusters is 0.9464285714285714.\n",
        "\n",
        "print(purity(gld_labels, agg.labels_ ))"
      ],
      "metadata": {
        "colab": {
          "base_uri": "https://localhost:8080/"
        },
        "id": "5ouJIjw3m2aI",
        "outputId": "87346f4b-f603-41c7-9ceb-75295135c286"
      },
      "execution_count": 29,
      "outputs": [
        {
          "output_type": "stream",
          "name": "stdout",
          "text": [
            "0.9464285714285714\n"
          ]
        }
      ]
    },
    {
      "cell_type": "markdown",
      "source": [
        "# DBSCAN: "
      ],
      "metadata": {
        "id": "-XCkoTcsoz0c"
      }
    },
    {
      "cell_type": "code",
      "source": [
        "dbres = DBSCAN(eps=1.0, min_samples=3).fit(data)\n",
        "print(dbres.labels_)"
      ],
      "metadata": {
        "colab": {
          "base_uri": "https://localhost:8080/"
        },
        "id": "dEbj85AYo2wp",
        "outputId": "a9e8dba4-2750-46da-ecf7-83261343a745"
      },
      "execution_count": 30,
      "outputs": [
        {
          "output_type": "stream",
          "name": "stdout",
          "text": [
            "[ 0  5  0  0  1  0  0  1  2  3 -1  4  5  2  1  0  0  0  1  1  1  0  0  3\n",
            "  4  0  2  1  3  1 -1  0  0  0  0  4  1  2  1  1  1  0  5  0  1  2  1  0\n",
            "  3  2  5  1  2  1  0  5]\n"
          ]
        }
      ]
    },
    {
      "cell_type": "code",
      "source": [
        "dbres = DBSCAN(eps=1.0, min_samples=5).fit(data)\n",
        "print(dbres.labels_)"
      ],
      "metadata": {
        "colab": {
          "base_uri": "https://localhost:8080/"
        },
        "id": "nMTah3HPo_6a",
        "outputId": "f0233f5c-1c92-4d2d-a208-dd1b80dfe172"
      },
      "execution_count": 31,
      "outputs": [
        {
          "output_type": "stream",
          "name": "stdout",
          "text": [
            "[ 0 -1  0  0  1  0  0  1 -1 -1 -1 -1 -1 -1  1  0  0  0  1  1  1  0  0 -1\n",
            " -1  0 -1  1 -1  1 -1  0  0  0  0 -1  1 -1  1  1  1  0 -1  0  1 -1  1  0\n",
            " -1 -1 -1  1 -1  1  0 -1]\n"
          ]
        }
      ]
    },
    {
      "cell_type": "markdown",
      "source": [
        "# HomeWork2/Assignment"
      ],
      "metadata": {
        "id": "c6oYQ0vcsQkn"
      }
    },
    {
      "cell_type": "code",
      "source": [
        "dryBean_data = pd.read_csv('dry_beans_data.csv')\n",
        "dryBean_goldset = pd.read_csv('dry_beans_benchmarkclusters.csv', header=None)"
      ],
      "metadata": {
        "id": "DhW3T8FQsYlN"
      },
      "execution_count": 32,
      "outputs": []
    },
    {
      "cell_type": "code",
      "source": [
        "data_dryBean = dryBean_data.values"
      ],
      "metadata": {
        "id": "sETTWPUmur1a"
      },
      "execution_count": 37,
      "outputs": []
    },
    {
      "cell_type": "code",
      "source": [
        "print(\"The clustering Assignments are: \")\n",
        "print(km.labels_)"
      ],
      "metadata": {
        "colab": {
          "base_uri": "https://localhost:8080/"
        },
        "id": "vui78r60wdm_",
        "outputId": "36aa66fb-8e8a-4e26-9717-0c4f9b1f9ef0"
      },
      "execution_count": 48,
      "outputs": [
        {
          "output_type": "stream",
          "name": "stdout",
          "text": [
            "The clustering Assignments are: \n",
            "[3 0 5 ... 5 2 6]\n"
          ]
        }
      ]
    },
    {
      "cell_type": "code",
      "source": [
        "labels = dryBean_goldset.values\n",
        "gld_labels = labels[:, 0] \n",
        "print(gld_labels.shape)\n",
        "print(gld_labels)"
      ],
      "metadata": {
        "colab": {
          "base_uri": "https://localhost:8080/"
        },
        "id": "HCn3-7yduuwT",
        "outputId": "5091e5c1-a504-4fa1-bf4d-340f327c37ce"
      },
      "execution_count": 38,
      "outputs": [
        {
          "output_type": "stream",
          "name": "stdout",
          "text": [
            "(13611,)\n",
            "[5 7 1 ... 1 3 2]\n"
          ]
        }
      ]
    },
    {
      "cell_type": "code",
      "source": [
        "agg = AgglomerativeClustering(n_clusters=7).fit(data_dryBean)\n",
        "agg.labels_"
      ],
      "metadata": {
        "colab": {
          "base_uri": "https://localhost:8080/"
        },
        "id": "--V70L9yuz9M",
        "outputId": "63309eae-151b-4ef4-e0df-8c78598d2f39"
      },
      "execution_count": 39,
      "outputs": [
        {
          "output_type": "execute_result",
          "data": {
            "text/plain": [
              "array([0, 4, 1, ..., 1, 5, 0])"
            ]
          },
          "metadata": {},
          "execution_count": 39
        }
      ]
    },
    {
      "cell_type": "code",
      "source": [
        "#purity agglomerative\n",
        "print(purity(gld_labels, km.labels_))"
      ],
      "metadata": {
        "colab": {
          "base_uri": "https://localhost:8080/"
        },
        "id": "f8At8r46zDzp",
        "outputId": "36ee7f69-eb99-4b52-fef2-fc296c5778ef"
      },
      "execution_count": 61,
      "outputs": [
        {
          "output_type": "stream",
          "name": "stdout",
          "text": [
            "0.6576298582029241\n"
          ]
        }
      ]
    },
    {
      "cell_type": "code",
      "source": [
        "unique, counts = np.unique(agg.labels_, return_counts=True)\n",
        "print(np.asarray((unique, counts)).T)"
      ],
      "metadata": {
        "colab": {
          "base_uri": "https://localhost:8080/"
        },
        "id": "SwENtKIEu6FP",
        "outputId": "ee3bfde4-eab7-401d-e349-2747a6c79a79"
      },
      "execution_count": 43,
      "outputs": [
        {
          "output_type": "stream",
          "name": "stdout",
          "text": [
            "[[   0 2881]\n",
            " [   1 4939]\n",
            " [   2  335]\n",
            " [   3  979]\n",
            " [   4 3069]\n",
            " [   5  185]\n",
            " [   6 1223]]\n"
          ]
        }
      ]
    },
    {
      "cell_type": "code",
      "source": [
        "print(randIndex(gld_labels, agg.labels_))"
      ],
      "metadata": {
        "colab": {
          "base_uri": "https://localhost:8080/"
        },
        "id": "eLvd1N3su9Xs",
        "outputId": "f991d0fd-4d70-47f0-8900-eef116d9d230"
      },
      "execution_count": 42,
      "outputs": [
        {
          "output_type": "stream",
          "name": "stdout",
          "text": [
            "9378913.687151685\n"
          ]
        }
      ]
    },
    {
      "cell_type": "code",
      "source": [
        "print(silhouette_score(data_dryBean, agg.labels_))"
      ],
      "metadata": {
        "colab": {
          "base_uri": "https://localhost:8080/"
        },
        "id": "xz--cJLpvWel",
        "outputId": "9d5c91d8-fbc8-4350-a9be-9d37044f5588"
      },
      "execution_count": 63,
      "outputs": [
        {
          "output_type": "stream",
          "name": "stdout",
          "text": [
            "0.5050234057202192\n"
          ]
        }
      ]
    },
    {
      "cell_type": "code",
      "source": [
        "k=7\n",
        "km = KMeans(n_clusters=k, verbose=0).fit(data_dryBean)"
      ],
      "metadata": {
        "id": "T4WRXYP3vbGm"
      },
      "execution_count": 45,
      "outputs": []
    },
    {
      "cell_type": "code",
      "source": [
        "unique, counts = np.unique(km.labels_, return_counts=True)\n",
        "print(np.asarray((unique, counts)).T)"
      ],
      "metadata": {
        "colab": {
          "base_uri": "https://localhost:8080/"
        },
        "id": "56sFsW71vkWB",
        "outputId": "936e351d-fd6f-49b0-fc56-d1bb1d9449ce"
      },
      "execution_count": 49,
      "outputs": [
        {
          "output_type": "stream",
          "name": "stdout",
          "text": [
            "[[   0 3265]\n",
            " [   1 1148]\n",
            " [   2  217]\n",
            " [   3 2538]\n",
            " [   4  303]\n",
            " [   5 4226]\n",
            " [   6 1914]]\n"
          ]
        }
      ]
    },
    {
      "cell_type": "markdown",
      "source": [
        "#Question 1\n",
        "\n",
        "What is the average silhouette coefficient of the result retrieved by the agglomerative clustering algorithm with k=7? Your result must be correct up to two digits after the decimal point. Use default values with n_clusters=7 for scikitlearn AgglomerativeClustering. That is, do not mention any linkage in the parameters so that the default one is used."
      ],
      "metadata": {
        "id": "I-vmDtjh1FgD"
      }
    },
    {
      "cell_type": "code",
      "source": [],
      "metadata": {
        "id": "_0HKw3M81HSt"
      },
      "execution_count": null,
      "outputs": []
    },
    {
      "cell_type": "markdown",
      "source": [
        "#Question 7\n",
        "How many data points are there in the dry beans dataset?\n",
        "\n"
      ],
      "metadata": {
        "id": "BJN53Nt_t8Ti"
      }
    },
    {
      "cell_type": "code",
      "source": [
        "dryBean_data"
      ],
      "metadata": {
        "colab": {
          "base_uri": "https://localhost:8080/",
          "height": 487
        },
        "id": "5aFA9XVUuCOu",
        "outputId": "524d44e0-a1f0-4b31-8e61-66ecaba9aa4f"
      },
      "execution_count": 35,
      "outputs": [
        {
          "output_type": "execute_result",
          "data": {
            "text/plain": [
              "         Area  Perimeter  MajorAxisLength  MinorAxisLength  AspectRation  \\\n",
              "0       50833    898.973       362.353924       179.724613      2.016162   \n",
              "1       30727    664.146       235.920043       167.045988      1.412306   \n",
              "2       41324    733.765       261.771429       201.239402      1.300796   \n",
              "3       25376    585.844       218.601389       148.020792      1.476829   \n",
              "4      160273   1550.026       599.079539       343.574712      1.743666   \n",
              "...       ...        ...              ...              ...           ...   \n",
              "13606   83168   1154.625       400.255941       265.054216      1.510091   \n",
              "13607  195106   1648.761       619.838810       404.009229      1.534219   \n",
              "13608   36741    692.928       238.615411       196.465004      1.214544   \n",
              "13609  191554   1682.544       635.396000       385.930852      1.646399   \n",
              "13610   60409    946.447       359.752385       215.049972      1.672878   \n",
              "\n",
              "       Eccentricity  ConvexArea  EquivDiameter    Extent  Solidity  roundness  \\\n",
              "0          0.868327       51604     254.406340  0.809005  0.985059   0.790428   \n",
              "1          0.706150       31212     197.794923  0.703441  0.984461   0.875393   \n",
              "2          0.639537       41613     229.380363  0.790512  0.993055   0.964491   \n",
              "3          0.735867       25642     179.749066  0.765999  0.989626   0.929114   \n",
              "4          0.819203      163513     451.736562  0.808871  0.980185   0.838286   \n",
              "...             ...         ...            ...       ...       ...        ...   \n",
              "13606      0.749317       84772     325.411718  0.713362  0.981079   0.783942   \n",
              "13607      0.758393      197343     498.414160  0.791049  0.988664   0.901914   \n",
              "13608      0.567528       37052     216.287064  0.752643  0.991606   0.961578   \n",
              "13609      0.794407      193468     493.856384  0.712505  0.990107   0.850292   \n",
              "13610      0.801666       61368     277.335767  0.731415  0.984373   0.847459   \n",
              "\n",
              "       Compactness  ShapeFactor1  ShapeFactor2  ShapeFactor3  ShapeFactor4  \n",
              "0         0.702094      0.007128      0.001068      0.492935      0.993837  \n",
              "1         0.838398      0.007678      0.002340      0.702911      0.992726  \n",
              "2         0.876262      0.006335      0.002304      0.767835      0.998797  \n",
              "3         0.822269      0.008614      0.002429      0.676126      0.998522  \n",
              "4         0.754051      0.003738      0.000745      0.568593      0.991436  \n",
              "...            ...           ...           ...           ...           ...  \n",
              "13606     0.813009      0.004813      0.001297      0.660984      0.998146  \n",
              "13607     0.804103      0.003177      0.000819      0.646581      0.991998  \n",
              "13608     0.906425      0.006495      0.002704      0.821607      0.997878  \n",
              "13609     0.777242      0.003317      0.000747      0.604105      0.994598  \n",
              "13610     0.770907      0.005955      0.001297      0.594298      0.994188  \n",
              "\n",
              "[13611 rows x 16 columns]"
            ],
            "text/html": [
              "\n",
              "  <div id=\"df-45d82a47-e9f0-4711-b459-d5a7cfb5fa3f\">\n",
              "    <div class=\"colab-df-container\">\n",
              "      <div>\n",
              "<style scoped>\n",
              "    .dataframe tbody tr th:only-of-type {\n",
              "        vertical-align: middle;\n",
              "    }\n",
              "\n",
              "    .dataframe tbody tr th {\n",
              "        vertical-align: top;\n",
              "    }\n",
              "\n",
              "    .dataframe thead th {\n",
              "        text-align: right;\n",
              "    }\n",
              "</style>\n",
              "<table border=\"1\" class=\"dataframe\">\n",
              "  <thead>\n",
              "    <tr style=\"text-align: right;\">\n",
              "      <th></th>\n",
              "      <th>Area</th>\n",
              "      <th>Perimeter</th>\n",
              "      <th>MajorAxisLength</th>\n",
              "      <th>MinorAxisLength</th>\n",
              "      <th>AspectRation</th>\n",
              "      <th>Eccentricity</th>\n",
              "      <th>ConvexArea</th>\n",
              "      <th>EquivDiameter</th>\n",
              "      <th>Extent</th>\n",
              "      <th>Solidity</th>\n",
              "      <th>roundness</th>\n",
              "      <th>Compactness</th>\n",
              "      <th>ShapeFactor1</th>\n",
              "      <th>ShapeFactor2</th>\n",
              "      <th>ShapeFactor3</th>\n",
              "      <th>ShapeFactor4</th>\n",
              "    </tr>\n",
              "  </thead>\n",
              "  <tbody>\n",
              "    <tr>\n",
              "      <th>0</th>\n",
              "      <td>50833</td>\n",
              "      <td>898.973</td>\n",
              "      <td>362.353924</td>\n",
              "      <td>179.724613</td>\n",
              "      <td>2.016162</td>\n",
              "      <td>0.868327</td>\n",
              "      <td>51604</td>\n",
              "      <td>254.406340</td>\n",
              "      <td>0.809005</td>\n",
              "      <td>0.985059</td>\n",
              "      <td>0.790428</td>\n",
              "      <td>0.702094</td>\n",
              "      <td>0.007128</td>\n",
              "      <td>0.001068</td>\n",
              "      <td>0.492935</td>\n",
              "      <td>0.993837</td>\n",
              "    </tr>\n",
              "    <tr>\n",
              "      <th>1</th>\n",
              "      <td>30727</td>\n",
              "      <td>664.146</td>\n",
              "      <td>235.920043</td>\n",
              "      <td>167.045988</td>\n",
              "      <td>1.412306</td>\n",
              "      <td>0.706150</td>\n",
              "      <td>31212</td>\n",
              "      <td>197.794923</td>\n",
              "      <td>0.703441</td>\n",
              "      <td>0.984461</td>\n",
              "      <td>0.875393</td>\n",
              "      <td>0.838398</td>\n",
              "      <td>0.007678</td>\n",
              "      <td>0.002340</td>\n",
              "      <td>0.702911</td>\n",
              "      <td>0.992726</td>\n",
              "    </tr>\n",
              "    <tr>\n",
              "      <th>2</th>\n",
              "      <td>41324</td>\n",
              "      <td>733.765</td>\n",
              "      <td>261.771429</td>\n",
              "      <td>201.239402</td>\n",
              "      <td>1.300796</td>\n",
              "      <td>0.639537</td>\n",
              "      <td>41613</td>\n",
              "      <td>229.380363</td>\n",
              "      <td>0.790512</td>\n",
              "      <td>0.993055</td>\n",
              "      <td>0.964491</td>\n",
              "      <td>0.876262</td>\n",
              "      <td>0.006335</td>\n",
              "      <td>0.002304</td>\n",
              "      <td>0.767835</td>\n",
              "      <td>0.998797</td>\n",
              "    </tr>\n",
              "    <tr>\n",
              "      <th>3</th>\n",
              "      <td>25376</td>\n",
              "      <td>585.844</td>\n",
              "      <td>218.601389</td>\n",
              "      <td>148.020792</td>\n",
              "      <td>1.476829</td>\n",
              "      <td>0.735867</td>\n",
              "      <td>25642</td>\n",
              "      <td>179.749066</td>\n",
              "      <td>0.765999</td>\n",
              "      <td>0.989626</td>\n",
              "      <td>0.929114</td>\n",
              "      <td>0.822269</td>\n",
              "      <td>0.008614</td>\n",
              "      <td>0.002429</td>\n",
              "      <td>0.676126</td>\n",
              "      <td>0.998522</td>\n",
              "    </tr>\n",
              "    <tr>\n",
              "      <th>4</th>\n",
              "      <td>160273</td>\n",
              "      <td>1550.026</td>\n",
              "      <td>599.079539</td>\n",
              "      <td>343.574712</td>\n",
              "      <td>1.743666</td>\n",
              "      <td>0.819203</td>\n",
              "      <td>163513</td>\n",
              "      <td>451.736562</td>\n",
              "      <td>0.808871</td>\n",
              "      <td>0.980185</td>\n",
              "      <td>0.838286</td>\n",
              "      <td>0.754051</td>\n",
              "      <td>0.003738</td>\n",
              "      <td>0.000745</td>\n",
              "      <td>0.568593</td>\n",
              "      <td>0.991436</td>\n",
              "    </tr>\n",
              "    <tr>\n",
              "      <th>...</th>\n",
              "      <td>...</td>\n",
              "      <td>...</td>\n",
              "      <td>...</td>\n",
              "      <td>...</td>\n",
              "      <td>...</td>\n",
              "      <td>...</td>\n",
              "      <td>...</td>\n",
              "      <td>...</td>\n",
              "      <td>...</td>\n",
              "      <td>...</td>\n",
              "      <td>...</td>\n",
              "      <td>...</td>\n",
              "      <td>...</td>\n",
              "      <td>...</td>\n",
              "      <td>...</td>\n",
              "      <td>...</td>\n",
              "    </tr>\n",
              "    <tr>\n",
              "      <th>13606</th>\n",
              "      <td>83168</td>\n",
              "      <td>1154.625</td>\n",
              "      <td>400.255941</td>\n",
              "      <td>265.054216</td>\n",
              "      <td>1.510091</td>\n",
              "      <td>0.749317</td>\n",
              "      <td>84772</td>\n",
              "      <td>325.411718</td>\n",
              "      <td>0.713362</td>\n",
              "      <td>0.981079</td>\n",
              "      <td>0.783942</td>\n",
              "      <td>0.813009</td>\n",
              "      <td>0.004813</td>\n",
              "      <td>0.001297</td>\n",
              "      <td>0.660984</td>\n",
              "      <td>0.998146</td>\n",
              "    </tr>\n",
              "    <tr>\n",
              "      <th>13607</th>\n",
              "      <td>195106</td>\n",
              "      <td>1648.761</td>\n",
              "      <td>619.838810</td>\n",
              "      <td>404.009229</td>\n",
              "      <td>1.534219</td>\n",
              "      <td>0.758393</td>\n",
              "      <td>197343</td>\n",
              "      <td>498.414160</td>\n",
              "      <td>0.791049</td>\n",
              "      <td>0.988664</td>\n",
              "      <td>0.901914</td>\n",
              "      <td>0.804103</td>\n",
              "      <td>0.003177</td>\n",
              "      <td>0.000819</td>\n",
              "      <td>0.646581</td>\n",
              "      <td>0.991998</td>\n",
              "    </tr>\n",
              "    <tr>\n",
              "      <th>13608</th>\n",
              "      <td>36741</td>\n",
              "      <td>692.928</td>\n",
              "      <td>238.615411</td>\n",
              "      <td>196.465004</td>\n",
              "      <td>1.214544</td>\n",
              "      <td>0.567528</td>\n",
              "      <td>37052</td>\n",
              "      <td>216.287064</td>\n",
              "      <td>0.752643</td>\n",
              "      <td>0.991606</td>\n",
              "      <td>0.961578</td>\n",
              "      <td>0.906425</td>\n",
              "      <td>0.006495</td>\n",
              "      <td>0.002704</td>\n",
              "      <td>0.821607</td>\n",
              "      <td>0.997878</td>\n",
              "    </tr>\n",
              "    <tr>\n",
              "      <th>13609</th>\n",
              "      <td>191554</td>\n",
              "      <td>1682.544</td>\n",
              "      <td>635.396000</td>\n",
              "      <td>385.930852</td>\n",
              "      <td>1.646399</td>\n",
              "      <td>0.794407</td>\n",
              "      <td>193468</td>\n",
              "      <td>493.856384</td>\n",
              "      <td>0.712505</td>\n",
              "      <td>0.990107</td>\n",
              "      <td>0.850292</td>\n",
              "      <td>0.777242</td>\n",
              "      <td>0.003317</td>\n",
              "      <td>0.000747</td>\n",
              "      <td>0.604105</td>\n",
              "      <td>0.994598</td>\n",
              "    </tr>\n",
              "    <tr>\n",
              "      <th>13610</th>\n",
              "      <td>60409</td>\n",
              "      <td>946.447</td>\n",
              "      <td>359.752385</td>\n",
              "      <td>215.049972</td>\n",
              "      <td>1.672878</td>\n",
              "      <td>0.801666</td>\n",
              "      <td>61368</td>\n",
              "      <td>277.335767</td>\n",
              "      <td>0.731415</td>\n",
              "      <td>0.984373</td>\n",
              "      <td>0.847459</td>\n",
              "      <td>0.770907</td>\n",
              "      <td>0.005955</td>\n",
              "      <td>0.001297</td>\n",
              "      <td>0.594298</td>\n",
              "      <td>0.994188</td>\n",
              "    </tr>\n",
              "  </tbody>\n",
              "</table>\n",
              "<p>13611 rows × 16 columns</p>\n",
              "</div>\n",
              "      <button class=\"colab-df-convert\" onclick=\"convertToInteractive('df-45d82a47-e9f0-4711-b459-d5a7cfb5fa3f')\"\n",
              "              title=\"Convert this dataframe to an interactive table.\"\n",
              "              style=\"display:none;\">\n",
              "        \n",
              "  <svg xmlns=\"http://www.w3.org/2000/svg\" height=\"24px\"viewBox=\"0 0 24 24\"\n",
              "       width=\"24px\">\n",
              "    <path d=\"M0 0h24v24H0V0z\" fill=\"none\"/>\n",
              "    <path d=\"M18.56 5.44l.94 2.06.94-2.06 2.06-.94-2.06-.94-.94-2.06-.94 2.06-2.06.94zm-11 1L8.5 8.5l.94-2.06 2.06-.94-2.06-.94L8.5 2.5l-.94 2.06-2.06.94zm10 10l.94 2.06.94-2.06 2.06-.94-2.06-.94-.94-2.06-.94 2.06-2.06.94z\"/><path d=\"M17.41 7.96l-1.37-1.37c-.4-.4-.92-.59-1.43-.59-.52 0-1.04.2-1.43.59L10.3 9.45l-7.72 7.72c-.78.78-.78 2.05 0 2.83L4 21.41c.39.39.9.59 1.41.59.51 0 1.02-.2 1.41-.59l7.78-7.78 2.81-2.81c.8-.78.8-2.07 0-2.86zM5.41 20L4 18.59l7.72-7.72 1.47 1.35L5.41 20z\"/>\n",
              "  </svg>\n",
              "      </button>\n",
              "      \n",
              "  <style>\n",
              "    .colab-df-container {\n",
              "      display:flex;\n",
              "      flex-wrap:wrap;\n",
              "      gap: 12px;\n",
              "    }\n",
              "\n",
              "    .colab-df-convert {\n",
              "      background-color: #E8F0FE;\n",
              "      border: none;\n",
              "      border-radius: 50%;\n",
              "      cursor: pointer;\n",
              "      display: none;\n",
              "      fill: #1967D2;\n",
              "      height: 32px;\n",
              "      padding: 0 0 0 0;\n",
              "      width: 32px;\n",
              "    }\n",
              "\n",
              "    .colab-df-convert:hover {\n",
              "      background-color: #E2EBFA;\n",
              "      box-shadow: 0px 1px 2px rgba(60, 64, 67, 0.3), 0px 1px 3px 1px rgba(60, 64, 67, 0.15);\n",
              "      fill: #174EA6;\n",
              "    }\n",
              "\n",
              "    [theme=dark] .colab-df-convert {\n",
              "      background-color: #3B4455;\n",
              "      fill: #D2E3FC;\n",
              "    }\n",
              "\n",
              "    [theme=dark] .colab-df-convert:hover {\n",
              "      background-color: #434B5C;\n",
              "      box-shadow: 0px 1px 3px 1px rgba(0, 0, 0, 0.15);\n",
              "      filter: drop-shadow(0px 1px 2px rgba(0, 0, 0, 0.3));\n",
              "      fill: #FFFFFF;\n",
              "    }\n",
              "  </style>\n",
              "\n",
              "      <script>\n",
              "        const buttonEl =\n",
              "          document.querySelector('#df-45d82a47-e9f0-4711-b459-d5a7cfb5fa3f button.colab-df-convert');\n",
              "        buttonEl.style.display =\n",
              "          google.colab.kernel.accessAllowed ? 'block' : 'none';\n",
              "\n",
              "        async function convertToInteractive(key) {\n",
              "          const element = document.querySelector('#df-45d82a47-e9f0-4711-b459-d5a7cfb5fa3f');\n",
              "          const dataTable =\n",
              "            await google.colab.kernel.invokeFunction('convertToInteractive',\n",
              "                                                     [key], {});\n",
              "          if (!dataTable) return;\n",
              "\n",
              "          const docLinkHtml = 'Like what you see? Visit the ' +\n",
              "            '<a target=\"_blank\" href=https://colab.research.google.com/notebooks/data_table.ipynb>data table notebook</a>'\n",
              "            + ' to learn more about interactive tables.';\n",
              "          element.innerHTML = '';\n",
              "          dataTable['output_type'] = 'display_data';\n",
              "          await google.colab.output.renderOutput(dataTable, element);\n",
              "          const docLink = document.createElement('div');\n",
              "          docLink.innerHTML = docLinkHtml;\n",
              "          element.appendChild(docLink);\n",
              "        }\n",
              "      </script>\n",
              "    </div>\n",
              "  </div>\n",
              "  "
            ]
          },
          "metadata": {},
          "execution_count": 35
        }
      ]
    },
    {
      "cell_type": "markdown",
      "source": [
        "#Question 8\n",
        "After applying k-means clustering with k=7, how many objects/data points are there in the smallest cluster?\n",
        "\n"
      ],
      "metadata": {
        "id": "FfHSoq59uOJT"
      }
    },
    {
      "cell_type": "code",
      "source": [
        "unique, counts = np.unique(km.labels_, return_counts=True)\n",
        "n= print(np.asarray((unique, counts)).T)"
      ],
      "metadata": {
        "colab": {
          "base_uri": "https://localhost:8080/"
        },
        "id": "E1nvej9HuR49",
        "outputId": "3aa4b99f-c283-4bff-ecaf-efa489e95aa4"
      },
      "execution_count": 57,
      "outputs": [
        {
          "output_type": "stream",
          "name": "stdout",
          "text": [
            "[[   0 3265]\n",
            " [   1 1148]\n",
            " [   2  217]\n",
            " [   3 2538]\n",
            " [   4  303]\n",
            " [   5 4226]\n",
            " [   6 1914]]\n"
          ]
        }
      ]
    },
    {
      "cell_type": "markdown",
      "source": [
        "\n",
        "# Question 9\n",
        "How many dimensional dataset is the Dry Beans dataset? (How many features are there in the dry_beans_data.csv file?) Just write an integer. \n",
        "\n"
      ],
      "metadata": {
        "id": "IQAOrigmtmjB"
      }
    },
    {
      "cell_type": "code",
      "source": [
        "dryBean_data.shape"
      ],
      "metadata": {
        "colab": {
          "base_uri": "https://localhost:8080/"
        },
        "id": "5wUiVMBhtsBw",
        "outputId": "b2a14d2b-ec99-4e92-fa3d-e1d8f0671471"
      },
      "execution_count": 34,
      "outputs": [
        {
          "output_type": "execute_result",
          "data": {
            "text/plain": [
              "(13611, 16)"
            ]
          },
          "metadata": {},
          "execution_count": 34
        }
      ]
    },
    {
      "cell_type": "markdown",
      "source": [
        "# Question 10\n",
        "\n",
        "Among three clustering algorihms -- kmeans, agglomerative, and DBSCAN -- which one(s) might give several different Rand Index values in multiple executions with the same data and parameters.\n",
        "\n",
        "Why? Answer in one or two sentences."
      ],
      "metadata": {
        "id": "EF7ELceVtUQM"
      }
    },
    {
      "cell_type": "markdown",
      "source": [
        "The k-means clustering algorithm might give different Rand Index values in multiple executions with the same data and parameters because it is sensitive to the initial random selection of cluster centroids. The DBSCAN algorithm is less likely to produce different Rand Index values as it is based on density and does not rely on initializations, while the agglomerative clustering algorithm's behavior depends on the linkage criterion chosen.\n"
      ],
      "metadata": {
        "id": "9Dssbvc6tcEp"
      }
    },
    {
      "cell_type": "markdown",
      "source": [
        "#Question 11\n",
        "What is the purity if you run agglomerative clustering with k=7? Your answer must be correct up to two digits after the decimal point. Use default values with n_clusters=7 for scikitlearn AgglomerativeClustering. That is, do not mention any linkage in the parameters so that the default one is used."
      ],
      "metadata": {
        "id": "PkzD2Annxtkh"
      }
    },
    {
      "cell_type": "code",
      "source": [
        "print(purity(gld_labels, agg.labels_ ))"
      ],
      "metadata": {
        "colab": {
          "base_uri": "https://localhost:8080/"
        },
        "id": "Vd10I-HExxfX",
        "outputId": "0410abd0-5b54-4e56-ab36-f96101423d85"
      },
      "execution_count": 58,
      "outputs": [
        {
          "output_type": "stream",
          "name": "stdout",
          "text": [
            "0.6744544853427374\n"
          ]
        }
      ]
    },
    {
      "cell_type": "markdown",
      "source": [
        "#Question 12\n",
        "\n",
        "What is the average silhouette coefficient of the result retrieved by the k-means algorithm with k=7? Your result must be correct up to two digits after the decimal point. You might have to run k-means several times to find the best result. (Remember, k-means is non-deterministic.)"
      ],
      "metadata": {
        "id": "BE017XaDzcYV"
      }
    },
    {
      "cell_type": "code",
      "source": [
        "print(silhouette_score(data_dryBean, km.labels_))"
      ],
      "metadata": {
        "colab": {
          "base_uri": "https://localhost:8080/"
        },
        "id": "6LfKBX73zeHh",
        "outputId": "4e0905bb-7ca8-4b56-ae17-9988192869c6"
      },
      "execution_count": 65,
      "outputs": [
        {
          "output_type": "stream",
          "name": "stdout",
          "text": [
            "0.532953088034952\n"
          ]
        }
      ]
    },
    {
      "cell_type": "markdown",
      "source": [
        "#Question 13\n",
        "\n",
        "What is the Rand index if you run k-means with k=7? Your answer must be correct up to two digits after the decimal point. You might have to run k-means many times to find the best result. (Remember, k-means is non-deterministic.)"
      ],
      "metadata": {
        "id": "AgsF9BsG02-n"
      }
    }
  ]
}