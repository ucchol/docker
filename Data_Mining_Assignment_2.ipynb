{
  "nbformat": 4,
  "nbformat_minor": 0,
  "metadata": {
    "colab": {
      "provenance": [],
      "authorship_tag": "ABX9TyPOxfigr7cNgDdG8n5oNjwB",
      "include_colab_link": true
    },
    "kernelspec": {
      "name": "python3",
      "display_name": "Python 3"
    },
    "language_info": {
      "name": "python"
    }
  },
  "cells": [
    {
      "cell_type": "markdown",
      "metadata": {
        "id": "view-in-github",
        "colab_type": "text"
      },
      "source": [
        "<a href=\"https://colab.research.google.com/github/ucchol/docker/blob/Data-Mining/Data_Mining_Assignment_2.ipynb\" target=\"_parent\"><img src=\"https://colab.research.google.com/assets/colab-badge.svg\" alt=\"Open In Colab\"/></a>"
      ]
    },
    {
      "cell_type": "code",
      "execution_count": 1,
      "metadata": {
        "id": "KvxKDo_oaJub"
      },
      "outputs": [],
      "source": [
        "import numpy as np\n",
        "import pandas as pd\n",
        "from sklearn.cluster import KMeans\n",
        "from sklearn.metrics import silhouette_score \n",
        "from sklearn.metrics import silhouette_samples \n",
        "from sklearn.cluster import AgglomerativeClustering\n",
        "from sklearn.cluster import DBSCAN"
      ]
    },
    {
      "cell_type": "code",
      "source": [
        "from google.colab import files\n",
        "uploaded = files.upload()"
      ],
      "metadata": {
        "colab": {
          "base_uri": "https://localhost:8080/",
          "height": 108
        },
        "id": "cua92YJbaPos",
        "outputId": "32ce7514-ff91-4071-e864-06022cb82aef"
      },
      "execution_count": 2,
      "outputs": [
        {
          "output_type": "display_data",
          "data": {
            "text/plain": [
              "<IPython.core.display.HTML object>"
            ],
            "text/html": [
              "\n",
              "     <input type=\"file\" id=\"files-b223bf99-34fe-4090-a9bf-8ca311888095\" name=\"files[]\" multiple disabled\n",
              "        style=\"border:none\" />\n",
              "     <output id=\"result-b223bf99-34fe-4090-a9bf-8ca311888095\">\n",
              "      Upload widget is only available when the cell has been executed in the\n",
              "      current browser session. Please rerun this cell to enable.\n",
              "      </output>\n",
              "      <script>// Copyright 2017 Google LLC\n",
              "//\n",
              "// Licensed under the Apache License, Version 2.0 (the \"License\");\n",
              "// you may not use this file except in compliance with the License.\n",
              "// You may obtain a copy of the License at\n",
              "//\n",
              "//      http://www.apache.org/licenses/LICENSE-2.0\n",
              "//\n",
              "// Unless required by applicable law or agreed to in writing, software\n",
              "// distributed under the License is distributed on an \"AS IS\" BASIS,\n",
              "// WITHOUT WARRANTIES OR CONDITIONS OF ANY KIND, either express or implied.\n",
              "// See the License for the specific language governing permissions and\n",
              "// limitations under the License.\n",
              "\n",
              "/**\n",
              " * @fileoverview Helpers for google.colab Python module.\n",
              " */\n",
              "(function(scope) {\n",
              "function span(text, styleAttributes = {}) {\n",
              "  const element = document.createElement('span');\n",
              "  element.textContent = text;\n",
              "  for (const key of Object.keys(styleAttributes)) {\n",
              "    element.style[key] = styleAttributes[key];\n",
              "  }\n",
              "  return element;\n",
              "}\n",
              "\n",
              "// Max number of bytes which will be uploaded at a time.\n",
              "const MAX_PAYLOAD_SIZE = 100 * 1024;\n",
              "\n",
              "function _uploadFiles(inputId, outputId) {\n",
              "  const steps = uploadFilesStep(inputId, outputId);\n",
              "  const outputElement = document.getElementById(outputId);\n",
              "  // Cache steps on the outputElement to make it available for the next call\n",
              "  // to uploadFilesContinue from Python.\n",
              "  outputElement.steps = steps;\n",
              "\n",
              "  return _uploadFilesContinue(outputId);\n",
              "}\n",
              "\n",
              "// This is roughly an async generator (not supported in the browser yet),\n",
              "// where there are multiple asynchronous steps and the Python side is going\n",
              "// to poll for completion of each step.\n",
              "// This uses a Promise to block the python side on completion of each step,\n",
              "// then passes the result of the previous step as the input to the next step.\n",
              "function _uploadFilesContinue(outputId) {\n",
              "  const outputElement = document.getElementById(outputId);\n",
              "  const steps = outputElement.steps;\n",
              "\n",
              "  const next = steps.next(outputElement.lastPromiseValue);\n",
              "  return Promise.resolve(next.value.promise).then((value) => {\n",
              "    // Cache the last promise value to make it available to the next\n",
              "    // step of the generator.\n",
              "    outputElement.lastPromiseValue = value;\n",
              "    return next.value.response;\n",
              "  });\n",
              "}\n",
              "\n",
              "/**\n",
              " * Generator function which is called between each async step of the upload\n",
              " * process.\n",
              " * @param {string} inputId Element ID of the input file picker element.\n",
              " * @param {string} outputId Element ID of the output display.\n",
              " * @return {!Iterable<!Object>} Iterable of next steps.\n",
              " */\n",
              "function* uploadFilesStep(inputId, outputId) {\n",
              "  const inputElement = document.getElementById(inputId);\n",
              "  inputElement.disabled = false;\n",
              "\n",
              "  const outputElement = document.getElementById(outputId);\n",
              "  outputElement.innerHTML = '';\n",
              "\n",
              "  const pickedPromise = new Promise((resolve) => {\n",
              "    inputElement.addEventListener('change', (e) => {\n",
              "      resolve(e.target.files);\n",
              "    });\n",
              "  });\n",
              "\n",
              "  const cancel = document.createElement('button');\n",
              "  inputElement.parentElement.appendChild(cancel);\n",
              "  cancel.textContent = 'Cancel upload';\n",
              "  const cancelPromise = new Promise((resolve) => {\n",
              "    cancel.onclick = () => {\n",
              "      resolve(null);\n",
              "    };\n",
              "  });\n",
              "\n",
              "  // Wait for the user to pick the files.\n",
              "  const files = yield {\n",
              "    promise: Promise.race([pickedPromise, cancelPromise]),\n",
              "    response: {\n",
              "      action: 'starting',\n",
              "    }\n",
              "  };\n",
              "\n",
              "  cancel.remove();\n",
              "\n",
              "  // Disable the input element since further picks are not allowed.\n",
              "  inputElement.disabled = true;\n",
              "\n",
              "  if (!files) {\n",
              "    return {\n",
              "      response: {\n",
              "        action: 'complete',\n",
              "      }\n",
              "    };\n",
              "  }\n",
              "\n",
              "  for (const file of files) {\n",
              "    const li = document.createElement('li');\n",
              "    li.append(span(file.name, {fontWeight: 'bold'}));\n",
              "    li.append(span(\n",
              "        `(${file.type || 'n/a'}) - ${file.size} bytes, ` +\n",
              "        `last modified: ${\n",
              "            file.lastModifiedDate ? file.lastModifiedDate.toLocaleDateString() :\n",
              "                                    'n/a'} - `));\n",
              "    const percent = span('0% done');\n",
              "    li.appendChild(percent);\n",
              "\n",
              "    outputElement.appendChild(li);\n",
              "\n",
              "    const fileDataPromise = new Promise((resolve) => {\n",
              "      const reader = new FileReader();\n",
              "      reader.onload = (e) => {\n",
              "        resolve(e.target.result);\n",
              "      };\n",
              "      reader.readAsArrayBuffer(file);\n",
              "    });\n",
              "    // Wait for the data to be ready.\n",
              "    let fileData = yield {\n",
              "      promise: fileDataPromise,\n",
              "      response: {\n",
              "        action: 'continue',\n",
              "      }\n",
              "    };\n",
              "\n",
              "    // Use a chunked sending to avoid message size limits. See b/62115660.\n",
              "    let position = 0;\n",
              "    do {\n",
              "      const length = Math.min(fileData.byteLength - position, MAX_PAYLOAD_SIZE);\n",
              "      const chunk = new Uint8Array(fileData, position, length);\n",
              "      position += length;\n",
              "\n",
              "      const base64 = btoa(String.fromCharCode.apply(null, chunk));\n",
              "      yield {\n",
              "        response: {\n",
              "          action: 'append',\n",
              "          file: file.name,\n",
              "          data: base64,\n",
              "        },\n",
              "      };\n",
              "\n",
              "      let percentDone = fileData.byteLength === 0 ?\n",
              "          100 :\n",
              "          Math.round((position / fileData.byteLength) * 100);\n",
              "      percent.textContent = `${percentDone}% done`;\n",
              "\n",
              "    } while (position < fileData.byteLength);\n",
              "  }\n",
              "\n",
              "  // All done.\n",
              "  yield {\n",
              "    response: {\n",
              "      action: 'complete',\n",
              "    }\n",
              "  };\n",
              "}\n",
              "\n",
              "scope.google = scope.google || {};\n",
              "scope.google.colab = scope.google.colab || {};\n",
              "scope.google.colab._files = {\n",
              "  _uploadFiles,\n",
              "  _uploadFilesContinue,\n",
              "};\n",
              "})(self);\n",
              "</script> "
            ]
          },
          "metadata": {}
        },
        {
          "output_type": "stream",
          "name": "stdout",
          "text": [
            "Saving dry_beans_benchmarkclusters.csv to dry_beans_benchmarkclusters.csv\n",
            "Saving dry_beans_data.csv to dry_beans_data.csv\n"
          ]
        }
      ]
    },
    {
      "cell_type": "code",
      "source": [
        "#csv data read\n",
        "\n",
        "dryBean_data = pd.read_csv('dry_beans_data.csv')\n",
        "dryBean_goldset = pd.read_csv('dry_beans_benchmarkclusters.csv', header=None)"
      ],
      "metadata": {
        "id": "3CcMClWzae3G"
      },
      "execution_count": 3,
      "outputs": []
    },
    {
      "cell_type": "code",
      "source": [
        "dryBean_data.shape"
      ],
      "metadata": {
        "colab": {
          "base_uri": "https://localhost:8080/"
        },
        "id": "5ndwEKbxa-_o",
        "outputId": "62edce5e-c7c3-4e94-aa50-b59a0dcbfa1a"
      },
      "execution_count": 6,
      "outputs": [
        {
          "output_type": "execute_result",
          "data": {
            "text/plain": [
              "(13611, 16)"
            ]
          },
          "metadata": {},
          "execution_count": 6
        }
      ]
    },
    {
      "cell_type": "code",
      "source": [
        "dryBean_goldset.shape"
      ],
      "metadata": {
        "colab": {
          "base_uri": "https://localhost:8080/"
        },
        "id": "OhvnZmL9bCYS",
        "outputId": "07416a4f-b16f-4898-b222-a7d10aff8c74"
      },
      "execution_count": 7,
      "outputs": [
        {
          "output_type": "execute_result",
          "data": {
            "text/plain": [
              "(13611, 1)"
            ]
          },
          "metadata": {},
          "execution_count": 7
        }
      ]
    },
    {
      "cell_type": "code",
      "source": [
        "data_dryBean = dryBean_data.values"
      ],
      "metadata": {
        "id": "TAL46FI6aroK"
      },
      "execution_count": 4,
      "outputs": []
    },
    {
      "cell_type": "code",
      "source": [
        "#goldset\n",
        "\n",
        "labels = dryBean_data.values\n",
        "gld_labels = labels[:, 0] \n",
        "print(gld_labels.shape)\n",
        "print(gld_labels)"
      ],
      "metadata": {
        "colab": {
          "base_uri": "https://localhost:8080/"
        },
        "id": "F1GyGl96bJu7",
        "outputId": "cd4a9cfc-ce42-41fd-b39f-7ed3e88803f5"
      },
      "execution_count": 8,
      "outputs": [
        {
          "output_type": "stream",
          "name": "stdout",
          "text": [
            "(13611,)\n",
            "[ 50833.  30727.  41324. ...  36741. 191554.  60409.]\n"
          ]
        }
      ]
    },
    {
      "cell_type": "markdown",
      "source": [
        "#K-Means Clustering"
      ],
      "metadata": {
        "id": "1PdTPx3ja0k6"
      }
    },
    {
      "cell_type": "code",
      "source": [
        "k=3\n",
        "km = KMeans(n_clusters=k, verbose=1).fit(data_dryBean)"
      ],
      "metadata": {
        "colab": {
          "base_uri": "https://localhost:8080/"
        },
        "id": "NHciaxi6a0ME",
        "outputId": "7a0976f6-b7ee-400c-be49-9bc3ff26cc91"
      },
      "execution_count": 11,
      "outputs": [
        {
          "output_type": "stream",
          "name": "stderr",
          "text": [
            "/usr/local/lib/python3.8/dist-packages/sklearn/cluster/_kmeans.py:870: FutureWarning: The default value of `n_init` will change from 10 to 'auto' in 1.4. Set the value of `n_init` explicitly to suppress the warning\n",
            "  warnings.warn(\n"
          ]
        },
        {
          "output_type": "stream",
          "name": "stdout",
          "text": [
            "Initialization complete\n",
            "Iteration 0, inertia 3581674585045.666.\n",
            "Iteration 1, inertia 2569967482872.9106.\n",
            "Iteration 2, inertia 2522420961915.582.\n",
            "Iteration 3, inertia 2512539412831.802.\n",
            "Iteration 4, inertia 2509990089302.9194.\n",
            "Iteration 5, inertia 2509157267608.3545.\n",
            "Iteration 6, inertia 2508990131428.292.\n",
            "Converged at iteration 6: center shift 4177.851567081078 within tolerance 10914.86670982776.\n",
            "Initialization complete\n",
            "Iteration 0, inertia 2562068496311.4746.\n",
            "Iteration 1, inertia 2509428656027.384.\n",
            "Iteration 2, inertia 2509046408263.8154.\n",
            "Iteration 3, inertia 2508974265034.165.\n",
            "Converged at iteration 3: center shift 1504.7459941953316 within tolerance 10914.86670982776.\n",
            "Initialization complete\n",
            "Iteration 0, inertia 3462307536314.2627.\n",
            "Iteration 1, inertia 2553531501656.3027.\n",
            "Iteration 2, inertia 2515821127177.801.\n",
            "Iteration 3, inertia 2510685937875.7227.\n",
            "Iteration 4, inertia 2509259276654.2744.\n",
            "Iteration 5, inertia 2509055783948.1064.\n",
            "Converged at iteration 5: center shift 9512.179868197896 within tolerance 10914.86670982776.\n",
            "Initialization complete\n",
            "Iteration 0, inertia 4766432013282.518.\n",
            "Iteration 1, inertia 3061480724335.341.\n",
            "Iteration 2, inertia 2678393892545.2627.\n",
            "Iteration 3, inertia 2549540587801.4746.\n",
            "Iteration 4, inertia 2518379974377.283.\n",
            "Iteration 5, inertia 2511673700600.508.\n",
            "Iteration 6, inertia 2509688774235.404.\n",
            "Iteration 7, inertia 2509066214370.088.\n",
            "Iteration 8, inertia 2508976699169.912.\n",
            "Converged at iteration 8: center shift 2047.966758276175 within tolerance 10914.86670982776.\n",
            "Initialization complete\n",
            "Iteration 0, inertia 2994030839729.9727.\n",
            "Iteration 1, inertia 2590868387703.584.\n",
            "Iteration 2, inertia 2521749304754.8594.\n",
            "Iteration 3, inertia 2511559008614.9717.\n",
            "Iteration 4, inertia 2509425359682.7686.\n",
            "Iteration 5, inertia 2509078117840.79.\n",
            "Converged at iteration 5: center shift 9523.183087298245 within tolerance 10914.86670982776.\n",
            "Initialization complete\n",
            "Iteration 0, inertia 3285230718855.8438.\n",
            "Iteration 1, inertia 2566290705953.2275.\n",
            "Iteration 2, inertia 2521756268336.952.\n",
            "Iteration 3, inertia 2512505720724.0312.\n",
            "Iteration 4, inertia 2509970048019.607.\n",
            "Iteration 5, inertia 2509157267608.3545.\n",
            "Iteration 6, inertia 2508990131428.292.\n",
            "Converged at iteration 6: center shift 4177.851567081078 within tolerance 10914.86670982776.\n",
            "Initialization complete\n",
            "Iteration 0, inertia 3470696900743.076.\n",
            "Iteration 1, inertia 2533570223741.34.\n",
            "Iteration 2, inertia 2513035590692.806.\n",
            "Iteration 3, inertia 2509819899394.462.\n",
            "Iteration 4, inertia 2509154949559.7246.\n",
            "Iteration 5, inertia 2509018567004.4307.\n",
            "Converged at iteration 5: center shift 6075.892320595798 within tolerance 10914.86670982776.\n",
            "Initialization complete\n",
            "Iteration 0, inertia 2864865831410.9253.\n",
            "Iteration 1, inertia 2538322440702.607.\n",
            "Iteration 2, inertia 2516320785202.677.\n",
            "Iteration 3, inertia 2510963791457.6777.\n",
            "Iteration 4, inertia 2509428656027.384.\n",
            "Iteration 5, inertia 2509046408263.8154.\n",
            "Iteration 6, inertia 2508974265034.165.\n",
            "Converged at iteration 6: center shift 1504.7459941953316 within tolerance 10914.86670982776.\n",
            "Initialization complete\n",
            "Iteration 0, inertia 3818871503834.4155.\n",
            "Iteration 1, inertia 2817369470246.1304.\n",
            "Iteration 2, inertia 2593069591957.826.\n",
            "Iteration 3, inertia 2527702021720.373.\n",
            "Iteration 4, inertia 2513735337597.1333.\n",
            "Iteration 5, inertia 2510252426555.6533.\n",
            "Iteration 6, inertia 2509197536706.6646.\n",
            "Iteration 7, inertia 2508997272887.5527.\n",
            "Converged at iteration 7: center shift 3383.2563958969854 within tolerance 10914.86670982776.\n",
            "Initialization complete\n",
            "Iteration 0, inertia 3381687791495.0093.\n",
            "Iteration 1, inertia 2524960275522.9326.\n",
            "Iteration 2, inertia 2511457599340.7705.\n",
            "Iteration 3, inertia 2509411874952.339.\n",
            "Iteration 4, inertia 2509078117840.79.\n",
            "Converged at iteration 4: center shift 9523.183087298245 within tolerance 10914.86670982776.\n"
          ]
        }
      ]
    },
    {
      "cell_type": "code",
      "source": [
        "print(\"The clustering Assignments are: \")\n",
        "print(km.labels_)"
      ],
      "metadata": {
        "colab": {
          "base_uri": "https://localhost:8080/"
        },
        "id": "mcNOCmzpayne",
        "outputId": "8d1c9835-ab3c-43da-8636-24fd0e3e9c3a"
      },
      "execution_count": 12,
      "outputs": [
        {
          "output_type": "stream",
          "name": "stdout",
          "text": [
            "The clustering Assignments are: \n",
            "[0 0 0 ... 0 1 2]\n"
          ]
        }
      ]
    },
    {
      "cell_type": "code",
      "source": [
        "#sum of squared distance\n",
        "\n",
        "print(\"SSD (sum of squared distance): \", km.inertia_)"
      ],
      "metadata": {
        "colab": {
          "base_uri": "https://localhost:8080/"
        },
        "id": "RG4ibVm-blxc",
        "outputId": "e6fd98c7-52a9-4558-be3e-e82ff78b5d1e"
      },
      "execution_count": 13,
      "outputs": [
        {
          "output_type": "stream",
          "name": "stdout",
          "text": [
            "SSD (sum of squared distance):  2508967708931.4937\n"
          ]
        }
      ]
    },
    {
      "cell_type": "code",
      "source": [
        "def rand_index(result, gf):\n",
        "  print(len(result))\n",
        "  print(len(gf))\n",
        "  count_matches = 0.0\n",
        "  count_all = 0.0\n",
        "  for i in range(len(result)):\n",
        "    for j in range(i+1, len(gf)):\n",
        "      if (result[i] == result[j] and gf[i] == gf[j]) or (result[i] != result[j] and gf[i] != gf[j]):\n",
        "        count_matches += 1\n",
        "      count_all += 1\n",
        "  return count_matches / count_all\n",
        "\n",
        "goldLabels = gld_labels\n",
        "kLabels = km.labels_\n",
        "print(\"Rand Index: \", rand_index(kLabels, goldLabels))"
      ],
      "metadata": {
        "colab": {
          "base_uri": "https://localhost:8080/"
        },
        "id": "jrjR2hgLb_F4",
        "outputId": "941b3d47-846d-4df1-c7c8-473dffbfce04"
      },
      "execution_count": 16,
      "outputs": [
        {
          "output_type": "stream",
          "name": "stdout",
          "text": [
            "13611\n",
            "13611\n",
            "Rand Index:  0.44969755035082865\n"
          ]
        }
      ]
    },
    {
      "cell_type": "code",
      "source": [
        "#purity in K-means clustering\n",
        "\n",
        "def purity(result, gs):   #result and gs are labels\n",
        "  cLabel= list(set(result)) # list will have the cluster labels\n",
        "  gLabel= list(set(gs)) # list will have the ground_cluster truth labels , length of t from our equation\n",
        "  n= len(result)\n",
        "  k= len(cLabel)\n",
        "  t= len(gLabel)\n",
        "\n",
        "  #constructing dictionaries for cLable and glabel\n",
        "  cLabelsD= dict(zip(cLabel, range(k))) #for clustering\n",
        "  gLabelsD= dict(zip(gLabel, range(t))) #for ground truth\n",
        "\n",
        "  clusterGroundDistr= [[0] * t for i in range(k)] #this will create a 2D array of t many columns and k many rows\n",
        "\n",
        "  for i in range(n):  #number of elements we have is n\n",
        "    clusterIndex = cLabelsD[result[i]]\n",
        "    groundIndex = gLabelsD[gs[i]]\n",
        "    clusterGroundDistr[clusterIndex][groundIndex] += 1\n",
        "\n",
        "  p=0 # p is purity\n",
        "  for i in range(k):\n",
        "    p += max(clusterGroundDistr[i])\n",
        "\n",
        "  return p/n\n",
        "\n",
        "print(purity(gld_labels, km.labels_ ))"
      ],
      "metadata": {
        "colab": {
          "base_uri": "https://localhost:8080/"
        },
        "id": "kz5VWzwlcQoz",
        "outputId": "b5085257-18f8-432a-aa48-a6ddaca20ed6"
      },
      "execution_count": 25,
      "outputs": [
        {
          "output_type": "stream",
          "name": "stdout",
          "text": [
            "0.9998530600249798\n"
          ]
        }
      ]
    },
    {
      "cell_type": "markdown",
      "source": [
        "#Agglomerative clustering"
      ],
      "metadata": {
        "id": "N0C9FHLVbxJW"
      }
    },
    {
      "cell_type": "code",
      "source": [
        "agg = AgglomerativeClustering(n_clusters=3).fit(dryBean_data)\n",
        "agg.labels_"
      ],
      "metadata": {
        "colab": {
          "base_uri": "https://localhost:8080/"
        },
        "id": "1lhEUJ_Pbya7",
        "outputId": "682c52b8-5cc2-4083-dcbb-238f88a50e0b"
      },
      "execution_count": 15,
      "outputs": [
        {
          "output_type": "execute_result",
          "data": {
            "text/plain": [
              "array([0, 2, 2, ..., 2, 1, 0])"
            ]
          },
          "metadata": {},
          "execution_count": 15
        }
      ]
    },
    {
      "cell_type": "code",
      "source": [
        "#Rand index using agglomerative clustering \n",
        "\n",
        "print(rand_index(gld_labels, agg.labels_))"
      ],
      "metadata": {
        "colab": {
          "base_uri": "https://localhost:8080/"
        },
        "id": "rPgpj2f5b8Pw",
        "outputId": "217f2941-5e67-48ec-8d54-dd82811be183"
      },
      "execution_count": 19,
      "outputs": [
        {
          "output_type": "stream",
          "name": "stdout",
          "text": [
            "13611\n",
            "13611\n",
            "0.5129810671459004\n"
          ]
        }
      ]
    },
    {
      "cell_type": "code",
      "source": [
        "#Purity using Agglomerative clustering \n",
        "\n",
        "print(purity(gld_labels, agg.labels_ ))"
      ],
      "metadata": {
        "colab": {
          "base_uri": "https://localhost:8080/"
        },
        "id": "I6eOr_wRcLT0",
        "outputId": "65a137bc-261d-4c90-f1dc-6c605014a895"
      },
      "execution_count": 26,
      "outputs": [
        {
          "output_type": "stream",
          "name": "stdout",
          "text": [
            "0.9997061200499596\n"
          ]
        }
      ]
    },
    {
      "cell_type": "markdown",
      "source": [
        "# DBSCAN"
      ],
      "metadata": {
        "id": "NhIvaFksdDt4"
      }
    },
    {
      "cell_type": "code",
      "source": [
        "dbres = DBSCAN(eps=1.0, min_samples=3).fit(data_dryBean)\n",
        "print(dbres.labels_)"
      ],
      "metadata": {
        "colab": {
          "base_uri": "https://localhost:8080/"
        },
        "id": "TKtF310OdEkX",
        "outputId": "8cdb9b70-f214-4e5c-e107-2f06fb2096de"
      },
      "execution_count": 23,
      "outputs": [
        {
          "output_type": "stream",
          "name": "stdout",
          "text": [
            "[-1 -1 -1 ... -1 -1 -1]\n"
          ]
        }
      ]
    },
    {
      "cell_type": "code",
      "source": [
        "dbres = DBSCAN(eps=1.0, min_samples=5).fit(data_dryBean)\n",
        "print(dbres.labels_)"
      ],
      "metadata": {
        "colab": {
          "base_uri": "https://localhost:8080/"
        },
        "id": "pvuayGS6dNj2",
        "outputId": "bcb55225-2a86-479d-bed2-ccfce98794c2"
      },
      "execution_count": 24,
      "outputs": [
        {
          "output_type": "stream",
          "name": "stdout",
          "text": [
            "[-1 -1 -1 ... -1 -1 -1]\n"
          ]
        }
      ]
    },
    {
      "cell_type": "markdown",
      "source": [
        "#Question 1\n",
        "\n",
        "What is the average silhouette coefficient of the result retrieved by the agglomerative clustering algorithm with k=7? Your result must be correct up to two digits after the decimal point. Use default values with n_clusters=7 for scikitlearn AgglomerativeClustering. That is, do not mention any linkage in the parameters so that the default one is used."
      ],
      "metadata": {
        "id": "1M-b-o3Qaa3A"
      }
    },
    {
      "cell_type": "code",
      "source": [
        "#agglomerative clustering algorithm with k=7\n",
        "\n",
        "agg = AgglomerativeClustering(n_clusters=7).fit(dryBean_data)\n",
        "agg.labels_"
      ],
      "metadata": {
        "colab": {
          "base_uri": "https://localhost:8080/"
        },
        "id": "aU4LC-SOdv-D",
        "outputId": "9cbb6f76-5f6b-4501-971c-f009755c3c23"
      },
      "execution_count": 27,
      "outputs": [
        {
          "output_type": "execute_result",
          "data": {
            "text/plain": [
              "array([0, 4, 1, ..., 1, 5, 0])"
            ]
          },
          "metadata": {},
          "execution_count": 27
        }
      ]
    },
    {
      "cell_type": "code",
      "source": [
        "print(silhouette_score(data_dryBean, agg.labels_))"
      ],
      "metadata": {
        "colab": {
          "base_uri": "https://localhost:8080/"
        },
        "id": "eEiyBTaRac59",
        "outputId": "69883214-8a07-474d-cf91-5dab13ec7557"
      },
      "execution_count": 28,
      "outputs": [
        {
          "output_type": "stream",
          "name": "stdout",
          "text": [
            "0.5050234057202192\n"
          ]
        }
      ]
    },
    {
      "cell_type": "markdown",
      "source": [
        "#Question 2\n",
        "\n",
        "What is the number of outlier data points if you apply DBSCAN with eps= 50.0  and min_pts= 12? You must enter an integer only. "
      ],
      "metadata": {
        "id": "faA8Wd6xeHF7"
      }
    },
    {
      "cell_type": "code",
      "source": [
        "dbres_dry1 = DBSCAN(eps=50, min_samples=12).fit(dryBean_data)\n",
        "print(dbres_dry1.labels_)"
      ],
      "metadata": {
        "colab": {
          "base_uri": "https://localhost:8080/"
        },
        "id": "tQVjOAKoeItJ",
        "outputId": "ceef854c-3db3-4e5e-f865-29e771d02533"
      },
      "execution_count": 30,
      "outputs": [
        {
          "output_type": "stream",
          "name": "stdout",
          "text": [
            "[-1 -1 44 ... 14 -1 -1]\n"
          ]
        }
      ]
    },
    {
      "cell_type": "code",
      "source": [
        "unique, counts = np.unique(dbres_dry1.labels_, return_counts=True)\n",
        "print(np.asarray((unique, counts)).T)"
      ],
      "metadata": {
        "colab": {
          "base_uri": "https://localhost:8080/"
        },
        "id": "Cz33ncXKeWkj",
        "outputId": "c69a9516-acb3-4b51-d95e-88a683e89c6f"
      },
      "execution_count": 31,
      "outputs": [
        {
          "output_type": "stream",
          "name": "stdout",
          "text": [
            "[[  -1 9894]\n",
            " [   0   99]\n",
            " [   1   67]\n",
            " [   2   26]\n",
            " [   3  141]\n",
            " [   4   20]\n",
            " [   5   19]\n",
            " [   6   44]\n",
            " [   7   68]\n",
            " [   8   13]\n",
            " [   9   30]\n",
            " [  10   31]\n",
            " [  11  104]\n",
            " [  12   69]\n",
            " [  13   24]\n",
            " [  14   81]\n",
            " [  15   36]\n",
            " [  16  109]\n",
            " [  17   61]\n",
            " [  18   83]\n",
            " [  19   35]\n",
            " [  20   70]\n",
            " [  21   18]\n",
            " [  22   58]\n",
            " [  23  100]\n",
            " [  24  105]\n",
            " [  25   14]\n",
            " [  26   37]\n",
            " [  27   52]\n",
            " [  28   46]\n",
            " [  29   36]\n",
            " [  30   21]\n",
            " [  31   69]\n",
            " [  32   56]\n",
            " [  33   17]\n",
            " [  34   65]\n",
            " [  35   26]\n",
            " [  36   61]\n",
            " [  37   15]\n",
            " [  38   40]\n",
            " [  39   40]\n",
            " [  40   64]\n",
            " [  41   37]\n",
            " [  42   56]\n",
            " [  43   58]\n",
            " [  44   27]\n",
            " [  45   27]\n",
            " [  46   22]\n",
            " [  47   40]\n",
            " [  48   38]\n",
            " [  49   12]\n",
            " [  50   26]\n",
            " [  51   20]\n",
            " [  52   23]\n",
            " [  53   30]\n",
            " [  54   26]\n",
            " [  55   17]\n",
            " [  56   30]\n",
            " [  57   20]\n",
            " [  58   17]\n",
            " [  59   40]\n",
            " [  60   22]\n",
            " [  61   23]\n",
            " [  62   49]\n",
            " [  63   12]\n",
            " [  64   14]\n",
            " [  65   26]\n",
            " [  66   12]\n",
            " [  67   23]\n",
            " [  68   28]\n",
            " [  69   17]\n",
            " [  70   18]\n",
            " [  71   18]\n",
            " [  72   26]\n",
            " [  73   58]\n",
            " [  74   15]\n",
            " [  75   26]\n",
            " [  76   24]\n",
            " [  77   12]\n",
            " [  78   24]\n",
            " [  79   20]\n",
            " [  80   24]\n",
            " [  81   14]\n",
            " [  82   20]\n",
            " [  83   12]\n",
            " [  84   18]\n",
            " [  85   34]\n",
            " [  86   17]\n",
            " [  87   10]\n",
            " [  88    8]\n",
            " [  89   14]\n",
            " [  90   19]\n",
            " [  91   18]\n",
            " [  92   16]\n",
            " [  93   18]\n",
            " [  94   12]\n",
            " [  95   10]\n",
            " [  96   18]\n",
            " [  97   11]\n",
            " [  98   14]\n",
            " [  99   12]\n",
            " [ 100   11]\n",
            " [ 101   11]\n",
            " [ 102   15]\n",
            " [ 103    9]\n",
            " [ 104   12]\n",
            " [ 105   20]\n",
            " [ 106   11]\n",
            " [ 107   12]\n",
            " [ 108   11]\n",
            " [ 109   11]\n",
            " [ 110   12]\n",
            " [ 111   12]\n",
            " [ 112   12]\n",
            " [ 113    9]\n",
            " [ 114   12]\n",
            " [ 115   15]]\n"
          ]
        }
      ]
    },
    {
      "cell_type": "markdown",
      "source": [
        "#Question 3\n",
        "\n",
        "What is the number of outlier data points if you apply DBSCAN with eps= 20.0  and min_pts= 5? You must enter an integer only. "
      ],
      "metadata": {
        "id": "kTmjQ149efpB"
      }
    },
    {
      "cell_type": "code",
      "source": [
        "dbres_dry1 = DBSCAN(eps=20, min_samples=5).fit(dryBean_data)\n",
        "print(dbres_dry1.labels_)"
      ],
      "metadata": {
        "colab": {
          "base_uri": "https://localhost:8080/"
        },
        "id": "39ZPKHsBehng",
        "outputId": "24c617a8-a352-4c01-9bb5-3f7a1349e97c"
      },
      "execution_count": 32,
      "outputs": [
        {
          "output_type": "stream",
          "name": "stdout",
          "text": [
            "[-1 -1 -1 ... -1 -1 -1]\n"
          ]
        }
      ]
    },
    {
      "cell_type": "code",
      "source": [
        "unique, counts = np.unique(dbres_dry1.labels_, return_counts=True)\n",
        "print(np.asarray((unique, counts)).T)"
      ],
      "metadata": {
        "colab": {
          "base_uri": "https://localhost:8080/"
        },
        "id": "K2yOEXkse5sK",
        "outputId": "28ee4dde-43e0-4c4b-ab29-5933537770ff"
      },
      "execution_count": 33,
      "outputs": [
        {
          "output_type": "stream",
          "name": "stdout",
          "text": [
            "[[   -1 13321]\n",
            " [    0     5]\n",
            " [    1     5]\n",
            " [    2     8]\n",
            " [    3     7]\n",
            " [    4     6]\n",
            " [    5     8]\n",
            " [    6     5]\n",
            " [    7     6]\n",
            " [    8     8]\n",
            " [    9     5]\n",
            " [   10     6]\n",
            " [   11     7]\n",
            " [   12     5]\n",
            " [   13     7]\n",
            " [   14     5]\n",
            " [   15     5]\n",
            " [   16     9]\n",
            " [   17     5]\n",
            " [   18     5]\n",
            " [   19     5]\n",
            " [   20    11]\n",
            " [   21     5]\n",
            " [   22     6]\n",
            " [   23     7]\n",
            " [   24     6]\n",
            " [   25     5]\n",
            " [   26     5]\n",
            " [   27     6]\n",
            " [   28     8]\n",
            " [   29     6]\n",
            " [   30     5]\n",
            " [   31     8]\n",
            " [   32     8]\n",
            " [   33     5]\n",
            " [   34     6]\n",
            " [   35     5]\n",
            " [   36     5]\n",
            " [   37     5]\n",
            " [   38     5]\n",
            " [   39     6]\n",
            " [   40     3]\n",
            " [   41     5]\n",
            " [   42     5]\n",
            " [   43     7]\n",
            " [   44     5]\n",
            " [   45     5]\n",
            " [   46     5]\n",
            " [   47     5]\n",
            " [   48     5]]\n"
          ]
        }
      ]
    },
    {
      "cell_type": "markdown",
      "source": [
        "#Question 4\n",
        "\n",
        "What is the size of the largest cluster using the agglomerative clustering algorithm with k=7? (That is, how many data points are there in the largest cluster when you apply the agglomerative clustering algorithm with k=7?) Use default values with n_clusters=7 for scikitlearn AgglomerativeClustering. That is, do not mention any linkage in the parameters so that the default one is used. Write only an integer."
      ],
      "metadata": {
        "id": "Ck9e0-2MfG_V"
      }
    },
    {
      "cell_type": "code",
      "source": [
        "agg = AgglomerativeClustering(n_clusters=7).fit(dryBean_data)\n",
        "agg.labels_"
      ],
      "metadata": {
        "colab": {
          "base_uri": "https://localhost:8080/"
        },
        "id": "k1mdMCtvfIoS",
        "outputId": "5bae39c2-0a55-42c5-955a-728be4e8ef47"
      },
      "execution_count": 34,
      "outputs": [
        {
          "output_type": "execute_result",
          "data": {
            "text/plain": [
              "array([0, 4, 1, ..., 1, 5, 0])"
            ]
          },
          "metadata": {},
          "execution_count": 34
        }
      ]
    },
    {
      "cell_type": "code",
      "source": [
        "unique, counts = np.unique(agg.labels_, return_counts=True)\n",
        "print(np.asarray((unique, counts)).T)"
      ],
      "metadata": {
        "colab": {
          "base_uri": "https://localhost:8080/"
        },
        "id": "vfTlpBDVfaPW",
        "outputId": "13db38e9-fb71-4b39-adcf-52cf09b280e5"
      },
      "execution_count": 35,
      "outputs": [
        {
          "output_type": "stream",
          "name": "stdout",
          "text": [
            "[[   0 2881]\n",
            " [   1 4939]\n",
            " [   2  335]\n",
            " [   3  979]\n",
            " [   4 3069]\n",
            " [   5  185]\n",
            " [   6 1223]]\n"
          ]
        }
      ]
    },
    {
      "cell_type": "markdown",
      "source": [
        "#Question 5\n",
        "\n",
        "Consider that you have a dataset that comes with groung truth labels. The ground truth labels have seven clusters, 0 to 6. You run k-means with k=8. The k-means outcome labels vary between 0 to 7. You find that data points with ground truth labels from 0 to 5 match exactly your k-means outcome. Cluster 6 of ground truth is split between cluster labels 6 and 7 of the k-means outcome.\n",
        "\n",
        "For this data scenerio, which of the following statements is/are CORRECT?\n",
        "\n",
        "\t\t\n",
        "The Rand index is less than zero.\n",
        "\n",
        "\t\t\n",
        "The Rand index is exactly 1.0.\n",
        "\n",
        "\t\t\n",
        "**The Purity score is exactly 1.0.**\n",
        "\n",
        "\t\t\n",
        "Rand index is higher than the purity score.\n",
        "\n",
        "\t\t\n",
        "Purity score and Rand index are equal.\n",
        "\n",
        "\t\t\n",
        "Purity score is less than 0."
      ],
      "metadata": {
        "id": "rAvRSNC2fiC_"
      }
    },
    {
      "cell_type": "markdown",
      "source": [
        "#Question 6\n",
        "\n",
        "What is the purity if you run k-means with k=7? Your answer must be correct up to two digits after the decimal point. You might have to run k-means many times to find the best result. (Remember, k-means is non-deterministic.)"
      ],
      "metadata": {
        "id": "acyFKFsEfoNv"
      }
    },
    {
      "cell_type": "code",
      "source": [
        "k=7\n",
        "km = KMeans(n_clusters=k, verbose=1).fit(data_dryBean)"
      ],
      "metadata": {
        "colab": {
          "base_uri": "https://localhost:8080/"
        },
        "id": "iHyW45xgftJW",
        "outputId": "9e10608b-84b6-495a-8457-513bd2388f2c"
      },
      "execution_count": 49,
      "outputs": [
        {
          "output_type": "stream",
          "name": "stderr",
          "text": [
            "/usr/local/lib/python3.8/dist-packages/sklearn/cluster/_kmeans.py:870: FutureWarning: The default value of `n_init` will change from 10 to 'auto' in 1.4. Set the value of `n_init` explicitly to suppress the warning\n",
            "  warnings.warn(\n"
          ]
        },
        {
          "output_type": "stream",
          "name": "stdout",
          "text": [
            "Initialization complete\n",
            "Iteration 0, inertia 777993565823.852.\n",
            "Iteration 1, inertia 686232342046.5693.\n",
            "Iteration 2, inertia 657022282773.5596.\n",
            "Iteration 3, inertia 640202480564.0181.\n",
            "Iteration 4, inertia 630458217753.4067.\n",
            "Iteration 5, inertia 626709307173.1357.\n",
            "Iteration 6, inertia 624188731547.0562.\n",
            "Iteration 7, inertia 622369027840.2556.\n",
            "Iteration 8, inertia 620935040743.9001.\n",
            "Iteration 9, inertia 619803194616.877.\n",
            "Iteration 10, inertia 619006453596.2808.\n",
            "Iteration 11, inertia 618364671973.4335.\n",
            "Iteration 12, inertia 617737456298.6086.\n",
            "Iteration 13, inertia 617336115844.6404.\n",
            "Iteration 14, inertia 617089566021.9901.\n",
            "Iteration 15, inertia 616909478405.8768.\n",
            "Iteration 16, inertia 616742544700.2769.\n",
            "Iteration 17, inertia 616576059231.5859.\n",
            "Iteration 18, inertia 616375949113.1426.\n",
            "Iteration 19, inertia 616178804983.0668.\n",
            "Iteration 20, inertia 616034177921.4028.\n",
            "Iteration 21, inertia 615927409253.9226.\n",
            "Iteration 22, inertia 615881616728.446.\n",
            "Iteration 23, inertia 615824631191.4628.\n",
            "Iteration 24, inertia 615728277670.1777.\n",
            "Iteration 25, inertia 615674783841.8688.\n",
            "Converged at iteration 25: center shift 9216.587103998383 within tolerance 10914.86670982776.\n",
            "Initialization complete\n",
            "Iteration 0, inertia 1037199956540.8859.\n",
            "Iteration 1, inertia 902319656908.2822.\n",
            "Iteration 2, inertia 883614025542.106.\n",
            "Iteration 3, inertia 877312995381.6279.\n",
            "Iteration 4, inertia 873641419943.7642.\n",
            "Iteration 5, inertia 871110664103.8109.\n",
            "Iteration 6, inertia 868923071168.6982.\n",
            "Iteration 7, inertia 866731188638.0272.\n",
            "Iteration 8, inertia 864889733747.3508.\n",
            "Iteration 9, inertia 863587358125.1797.\n",
            "Iteration 10, inertia 862356280432.7771.\n",
            "Iteration 11, inertia 861214074534.3975.\n",
            "Iteration 12, inertia 860161070597.3525.\n",
            "Iteration 13, inertia 859047896860.992.\n",
            "Iteration 14, inertia 858223233645.0295.\n",
            "Iteration 15, inertia 857411882477.5032.\n",
            "Iteration 16, inertia 856729998560.1055.\n",
            "Iteration 17, inertia 856120599858.7249.\n",
            "Iteration 18, inertia 855548166975.5167.\n",
            "Iteration 19, inertia 855048499157.0122.\n",
            "Iteration 20, inertia 854562298140.8547.\n",
            "Iteration 21, inertia 854146992199.2733.\n",
            "Iteration 22, inertia 853744371475.1814.\n",
            "Iteration 23, inertia 853369770451.7346.\n",
            "Iteration 24, inertia 853117284576.3949.\n",
            "Iteration 25, inertia 852922710726.2947.\n",
            "Iteration 26, inertia 852787454525.2925.\n",
            "Iteration 27, inertia 852700941133.5728.\n",
            "Iteration 28, inertia 852652541317.3784.\n",
            "Converged at iteration 28: center shift 10855.659146100466 within tolerance 10914.86670982776.\n",
            "Initialization complete\n",
            "Iteration 0, inertia 802614127274.6189.\n",
            "Iteration 1, inertia 661369664453.8291.\n",
            "Iteration 2, inertia 643837828630.3049.\n",
            "Iteration 3, inertia 633452049548.4529.\n",
            "Iteration 4, inertia 627977730977.3616.\n",
            "Iteration 5, inertia 625130038894.3049.\n",
            "Iteration 6, inertia 623395145904.9114.\n",
            "Iteration 7, inertia 621984517456.9465.\n",
            "Iteration 8, inertia 620924782656.9352.\n",
            "Iteration 9, inertia 620144642954.2513.\n",
            "Iteration 10, inertia 619422975531.1082.\n",
            "Iteration 11, inertia 618644019714.8486.\n",
            "Iteration 12, inertia 618060281059.6223.\n",
            "Iteration 13, inertia 617648726366.0967.\n",
            "Iteration 14, inertia 617333865856.7097.\n",
            "Iteration 15, inertia 617065843087.1224.\n",
            "Iteration 16, inertia 616848593981.5393.\n",
            "Iteration 17, inertia 616591916095.1997.\n",
            "Iteration 18, inertia 616385257880.0304.\n",
            "Iteration 19, inertia 616282196005.3016.\n",
            "Iteration 20, inertia 616183899992.7426.\n",
            "Iteration 21, inertia 616067901483.7571.\n",
            "Iteration 22, inertia 615974466617.5876.\n",
            "Iteration 23, inertia 615891979858.8369.\n",
            "Iteration 24, inertia 615823544214.8994.\n",
            "Iteration 25, inertia 615765192124.8586.\n",
            "Iteration 26, inertia 615716045787.2236.\n",
            "Converged at iteration 26: center shift 7853.381421477935 within tolerance 10914.86670982776.\n",
            "Initialization complete\n",
            "Iteration 0, inertia 812244309484.9033.\n",
            "Iteration 1, inertia 761598490813.1948.\n",
            "Iteration 2, inertia 733800088557.6145.\n",
            "Iteration 3, inertia 712663322225.1212.\n",
            "Iteration 4, inertia 695435517764.713.\n",
            "Iteration 5, inertia 683622223008.0221.\n",
            "Iteration 6, inertia 672727955919.1624.\n",
            "Iteration 7, inertia 663767921151.4822.\n",
            "Iteration 8, inertia 656443376742.4713.\n",
            "Iteration 9, inertia 649342926138.6096.\n",
            "Iteration 10, inertia 642850819994.2546.\n",
            "Iteration 11, inertia 637833801213.6201.\n",
            "Iteration 12, inertia 633329406486.8779.\n",
            "Iteration 13, inertia 629892465448.1506.\n",
            "Iteration 14, inertia 627288039479.3115.\n",
            "Iteration 15, inertia 625555622407.7708.\n",
            "Iteration 16, inertia 624143183769.3613.\n",
            "Iteration 17, inertia 622970219639.5383.\n",
            "Iteration 18, inertia 621801717141.0398.\n",
            "Iteration 19, inertia 620750495058.9714.\n",
            "Iteration 20, inertia 619893006335.8868.\n",
            "Iteration 21, inertia 619124565417.4066.\n",
            "Iteration 22, inertia 618423712066.9418.\n",
            "Iteration 23, inertia 617918507413.4199.\n",
            "Iteration 24, inertia 617529615775.7344.\n",
            "Iteration 25, inertia 617240277621.5411.\n",
            "Iteration 26, inertia 616979133650.7134.\n",
            "Iteration 27, inertia 616729550812.2297.\n",
            "Iteration 28, inertia 616480778057.4893.\n",
            "Iteration 29, inertia 616328721210.0034.\n",
            "Iteration 30, inertia 616234567561.5867.\n",
            "Iteration 31, inertia 616139260666.5105.\n",
            "Iteration 32, inertia 616016047287.2042.\n",
            "Iteration 33, inertia 615927767243.2146.\n",
            "Iteration 34, inertia 615851740632.8618.\n",
            "Iteration 35, inertia 615794875447.7708.\n",
            "Iteration 36, inertia 615740480843.2817.\n",
            "Iteration 37, inertia 615693966013.5447.\n",
            "Iteration 38, inertia 615628084196.3212.\n",
            "Iteration 39, inertia 615568643488.9264.\n",
            "Iteration 40, inertia 615516638477.7212.\n",
            "Converged at iteration 40: center shift 8362.666738206939 within tolerance 10914.86670982776.\n",
            "Initialization complete\n",
            "Iteration 0, inertia 817988818449.7192.\n",
            "Iteration 1, inertia 771672121219.2432.\n",
            "Iteration 2, inertia 755882823702.4061.\n",
            "Iteration 3, inertia 746208986742.3224.\n",
            "Iteration 4, inertia 740349746582.5823.\n",
            "Iteration 5, inertia 736363453101.419.\n",
            "Iteration 6, inertia 733511582018.0376.\n",
            "Iteration 7, inertia 731433259058.4128.\n",
            "Iteration 8, inertia 729634004342.8337.\n",
            "Iteration 9, inertia 728185223865.3282.\n",
            "Iteration 10, inertia 727036249454.1785.\n",
            "Iteration 11, inertia 725989048034.0076.\n",
            "Iteration 12, inertia 725229460182.5251.\n",
            "Iteration 13, inertia 724689360612.0648.\n",
            "Iteration 14, inertia 724242840566.2332.\n",
            "Iteration 15, inertia 723720746971.2505.\n",
            "Iteration 16, inertia 723271936553.3647.\n",
            "Iteration 17, inertia 722997599417.9146.\n",
            "Iteration 18, inertia 722727359356.85.\n",
            "Iteration 19, inertia 722406553929.74.\n",
            "Iteration 20, inertia 722016136703.8678.\n",
            "Iteration 21, inertia 721627029024.118.\n",
            "Iteration 22, inertia 721210380491.7595.\n",
            "Iteration 23, inertia 720757782364.4775.\n",
            "Iteration 24, inertia 720408985026.2642.\n",
            "Iteration 25, inertia 720157213512.5366.\n",
            "Iteration 26, inertia 719946430244.1228.\n",
            "Iteration 27, inertia 719750468390.9209.\n",
            "Iteration 28, inertia 719570625912.5875.\n",
            "Iteration 29, inertia 719392143994.033.\n",
            "Iteration 30, inertia 719242676019.1936.\n",
            "Iteration 31, inertia 719123680535.199.\n",
            "Iteration 32, inertia 719031349482.6843.\n",
            "Converged at iteration 32: center shift 7804.100342120167 within tolerance 10914.86670982776.\n",
            "Initialization complete\n",
            "Iteration 0, inertia 707508042474.1322.\n",
            "Iteration 1, inertia 654917784269.1774.\n",
            "Iteration 2, inertia 636985866557.8082.\n",
            "Iteration 3, inertia 629167183845.7908.\n",
            "Iteration 4, inertia 624947760526.9052.\n",
            "Iteration 5, inertia 622537775031.1956.\n",
            "Iteration 6, inertia 621084144418.728.\n",
            "Iteration 7, inertia 619926143148.6594.\n",
            "Iteration 8, inertia 619057184016.4458.\n",
            "Iteration 9, inertia 618408365643.9175.\n",
            "Iteration 10, inertia 617767934585.1965.\n",
            "Iteration 11, inertia 617343027680.636.\n",
            "Iteration 12, inertia 617093273902.2234.\n",
            "Iteration 13, inertia 616909478405.8768.\n",
            "Iteration 14, inertia 616742544700.2769.\n",
            "Iteration 15, inertia 616576059231.5859.\n",
            "Iteration 16, inertia 616375949113.1426.\n",
            "Iteration 17, inertia 616178804983.0668.\n",
            "Iteration 18, inertia 616034177921.4028.\n",
            "Iteration 19, inertia 615927409253.9226.\n",
            "Iteration 20, inertia 615881616728.446.\n",
            "Iteration 21, inertia 615824631191.4628.\n",
            "Iteration 22, inertia 615728277670.1777.\n",
            "Iteration 23, inertia 615674783841.8688.\n",
            "Converged at iteration 23: center shift 9216.587103998383 within tolerance 10914.86670982776.\n",
            "Initialization complete\n",
            "Iteration 0, inertia 934006474156.9165.\n",
            "Iteration 1, inertia 685914594456.0212.\n",
            "Iteration 2, inertia 651361554572.0093.\n",
            "Iteration 3, inertia 634068472813.3672.\n",
            "Iteration 4, inertia 623015860013.7526.\n",
            "Iteration 5, inertia 618337073219.8282.\n",
            "Iteration 6, inertia 616770643273.4412.\n",
            "Iteration 7, inertia 615965948081.9479.\n",
            "Iteration 8, inertia 615561450113.6593.\n",
            "Iteration 9, inertia 615322710001.5066.\n",
            "Iteration 10, inertia 615223264060.8994.\n",
            "Converged at iteration 10: center shift 8758.92473441518 within tolerance 10914.86670982776.\n",
            "Initialization complete\n",
            "Iteration 0, inertia 807319871178.5593.\n",
            "Iteration 1, inertia 682204090978.9331.\n",
            "Iteration 2, inertia 651868210364.7302.\n",
            "Iteration 3, inertia 636477107447.237.\n",
            "Iteration 4, inertia 628888719449.4979.\n",
            "Iteration 5, inertia 624119914029.883.\n",
            "Iteration 6, inertia 621614661962.4978.\n",
            "Iteration 7, inertia 619813003044.6685.\n",
            "Iteration 8, inertia 618710471944.1946.\n",
            "Iteration 9, inertia 617947790767.4275.\n",
            "Iteration 10, inertia 617390154014.2032.\n",
            "Iteration 11, inertia 617037139027.7784.\n",
            "Iteration 12, inertia 616823258519.5188.\n",
            "Iteration 13, inertia 616683479238.8337.\n",
            "Iteration 14, inertia 616453588630.3223.\n",
            "Iteration 15, inertia 616235664651.9283.\n",
            "Iteration 16, inertia 616093479546.6555.\n",
            "Iteration 17, inertia 615959776493.1483.\n",
            "Iteration 18, inertia 615899704703.2358.\n",
            "Iteration 19, inertia 615840069982.4745.\n",
            "Iteration 20, inertia 615751384341.3363.\n",
            "Iteration 21, inertia 615699666885.7241.\n",
            "Iteration 22, inertia 615650167701.8342.\n",
            "Converged at iteration 22: center shift 6115.111439186579 within tolerance 10914.86670982776.\n",
            "Initialization complete\n",
            "Iteration 0, inertia 881029702902.5371.\n",
            "Iteration 1, inertia 732938209125.3942.\n",
            "Iteration 2, inertia 727895883001.7186.\n",
            "Iteration 3, inertia 726221389610.4767.\n",
            "Iteration 4, inertia 725292116719.0409.\n",
            "Iteration 5, inertia 724581732410.0415.\n",
            "Iteration 6, inertia 724076092725.8484.\n",
            "Iteration 7, inertia 723523969552.2327.\n",
            "Iteration 8, inertia 723157050567.199.\n",
            "Iteration 9, inertia 722931746478.985.\n",
            "Iteration 10, inertia 722651379956.1497.\n",
            "Iteration 11, inertia 722351295188.9147.\n",
            "Iteration 12, inertia 721917429207.5662.\n",
            "Iteration 13, inertia 721536378211.8743.\n",
            "Iteration 14, inertia 721109323346.4702.\n",
            "Iteration 15, inertia 720668079620.8109.\n",
            "Iteration 16, inertia 720314747278.3435.\n",
            "Iteration 17, inertia 720086012992.2175.\n",
            "Iteration 18, inertia 719865283378.1057.\n",
            "Iteration 19, inertia 719690476421.6641.\n",
            "Iteration 20, inertia 719508546249.4858.\n",
            "Iteration 21, inertia 719331502965.1471.\n",
            "Iteration 22, inertia 719192416841.2949.\n",
            "Iteration 23, inertia 719096394057.2783.\n",
            "Iteration 24, inertia 719018338524.526.\n",
            "Converged at iteration 24: center shift 7484.141100914326 within tolerance 10914.86670982776.\n",
            "Initialization complete\n",
            "Iteration 0, inertia 887597141107.5925.\n",
            "Iteration 1, inertia 812981114405.3539.\n",
            "Iteration 2, inertia 734462876635.8577.\n",
            "Iteration 3, inertia 681809145351.2888.\n",
            "Iteration 4, inertia 657886268911.4915.\n",
            "Iteration 5, inertia 642923646627.7949.\n",
            "Iteration 6, inertia 632195836568.3701.\n",
            "Iteration 7, inertia 627606454098.6013.\n",
            "Iteration 8, inertia 625129686730.904.\n",
            "Iteration 9, inertia 623476155892.3179.\n",
            "Iteration 10, inertia 622091269362.4458.\n",
            "Iteration 11, inertia 621093176571.1692.\n",
            "Iteration 12, inertia 620110937233.625.\n",
            "Iteration 13, inertia 619335456254.4475.\n",
            "Iteration 14, inertia 618580354592.0186.\n",
            "Iteration 15, inertia 617982341171.8232.\n",
            "Iteration 16, inertia 617576713670.0925.\n",
            "Iteration 17, inertia 617285073342.0994.\n",
            "Iteration 18, inertia 617026108394.894.\n",
            "Iteration 19, inertia 616789066526.606.\n",
            "Iteration 20, inertia 616525656754.1572.\n",
            "Iteration 21, inertia 616357341713.7078.\n",
            "Iteration 22, inertia 616253538021.0712.\n",
            "Iteration 23, inertia 616157753454.8284.\n",
            "Iteration 24, inertia 616045941505.2993.\n",
            "Iteration 25, inertia 615954275349.9152.\n",
            "Iteration 26, inertia 615863937814.9788.\n",
            "Converged at iteration 26: center shift 10759.743232509461 within tolerance 10914.86670982776.\n"
          ]
        }
      ]
    },
    {
      "cell_type": "code",
      "source": [
        "#purity in K-means clustering\n",
        "\n",
        "def purity(result, gs):   #result and gs are labels\n",
        "  cLabel= list(set(result)) # list will have the cluster labels\n",
        "  gLabel= list(set(gs)) # list will have the ground_cluster truth labels , length of t from our equation\n",
        "  n= len(result)\n",
        "  k= len(cLabel)\n",
        "  t= len(gLabel)\n",
        "\n",
        "  #constructing dictionaries for cLable and glabel\n",
        "  cLabelsD= dict(zip(cLabel, range(k))) #for clustering\n",
        "  gLabelsD= dict(zip(gLabel, range(t))) #for ground truth\n",
        "\n",
        "  clusterGroundDistr= [[0] * t for i in range(k)] #this will create a 2D array of t many columns and k many rows\n",
        "\n",
        "  for i in range(n):  #number of elements we have is n\n",
        "    clusterIndex = cLabelsD[result[i]]\n",
        "    groundIndex = gLabelsD[gs[i]]\n",
        "    clusterGroundDistr[clusterIndex][groundIndex] += 1\n",
        "\n",
        "  p=0 # p is purity\n",
        "  for i in range(k):\n",
        "    p += max(clusterGroundDistr[i])\n",
        "\n",
        "  return p/n\n",
        "\n",
        "print(purity(gld_labels, km.labels_ ))"
      ],
      "metadata": {
        "colab": {
          "base_uri": "https://localhost:8080/"
        },
        "id": "58czPg4Ef0a9",
        "outputId": "c3f1cc1e-dc96-4edb-dc51-451a521b4d8f"
      },
      "execution_count": 51,
      "outputs": [
        {
          "output_type": "stream",
          "name": "stdout",
          "text": [
            "0.9995591800749394\n"
          ]
        }
      ]
    },
    {
      "cell_type": "markdown",
      "source": [
        "#Question 7\n",
        "\n",
        "How many data points are there in the dry beans dataset?"
      ],
      "metadata": {
        "id": "bp96n1Bogl-j"
      }
    },
    {
      "cell_type": "code",
      "source": [
        "dryBean_data.shape"
      ],
      "metadata": {
        "colab": {
          "base_uri": "https://localhost:8080/"
        },
        "id": "2SvtnnbygqRY",
        "outputId": "853f4af9-84ec-40cc-f996-dc94fe031e48"
      },
      "execution_count": 40,
      "outputs": [
        {
          "output_type": "execute_result",
          "data": {
            "text/plain": [
              "(13611, 16)"
            ]
          },
          "metadata": {},
          "execution_count": 40
        }
      ]
    },
    {
      "cell_type": "markdown",
      "source": [
        "#Question 8\n",
        "\n",
        "After applying k-means clustering with k=7, how many objects/data points are there in the smallest cluster?"
      ],
      "metadata": {
        "id": "nKQqxBslgyYy"
      }
    },
    {
      "cell_type": "code",
      "source": [
        "k=7\n",
        "km = KMeans(n_clusters=k, verbose=1).fit(data_dryBean)"
      ],
      "metadata": {
        "colab": {
          "base_uri": "https://localhost:8080/"
        },
        "id": "YJGoyKungzs_",
        "outputId": "7b9d6efa-9b25-436c-8b6b-d32cb9912eb0"
      },
      "execution_count": 52,
      "outputs": [
        {
          "output_type": "stream",
          "name": "stderr",
          "text": [
            "/usr/local/lib/python3.8/dist-packages/sklearn/cluster/_kmeans.py:870: FutureWarning: The default value of `n_init` will change from 10 to 'auto' in 1.4. Set the value of `n_init` explicitly to suppress the warning\n",
            "  warnings.warn(\n"
          ]
        },
        {
          "output_type": "stream",
          "name": "stdout",
          "text": [
            "Initialization complete\n",
            "Iteration 0, inertia 854464663998.2454.\n",
            "Iteration 1, inertia 707814492099.384.\n",
            "Iteration 2, inertia 662813790297.158.\n",
            "Iteration 3, inertia 637649758202.3743.\n",
            "Iteration 4, inertia 624880678228.7856.\n",
            "Iteration 5, inertia 619609999306.2307.\n",
            "Iteration 6, inertia 617167760275.7744.\n",
            "Iteration 7, inertia 616044254722.499.\n",
            "Iteration 8, inertia 615516476755.0981.\n",
            "Iteration 9, inertia 615338236765.2463.\n",
            "Iteration 10, inertia 615237250156.1519.\n",
            "Iteration 11, inertia 615165326780.944.\n",
            "Converged at iteration 11: center shift 8879.506415891175 within tolerance 10914.86670982776.\n",
            "Initialization complete\n",
            "Iteration 0, inertia 936451246332.0222.\n",
            "Iteration 1, inertia 857469131762.7654.\n",
            "Iteration 2, inertia 855245697245.928.\n",
            "Iteration 3, inertia 854289941383.2584.\n",
            "Iteration 4, inertia 853686773685.2395.\n",
            "Iteration 5, inertia 853285832727.0173.\n",
            "Iteration 6, inertia 853064544484.7523.\n",
            "Iteration 7, inertia 852889713349.462.\n",
            "Iteration 8, inertia 852737322551.8505.\n",
            "Iteration 9, inertia 852637905972.5938.\n",
            "Iteration 10, inertia 852596992258.2205.\n",
            "Converged at iteration 10: center shift 4975.422282174538 within tolerance 10914.86670982776.\n",
            "Initialization complete\n",
            "Iteration 0, inertia 847620469378.729.\n",
            "Iteration 1, inertia 685812197324.0183.\n",
            "Iteration 2, inertia 651061299442.1296.\n",
            "Iteration 3, inertia 635779761413.324.\n",
            "Iteration 4, inertia 625501514585.3059.\n",
            "Iteration 5, inertia 619351751106.5255.\n",
            "Iteration 6, inertia 616884645264.8134.\n",
            "Iteration 7, inertia 615794513756.1506.\n",
            "Iteration 8, inertia 615460604835.9639.\n",
            "Iteration 9, inertia 615266554518.0283.\n",
            "Iteration 10, inertia 615186352337.8496.\n",
            "Converged at iteration 10: center shift 6353.055179199273 within tolerance 10914.86670982776.\n",
            "Initialization complete\n",
            "Iteration 0, inertia 878282138631.7517.\n",
            "Iteration 1, inertia 766155857523.897.\n",
            "Iteration 2, inertia 729845473294.4818.\n",
            "Iteration 3, inertia 710183184115.4441.\n",
            "Iteration 4, inertia 696669944969.6302.\n",
            "Iteration 5, inertia 685323366166.901.\n",
            "Iteration 6, inertia 674698792663.5302.\n",
            "Iteration 7, inertia 665020266478.5442.\n",
            "Iteration 8, inertia 657225015711.144.\n",
            "Iteration 9, inertia 650396430049.2749.\n",
            "Iteration 10, inertia 643812243583.8347.\n",
            "Iteration 11, inertia 638728432799.7886.\n",
            "Iteration 12, inertia 634162303675.0469.\n",
            "Iteration 13, inertia 630395114843.3262.\n",
            "Iteration 14, inertia 627696137220.2909.\n",
            "Iteration 15, inertia 625793060082.4529.\n",
            "Iteration 16, inertia 624368878023.1772.\n",
            "Iteration 17, inertia 623170796533.8394.\n",
            "Iteration 18, inertia 622020721448.1984.\n",
            "Iteration 19, inertia 620996913730.0564.\n",
            "Iteration 20, inertia 620050656605.3427.\n",
            "Iteration 21, inertia 619229001196.9993.\n",
            "Iteration 22, inertia 618486407520.4354.\n",
            "Iteration 23, inertia 617945498426.354.\n",
            "Iteration 24, inertia 617558122483.0757.\n",
            "Iteration 25, inertia 617279259531.6255.\n",
            "Iteration 26, inertia 617024092052.658.\n",
            "Iteration 27, inertia 616789066526.606.\n",
            "Iteration 28, inertia 616525656754.1572.\n",
            "Iteration 29, inertia 616357341713.7078.\n",
            "Iteration 30, inertia 616253538021.0712.\n",
            "Iteration 31, inertia 616157753454.8284.\n",
            "Iteration 32, inertia 616045941505.2993.\n",
            "Iteration 33, inertia 615954275349.9152.\n",
            "Iteration 34, inertia 615863937814.9788.\n",
            "Converged at iteration 34: center shift 10759.743232509463 within tolerance 10914.86670982776.\n",
            "Initialization complete\n",
            "Iteration 0, inertia 790840992631.7068.\n",
            "Iteration 1, inertia 670398082033.2642.\n",
            "Iteration 2, inertia 640292697788.8673.\n",
            "Iteration 3, inertia 628423890657.736.\n",
            "Iteration 4, inertia 623107349484.6116.\n",
            "Iteration 5, inertia 620208438120.4673.\n",
            "Iteration 6, inertia 618509288566.8137.\n",
            "Iteration 7, inertia 617588606579.1084.\n",
            "Iteration 8, inertia 617134467130.1506.\n",
            "Iteration 9, inertia 616848271938.2592.\n",
            "Iteration 10, inertia 616608476593.1667.\n",
            "Iteration 11, inertia 616375346686.3911.\n",
            "Iteration 12, inertia 616231056315.5259.\n",
            "Iteration 13, inertia 616100985240.3184.\n",
            "Iteration 14, inertia 615977873373.0857.\n",
            "Iteration 15, inertia 615888905386.0518.\n",
            "Iteration 16, inertia 615822215382.3673.\n",
            "Iteration 17, inertia 615763515568.7654.\n",
            "Converged at iteration 17: center shift 10912.783327972698 within tolerance 10914.86670982776.\n",
            "Initialization complete\n",
            "Iteration 0, inertia 831592406029.0006.\n",
            "Iteration 1, inertia 685111153670.7206.\n",
            "Iteration 2, inertia 649081812029.0359.\n",
            "Iteration 3, inertia 631300737380.8083.\n",
            "Iteration 4, inertia 623709294026.3108.\n",
            "Iteration 5, inertia 619664130714.8933.\n",
            "Iteration 6, inertia 617637974959.5171.\n",
            "Iteration 7, inertia 616464030507.4386.\n",
            "Iteration 8, inertia 615888243489.7981.\n",
            "Iteration 9, inertia 615599403476.9492.\n",
            "Iteration 10, inertia 615440570823.6411.\n",
            "Iteration 11, inertia 615308737827.8408.\n",
            "Iteration 12, inertia 615214611345.107.\n",
            "Iteration 13, inertia 615163018914.4775.\n",
            "Converged at iteration 13: center shift 2989.605137841063 within tolerance 10914.86670982776.\n",
            "Initialization complete\n",
            "Iteration 0, inertia 744092016459.2043.\n",
            "Iteration 1, inertia 654282981569.5691.\n",
            "Iteration 2, inertia 638686520721.6669.\n",
            "Iteration 3, inertia 630384462621.4987.\n",
            "Iteration 4, inertia 626544989272.2755.\n",
            "Iteration 5, inertia 624234399745.9133.\n",
            "Iteration 6, inertia 622734769165.793.\n",
            "Iteration 7, inertia 621559942944.8666.\n",
            "Iteration 8, inertia 620587436001.6392.\n",
            "Iteration 9, inertia 619827933223.0107.\n",
            "Iteration 10, inertia 619053767694.4735.\n",
            "Iteration 11, inertia 618344701190.3799.\n",
            "Iteration 12, inertia 617868827927.278.\n",
            "Iteration 13, inertia 617483007301.3975.\n",
            "Iteration 14, inertia 617192414546.7212.\n",
            "Iteration 15, inertia 616946737812.4473.\n",
            "Iteration 16, inertia 616695681538.6072.\n",
            "Iteration 17, inertia 616459623524.8931.\n",
            "Iteration 18, inertia 616324252061.3309.\n",
            "Iteration 19, inertia 616234567561.5867.\n",
            "Iteration 20, inertia 616139260666.5105.\n",
            "Iteration 21, inertia 616016047287.2042.\n",
            "Iteration 22, inertia 615927767243.2146.\n",
            "Iteration 23, inertia 615851740632.8618.\n",
            "Iteration 24, inertia 615794875447.7708.\n",
            "Iteration 25, inertia 615740480843.2817.\n",
            "Iteration 26, inertia 615693966013.5447.\n",
            "Iteration 27, inertia 615628084196.3212.\n",
            "Iteration 28, inertia 615568643488.9264.\n",
            "Iteration 29, inertia 615516638477.7212.\n",
            "Converged at iteration 29: center shift 8362.666738206939 within tolerance 10914.86670982776.\n",
            "Initialization complete\n",
            "Iteration 0, inertia 1205418272582.842.\n",
            "Iteration 1, inertia 728621264010.3645.\n",
            "Iteration 2, inertia 691414888527.415.\n",
            "Iteration 3, inertia 673727032174.0743.\n",
            "Iteration 4, inertia 661340002700.8333.\n",
            "Iteration 5, inertia 651428824896.4971.\n",
            "Iteration 6, inertia 644210571566.8635.\n",
            "Iteration 7, inertia 638617319870.5647.\n",
            "Iteration 8, inertia 634247332459.0719.\n",
            "Iteration 9, inertia 630355801157.9988.\n",
            "Iteration 10, inertia 627043501229.3513.\n",
            "Iteration 11, inertia 624877164275.5594.\n",
            "Iteration 12, inertia 623132219379.8254.\n",
            "Iteration 13, inertia 621681346251.1697.\n",
            "Iteration 14, inertia 620578039148.9286.\n",
            "Iteration 15, inertia 619544010541.8374.\n",
            "Iteration 16, inertia 618818656515.3416.\n",
            "Iteration 17, inertia 618154522297.8715.\n",
            "Iteration 18, inertia 617587601725.1069.\n",
            "Iteration 19, inertia 617242451030.0461.\n",
            "Iteration 20, inertia 617026614599.8008.\n",
            "Iteration 21, inertia 616874832171.603.\n",
            "Iteration 22, inertia 616705780911.9723.\n",
            "Iteration 23, inertia 616515712295.2692.\n",
            "Iteration 24, inertia 616303357994.8906.\n",
            "Iteration 25, inertia 616131072675.2996.\n",
            "Iteration 26, inertia 615990722012.928.\n",
            "Iteration 27, inertia 615909538174.325.\n",
            "Iteration 28, inertia 615865015955.4393.\n",
            "Iteration 29, inertia 615787280805.3773.\n",
            "Iteration 30, inertia 615718238828.9028.\n",
            "Iteration 31, inertia 615664771303.0964.\n",
            "Converged at iteration 31: center shift 9352.857944891433 within tolerance 10914.86670982776.\n",
            "Initialization complete\n",
            "Iteration 0, inertia 710573461066.457.\n",
            "Iteration 1, inertia 664296583990.5239.\n",
            "Iteration 2, inertia 645898448886.624.\n",
            "Iteration 3, inertia 633325614691.832.\n",
            "Iteration 4, inertia 626129803679.6329.\n",
            "Iteration 5, inertia 622369552284.9973.\n",
            "Iteration 6, inertia 620049629597.7266.\n",
            "Iteration 7, inertia 618790033200.6056.\n",
            "Iteration 8, inertia 617876175654.1277.\n",
            "Iteration 9, inertia 617462863533.844.\n",
            "Iteration 10, inertia 617138183286.0936.\n",
            "Iteration 11, inertia 616878479256.6176.\n",
            "Iteration 12, inertia 616598968779.4746.\n",
            "Iteration 13, inertia 616379089669.6458.\n",
            "Iteration 14, inertia 616276901720.3801.\n",
            "Iteration 15, inertia 616186763225.1711.\n",
            "Iteration 16, inertia 616090188049.6649.\n",
            "Iteration 17, inertia 615988035433.4114.\n",
            "Iteration 18, inertia 615903038559.5227.\n",
            "Iteration 19, inertia 615828886418.3401.\n",
            "Iteration 20, inertia 615769335266.8236.\n",
            "Iteration 21, inertia 615718184160.6937.\n",
            "Converged at iteration 21: center shift 9292.586505865323 within tolerance 10914.86670982776.\n",
            "Initialization complete\n",
            "Iteration 0, inertia 811594639694.7488.\n",
            "Iteration 1, inertia 628192571397.6912.\n",
            "Iteration 2, inertia 620638325451.2178.\n",
            "Iteration 3, inertia 617726413353.6139.\n",
            "Iteration 4, inertia 616535342150.1118.\n",
            "Iteration 5, inertia 615971545910.3434.\n",
            "Iteration 6, inertia 615776077923.7892.\n",
            "Iteration 7, inertia 615633445256.5933.\n",
            "Iteration 8, inertia 615563873741.1343.\n",
            "Converged at iteration 8: center shift 6434.975326952649 within tolerance 10914.86670982776.\n"
          ]
        }
      ]
    },
    {
      "cell_type": "code",
      "source": [
        "unique, counts = np.unique(km.labels_, return_counts=True)\n",
        "n= print(np.asarray((unique, counts)).T)"
      ],
      "metadata": {
        "colab": {
          "base_uri": "https://localhost:8080/"
        },
        "id": "7R_y4b_jg9wm",
        "outputId": "8c65c65a-ff4d-43f1-ff5a-bbc7386c2a26"
      },
      "execution_count": 53,
      "outputs": [
        {
          "output_type": "stream",
          "name": "stdout",
          "text": [
            "[[   0 3262]\n",
            " [   1  217]\n",
            " [   2 1160]\n",
            " [   3 2529]\n",
            " [   4  303]\n",
            " [   5 1917]\n",
            " [   6 4223]]\n"
          ]
        }
      ]
    },
    {
      "cell_type": "markdown",
      "source": [
        "#Question 9\n",
        "\n",
        "How many dimensional dataset is the Dry Beans dataset? (How many features are there in the dry_beans_data.csv file?) Just write an integer. "
      ],
      "metadata": {
        "id": "wypwghlThDUt"
      }
    },
    {
      "cell_type": "code",
      "source": [
        "dryBean_data.shape"
      ],
      "metadata": {
        "colab": {
          "base_uri": "https://localhost:8080/"
        },
        "id": "GrGP_rmWhGx1",
        "outputId": "e3d89820-d827-4822-c09c-57b154be2ea2"
      },
      "execution_count": 43,
      "outputs": [
        {
          "output_type": "execute_result",
          "data": {
            "text/plain": [
              "(13611, 16)"
            ]
          },
          "metadata": {},
          "execution_count": 43
        }
      ]
    },
    {
      "cell_type": "markdown",
      "source": [
        "#Question 10\n",
        "\n",
        "Among three clustering algorihms -- kmeans, agglomerative, and DBSCAN -- which one(s) might give several different Rand Index values in multiple executions with the same data and parameters.\n",
        "\n",
        "Why? Answer in one or two sentences."
      ],
      "metadata": {
        "id": "AlnKxuoshLOP"
      }
    },
    {
      "cell_type": "markdown",
      "source": [
        "The k-means clustering algorithm might give different Rand Index values in multiple executions with the same data and parameters because it is sensitive to the initial random selection of cluster centroids. The DBSCAN algorithm is less likely to produce different Rand Index values as it is based on density and does not rely on initializations, while the agglomerative clustering algorithm's behavior depends on the linkage criterion chosen."
      ],
      "metadata": {
        "id": "OWDpBN5BhN0t"
      }
    },
    {
      "cell_type": "markdown",
      "source": [
        "#Question 11\n",
        "\n",
        "What is the purity if you run agglomerative clustering with k=7? Your answer must be correct up to two digits after the decimal point. Use default values with n_clusters=7 for scikitlearn AgglomerativeClustering. That is, do not mention any linkage in the parameters so that the default one is used."
      ],
      "metadata": {
        "id": "KKXUclr2hOni"
      }
    },
    {
      "cell_type": "code",
      "source": [
        "agg = AgglomerativeClustering(n_clusters=7).fit(dryBean_data)\n",
        "agg.labels_"
      ],
      "metadata": {
        "colab": {
          "base_uri": "https://localhost:8080/"
        },
        "id": "C_DWr9H6hTnT",
        "outputId": "10baf7f4-2847-4e89-c5cc-4b9a946f6b37"
      },
      "execution_count": 54,
      "outputs": [
        {
          "output_type": "execute_result",
          "data": {
            "text/plain": [
              "array([0, 4, 1, ..., 1, 5, 0])"
            ]
          },
          "metadata": {},
          "execution_count": 54
        }
      ]
    },
    {
      "cell_type": "code",
      "source": [
        "#Purity using Agglomerative clustering \n",
        "\n",
        "print(purity(gld_labels, agg.labels_ ))"
      ],
      "metadata": {
        "colab": {
          "base_uri": "https://localhost:8080/"
        },
        "id": "VMoCnBo_hgwq",
        "outputId": "dc3bfc93-0789-460c-f627-a791d9fcc342"
      },
      "execution_count": 55,
      "outputs": [
        {
          "output_type": "stream",
          "name": "stdout",
          "text": [
            "0.9989714201748585\n"
          ]
        }
      ]
    },
    {
      "cell_type": "markdown",
      "source": [
        "#Question 12\n",
        "\n",
        "What is the average silhouette coefficient of the result retrieved by the k-means algorithm with k=7? Your result must be correct up to two digits after the decimal point. You might have to run k-means several times to find the best result. (Remember, k-means is non-deterministic.)"
      ],
      "metadata": {
        "id": "7KHCWv8Ghvk2"
      }
    },
    {
      "cell_type": "code",
      "source": [
        "k=7\n",
        "km = KMeans(n_clusters=k, verbose=1).fit(data_dryBean)"
      ],
      "metadata": {
        "colab": {
          "base_uri": "https://localhost:8080/"
        },
        "id": "wSc2lF2xhxHX",
        "outputId": "6badb510-9881-4189-9161-8271537d9a6d"
      },
      "execution_count": 56,
      "outputs": [
        {
          "output_type": "stream",
          "name": "stderr",
          "text": [
            "/usr/local/lib/python3.8/dist-packages/sklearn/cluster/_kmeans.py:870: FutureWarning: The default value of `n_init` will change from 10 to 'auto' in 1.4. Set the value of `n_init` explicitly to suppress the warning\n",
            "  warnings.warn(\n"
          ]
        },
        {
          "output_type": "stream",
          "name": "stdout",
          "text": [
            "Initialization complete\n",
            "Iteration 0, inertia 974038613993.9314.\n",
            "Iteration 1, inertia 858003451336.8033.\n",
            "Iteration 2, inertia 813117292133.1132.\n",
            "Iteration 3, inertia 786980034838.7477.\n",
            "Iteration 4, inertia 770602310726.6241.\n",
            "Iteration 5, inertia 758294448963.7515.\n",
            "Iteration 6, inertia 748339712578.5028.\n",
            "Iteration 7, inertia 740258580003.7804.\n",
            "Iteration 8, inertia 734896625243.9478.\n",
            "Iteration 9, inertia 731248016000.0651.\n",
            "Iteration 10, inertia 729189489735.6133.\n",
            "Iteration 11, inertia 727713204007.052.\n",
            "Iteration 12, inertia 726217604897.832.\n",
            "Iteration 13, inertia 725052276269.0758.\n",
            "Iteration 14, inertia 724241859329.926.\n",
            "Iteration 15, inertia 723655544025.0316.\n",
            "Iteration 16, inertia 723238572241.4592.\n",
            "Iteration 17, inertia 722868169594.6364.\n",
            "Iteration 18, inertia 722356247912.7302.\n",
            "Iteration 19, inertia 721821347429.629.\n",
            "Iteration 20, inertia 721378701557.364.\n",
            "Iteration 21, inertia 720975652906.6685.\n",
            "Iteration 22, inertia 720554534129.306.\n",
            "Iteration 23, inertia 720191998770.8026.\n",
            "Iteration 24, inertia 719925906771.2092.\n",
            "Iteration 25, inertia 719707129341.7786.\n",
            "Iteration 26, inertia 719510348762.5615.\n",
            "Iteration 27, inertia 719408910440.9417.\n",
            "Iteration 28, inertia 719326630104.5212.\n",
            "Converged at iteration 28: center shift 10683.51792850429 within tolerance 10914.86670982776.\n",
            "Initialization complete\n",
            "Iteration 0, inertia 788064259416.1968.\n",
            "Iteration 1, inertia 691100226862.946.\n",
            "Iteration 2, inertia 678399707056.5464.\n",
            "Iteration 3, inertia 667391739715.4746.\n",
            "Iteration 4, inertia 658581317373.5737.\n",
            "Iteration 5, inertia 651537337276.6804.\n",
            "Iteration 6, inertia 644667821044.7832.\n",
            "Iteration 7, inertia 639312584241.9932.\n",
            "Iteration 8, inertia 634668304780.909.\n",
            "Iteration 9, inertia 630924563902.6877.\n",
            "Iteration 10, inertia 628101149298.2184.\n",
            "Iteration 11, inertia 626118655484.6698.\n",
            "Iteration 12, inertia 624648120894.3052.\n",
            "Iteration 13, inertia 623339520802.7021.\n",
            "Iteration 14, inertia 622147256196.0732.\n",
            "Iteration 15, inertia 621148902195.8079.\n",
            "Iteration 16, inertia 620205065396.6371.\n",
            "Iteration 17, inertia 619461030074.8003.\n",
            "Iteration 18, inertia 618664469318.2484.\n",
            "Iteration 19, inertia 618019052791.6644.\n",
            "Iteration 20, inertia 617608359594.7368.\n",
            "Iteration 21, inertia 617309717722.1582.\n",
            "Iteration 22, inertia 617054647995.801.\n",
            "Iteration 23, inertia 616827791093.1067.\n",
            "Iteration 24, inertia 616561347442.7358.\n",
            "Iteration 25, inertia 616368390763.5745.\n",
            "Iteration 26, inertia 616266396417.9299.\n",
            "Iteration 27, inertia 616176389466.499.\n",
            "Iteration 28, inertia 616065684753.4304.\n",
            "Iteration 29, inertia 615974466617.5876.\n",
            "Iteration 30, inertia 615891979858.8369.\n",
            "Iteration 31, inertia 615823544214.8994.\n",
            "Iteration 32, inertia 615765192124.8586.\n",
            "Iteration 33, inertia 615716045787.2236.\n",
            "Converged at iteration 33: center shift 7853.381421477936 within tolerance 10914.86670982776.\n",
            "Initialization complete\n",
            "Iteration 0, inertia 969859144563.5974.\n",
            "Iteration 1, inertia 731296120411.5836.\n",
            "Iteration 2, inertia 722845801678.4226.\n",
            "Iteration 3, inertia 720617177643.8079.\n",
            "Iteration 4, inertia 719697882219.1539.\n",
            "Iteration 5, inertia 719401666645.8613.\n",
            "Iteration 6, inertia 719191198142.2552.\n",
            "Iteration 7, inertia 719091592274.9469.\n",
            "Iteration 8, inertia 719010285331.1401.\n",
            "Converged at iteration 8: center shift 6893.098139804775 within tolerance 10914.86670982776.\n",
            "Initialization complete\n",
            "Iteration 0, inertia 996870699182.1539.\n",
            "Iteration 1, inertia 721200817238.7012.\n",
            "Iteration 2, inertia 688344967134.7417.\n",
            "Iteration 3, inertia 666577481623.574.\n",
            "Iteration 4, inertia 651873877120.1536.\n",
            "Iteration 5, inertia 642371399647.3612.\n",
            "Iteration 6, inertia 636363281466.167.\n",
            "Iteration 7, inertia 631495418251.244.\n",
            "Iteration 8, inertia 628291787930.2545.\n",
            "Iteration 9, inertia 626077281716.611.\n",
            "Iteration 10, inertia 624566355573.2932.\n",
            "Iteration 11, inertia 623303292557.624.\n",
            "Iteration 12, inertia 622089367637.8462.\n",
            "Iteration 13, inertia 621054823799.0024.\n",
            "Iteration 14, inertia 620066977329.1565.\n",
            "Iteration 15, inertia 619280465615.527.\n",
            "Iteration 16, inertia 618561684141.8718.\n",
            "Iteration 17, inertia 617973550120.6001.\n",
            "Iteration 18, inertia 617564315040.6396.\n",
            "Iteration 19, inertia 617279259531.6255.\n",
            "Iteration 20, inertia 617024092052.658.\n",
            "Iteration 21, inertia 616789066526.606.\n",
            "Iteration 22, inertia 616525656754.1572.\n",
            "Iteration 23, inertia 616357341713.7078.\n",
            "Iteration 24, inertia 616253538021.0712.\n",
            "Iteration 25, inertia 616157753454.8284.\n",
            "Iteration 26, inertia 616045941505.2993.\n",
            "Iteration 27, inertia 615954275349.9152.\n",
            "Iteration 28, inertia 615863937814.9788.\n",
            "Converged at iteration 28: center shift 10759.743232509463 within tolerance 10914.86670982776.\n",
            "Initialization complete\n",
            "Iteration 0, inertia 1226886328275.219.\n",
            "Iteration 1, inertia 867092345679.4468.\n",
            "Iteration 2, inertia 786570855485.3848.\n",
            "Iteration 3, inertia 726340110605.2725.\n",
            "Iteration 4, inertia 697399970536.8213.\n",
            "Iteration 5, inertia 677451188487.4276.\n",
            "Iteration 6, inertia 662419292966.3093.\n",
            "Iteration 7, inertia 651895413944.0022.\n",
            "Iteration 8, inertia 643765448822.3702.\n",
            "Iteration 9, inertia 637979637851.7552.\n",
            "Iteration 10, inertia 633047512720.5607.\n",
            "Iteration 11, inertia 629378554282.0356.\n",
            "Iteration 12, inertia 626892329425.1252.\n",
            "Iteration 13, inertia 625199669062.6985.\n",
            "Iteration 14, inertia 623821816886.3379.\n",
            "Iteration 15, inertia 622662605131.9854.\n",
            "Iteration 16, inertia 621481323547.6025.\n",
            "Iteration 17, inertia 620443592673.8555.\n",
            "Iteration 18, inertia 619681358497.364.\n",
            "Iteration 19, inertia 618843142436.5708.\n",
            "Iteration 20, inertia 618149236883.7607.\n",
            "Iteration 21, inertia 617690596001.155.\n",
            "Iteration 22, inertia 617371286223.2871.\n",
            "Iteration 23, inertia 617097557919.6659.\n",
            "Iteration 24, inertia 616867938827.8843.\n",
            "Iteration 25, inertia 616607415750.6979.\n",
            "Iteration 26, inertia 616389239946.5371.\n",
            "Iteration 27, inertia 616282196005.3016.\n",
            "Iteration 28, inertia 616183899992.7426.\n",
            "Iteration 29, inertia 616067901483.7571.\n",
            "Iteration 30, inertia 615974466617.5876.\n",
            "Iteration 31, inertia 615891979858.8369.\n",
            "Iteration 32, inertia 615823544214.8994.\n",
            "Iteration 33, inertia 615765192124.8586.\n",
            "Iteration 34, inertia 615716045787.2236.\n",
            "Converged at iteration 34: center shift 7853.381421477935 within tolerance 10914.86670982776.\n",
            "Initialization complete\n",
            "Iteration 0, inertia 925232343254.1685.\n",
            "Iteration 1, inertia 857202919882.717.\n",
            "Iteration 2, inertia 854606924686.4805.\n",
            "Iteration 3, inertia 853724346497.5859.\n",
            "Iteration 4, inertia 853277788100.9683.\n",
            "Iteration 5, inertia 853054964421.8743.\n",
            "Iteration 6, inertia 852883770314.9636.\n",
            "Iteration 7, inertia 852747181998.3262.\n",
            "Iteration 8, inertia 852663103404.4636.\n",
            "Converged at iteration 8: center shift 10434.955757463893 within tolerance 10914.86670982776.\n",
            "Initialization complete\n",
            "Iteration 0, inertia 667017987814.0212.\n",
            "Iteration 1, inertia 634143053091.8329.\n",
            "Iteration 2, inertia 624768130789.9487.\n",
            "Iteration 3, inertia 620057880698.0503.\n",
            "Iteration 4, inertia 617593348978.3035.\n",
            "Iteration 5, inertia 616548175583.0044.\n",
            "Iteration 6, inertia 616160808476.649.\n",
            "Iteration 7, inertia 615946103512.0084.\n",
            "Iteration 8, inertia 615819375503.8325.\n",
            "Iteration 9, inertia 615740289980.1133.\n",
            "Iteration 10, inertia 615681952300.177.\n",
            "Iteration 11, inertia 615604899723.1405.\n",
            "Iteration 12, inertia 615558736886.149.\n",
            "Iteration 13, inertia 615499227400.1145.\n",
            "Converged at iteration 13: center shift 10335.711704954138 within tolerance 10914.86670982776.\n",
            "Initialization complete\n",
            "Iteration 0, inertia 715825237516.685.\n",
            "Iteration 1, inertia 623121089945.6561.\n",
            "Iteration 2, inertia 619144453274.9142.\n",
            "Iteration 3, inertia 617786278717.9993.\n",
            "Iteration 4, inertia 617217238167.1819.\n",
            "Iteration 5, inertia 616915795841.2023.\n",
            "Iteration 6, inertia 616771479241.9226.\n",
            "Iteration 7, inertia 616654428800.4952.\n",
            "Iteration 8, inertia 616459700593.4414.\n",
            "Iteration 9, inertia 616282844887.7502.\n",
            "Iteration 10, inertia 616100548582.385.\n",
            "Iteration 11, inertia 615967823327.8186.\n",
            "Iteration 12, inertia 615905960717.5952.\n",
            "Iteration 13, inertia 615860292798.3992.\n",
            "Iteration 14, inertia 615785447927.8528.\n",
            "Iteration 15, inertia 615718238828.9028.\n",
            "Iteration 16, inertia 615664771303.0964.\n",
            "Converged at iteration 16: center shift 9352.857944891433 within tolerance 10914.86670982776.\n",
            "Initialization complete\n",
            "Iteration 0, inertia 889710306175.4465.\n",
            "Iteration 1, inertia 675406554176.7281.\n",
            "Iteration 2, inertia 633907045481.3467.\n",
            "Iteration 3, inertia 623211300792.3523.\n",
            "Iteration 4, inertia 619353929032.2168.\n",
            "Iteration 5, inertia 617919670053.2936.\n",
            "Iteration 6, inertia 617206146421.7095.\n",
            "Iteration 7, inertia 616849835150.1621.\n",
            "Iteration 8, inertia 616553427153.2021.\n",
            "Iteration 9, inertia 616313376298.3962.\n",
            "Iteration 10, inertia 616161710298.7775.\n",
            "Iteration 11, inertia 616016434058.6199.\n",
            "Iteration 12, inertia 615886865276.9756.\n",
            "Iteration 13, inertia 615814846831.0718.\n",
            "Iteration 14, inertia 615757162657.7638.\n",
            "Converged at iteration 14: center shift 8413.865886625554 within tolerance 10914.86670982776.\n",
            "Initialization complete\n",
            "Iteration 0, inertia 697836450746.9131.\n",
            "Iteration 1, inertia 616614674848.9738.\n",
            "Iteration 2, inertia 616119536223.7546.\n",
            "Iteration 3, inertia 615929491908.1261.\n",
            "Iteration 4, inertia 615848776320.8369.\n",
            "Iteration 5, inertia 615790449620.0004.\n",
            "Iteration 6, inertia 615736313851.0481.\n",
            "Converged at iteration 6: center shift 10030.199699716208 within tolerance 10914.86670982776.\n"
          ]
        }
      ]
    },
    {
      "cell_type": "code",
      "source": [
        "print(silhouette_score(data_dryBean, km.labels_))"
      ],
      "metadata": {
        "colab": {
          "base_uri": "https://localhost:8080/"
        },
        "id": "S12syC_ah7oY",
        "outputId": "87a5074f-00d4-4414-99f2-c1993a753c71"
      },
      "execution_count": 57,
      "outputs": [
        {
          "output_type": "stream",
          "name": "stdout",
          "text": [
            "0.5324233773597118\n"
          ]
        }
      ]
    },
    {
      "cell_type": "markdown",
      "source": [
        "#Question 13\n",
        "\n",
        "What is the Rand index if you run k-means with k=7? Your answer must be correct up to two digits after the decimal point. You might have to run k-means many times to find the best result. (Remember, k-means is non-deterministic.)"
      ],
      "metadata": {
        "id": "bViwOvkCiQtd"
      }
    },
    {
      "cell_type": "code",
      "source": [
        "def rand_index(result, gf):\n",
        "  print(len(result))\n",
        "  print(len(gf))\n",
        "  count_matches = 0.0\n",
        "  count_all = 0.0\n",
        "  for i in range(len(result)):\n",
        "    for j in range(i+1, len(gf)):\n",
        "      if (result[i] == result[j] and gf[i] == gf[j]) or (result[i] != result[j] and gf[i] != gf[j]):\n",
        "        count_matches += 1\n",
        "      count_all += 1\n",
        "  return count_matches / count_all\n",
        "\n",
        "goldLabels = gld_labels\n",
        "kLabels = km.labels_\n",
        "print(\"Rand Index: \", rand_index(kLabels, goldLabels))"
      ],
      "metadata": {
        "colab": {
          "base_uri": "https://localhost:8080/"
        },
        "id": "Z9_u-KnziSi6",
        "outputId": "47001cb0-e6da-4672-afa7-4d516041c71e"
      },
      "execution_count": 58,
      "outputs": [
        {
          "output_type": "stream",
          "name": "stdout",
          "text": [
            "13611\n",
            "13611\n",
            "Rand Index:  0.7856400453214274\n"
          ]
        }
      ]
    }
  ]
}