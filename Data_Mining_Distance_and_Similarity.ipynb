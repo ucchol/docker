{
  "nbformat": 4,
  "nbformat_minor": 0,
  "metadata": {
    "colab": {
      "provenance": [],
      "authorship_tag": "ABX9TyMbITqaQdH5cHWTPT0yW/D0",
      "include_colab_link": true
    },
    "kernelspec": {
      "name": "python3",
      "display_name": "Python 3"
    },
    "language_info": {
      "name": "python"
    }
  },
  "cells": [
    {
      "cell_type": "markdown",
      "metadata": {
        "id": "view-in-github",
        "colab_type": "text"
      },
      "source": [
        "<a href=\"https://colab.research.google.com/github/ucchol/docker/blob/main/Data_Mining_Distance_and_Similarity.ipynb\" target=\"_parent\"><img src=\"https://colab.research.google.com/assets/colab-badge.svg\" alt=\"Open In Colab\"/></a>"
      ]
    },
    {
      "cell_type": "code",
      "execution_count": null,
      "metadata": {
        "id": "3qBTg2kCfE14"
      },
      "outputs": [],
      "source": [
        "import numpy as np"
      ]
    },
    {
      "cell_type": "code",
      "source": [
        "firstrow=0\n",
        "secondrow=5\n",
        "\n",
        "rawdata=[[10,3,3,5],[5,0,6,0],[9,4,3,4],[0,2,0,0],[20,15,10,20],[10,4,1,5]]\n",
        "data=np.array(rawdata)"
      ],
      "metadata": {
        "id": "LC7MMaHffqyr"
      },
      "execution_count": null,
      "outputs": []
    },
    {
      "cell_type": "code",
      "source": [
        "#manhattan distance\n",
        "\n",
        "def manhattan(v1, v2):\n",
        "  m= sum(abs(v1-v2))\n",
        "  return m\n",
        "\n",
        "md= manhattan(data[firstrow], data[secondrow])\n",
        "print(\"Manhattan: \", md)\n"
      ],
      "metadata": {
        "colab": {
          "base_uri": "https://localhost:8080/"
        },
        "id": "UtBqqm_Qfz5U",
        "outputId": "74ba303b-9b6d-486f-d5d8-7df3eb9e30ad"
      },
      "execution_count": null,
      "outputs": [
        {
          "output_type": "stream",
          "name": "stdout",
          "text": [
            "Manhattan:  3\n"
          ]
        }
      ]
    },
    {
      "cell_type": "code",
      "source": [
        "#eucledean distance\n",
        "\n",
        "def euclid(v1,v2):\n",
        "  e= np.sqrt(sum((v1-v2)**2))\n",
        "  return e\n",
        "\n",
        "ed= euclid(data[firstrow], data[secondrow])\n",
        "print(\"Eucledean Distance: \", ed)"
      ],
      "metadata": {
        "colab": {
          "base_uri": "https://localhost:8080/"
        },
        "id": "cC0zKSXggX0u",
        "outputId": "5aee35e3-54a8-486e-f064-1b2fcffbe52e"
      },
      "execution_count": null,
      "outputs": [
        {
          "output_type": "stream",
          "name": "stdout",
          "text": [
            "Eucledean Distance:  2.23606797749979\n"
          ]
        }
      ]
    },
    {
      "cell_type": "code",
      "source": [
        "#jaccard similarity\n",
        "\n",
        "def jaccard(v1,v2):\n",
        "  minimus=[]\n",
        "  maximus=[]\n",
        "\n",
        "  for i in range(0, len(v1)):\n",
        "    minimus.append(min(v1[i], v2[i]))\n",
        "    maximus.append(max(v1[i], v2[i]))\n",
        "\n",
        "  j= sum(minimus)/sum(maximus)\n",
        "  return j\n",
        "\n",
        "jd= jaccard(data[firstrow], data[secondrow])\n",
        "print(\"Jaccard Similarity: \",jd)"
      ],
      "metadata": {
        "colab": {
          "base_uri": "https://localhost:8080/"
        },
        "id": "AFElw4ypiGCs",
        "outputId": "8a791efb-0299-42b3-c866-ba88a1832286"
      },
      "execution_count": null,
      "outputs": [
        {
          "output_type": "stream",
          "name": "stdout",
          "text": [
            "Jaccard Similarity:  0.8636363636363636\n"
          ]
        }
      ]
    },
    {
      "cell_type": "code",
      "source": [
        "#cosine similarity\n",
        "\n",
        "def cosine(v1, v2):\n",
        "  n= np.dot(v1,v2)\n",
        "  d= np.sqrt(sum(v1**2)) * np.sqrt(sum(v2**2))\n",
        "  c= n/d\n",
        "  return c\n",
        "\n",
        "co= cosine(data[firstrow], data[secondrow])\n",
        "print(\"cosine Similarity: \",co)\n"
      ],
      "metadata": {
        "colab": {
          "base_uri": "https://localhost:8080/"
        },
        "id": "FoS7FzLrjbd6",
        "outputId": "0c35caae-1d96-4084-8d46-d9fa1552de75"
      },
      "execution_count": null,
      "outputs": [
        {
          "output_type": "stream",
          "name": "stdout",
          "text": [
            "cosine Similarity:  0.9824621881515054\n"
          ]
        }
      ]
    },
    {
      "cell_type": "code",
      "source": [
        "#tanimoto Similarity\n",
        "\n"
      ],
      "metadata": {
        "id": "w1AheD4atbeX"
      },
      "execution_count": null,
      "outputs": []
    }
  ]
}