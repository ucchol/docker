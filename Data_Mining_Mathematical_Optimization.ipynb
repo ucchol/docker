{
  "nbformat": 4,
  "nbformat_minor": 0,
  "metadata": {
    "colab": {
      "provenance": [],
      "authorship_tag": "ABX9TyN/F6BbM5fbHr18HLh/0lvZ",
      "include_colab_link": true
    },
    "kernelspec": {
      "name": "python3",
      "display_name": "Python 3"
    },
    "language_info": {
      "name": "python"
    }
  },
  "cells": [
    {
      "cell_type": "markdown",
      "metadata": {
        "id": "view-in-github",
        "colab_type": "text"
      },
      "source": [
        "<a href=\"https://colab.research.google.com/github/ucchol/docker/blob/main/Data_Mining_Mathematical_Optimization.ipynb\" target=\"_parent\"><img src=\"https://colab.research.google.com/assets/colab-badge.svg\" alt=\"Open In Colab\"/></a>"
      ]
    },
    {
      "cell_type": "code",
      "execution_count": 15,
      "metadata": {
        "id": "ff_8yAkxinDG"
      },
      "outputs": [],
      "source": [
        "import numpy as np\n",
        "from scipy.optimize import minimize\n",
        "import matplotlib.pyplot as plt"
      ]
    },
    {
      "cell_type": "code",
      "source": [
        "#function of f(x)= x^2\n",
        "def objFunction(x):\n",
        "  return x**2"
      ],
      "metadata": {
        "id": "_zd02TEWi386"
      },
      "execution_count": 2,
      "outputs": []
    },
    {
      "cell_type": "markdown",
      "source": [
        "Now we need to calculate the return value."
      ],
      "metadata": {
        "id": "A7FqEN5vjOZ8"
      }
    },
    {
      "cell_type": "code",
      "source": [
        "x0= np.array([5.1]) #for initialization we need a vector\n",
        "result= minimize(objFunction, x0, method= \"BFGS\") #x0 contained our initialized value of x\n",
        "result.x\n",
        "print(\"The Final free variable: \", result.x)\n",
        "print(\"The final objective function value: \", result.fun)"
      ],
      "metadata": {
        "colab": {
          "base_uri": "https://localhost:8080/"
        },
        "id": "5YYiLQ_njRd8",
        "outputId": "9a3fceea-6128-4093-f07c-d18f742afb33"
      },
      "execution_count": 8,
      "outputs": [
        {
          "output_type": "stream",
          "name": "stdout",
          "text": [
            "The Final free variable:  [-1.10467302e-08]\n",
            "The final objective function value:  1.2203024805084726e-16\n"
          ]
        }
      ]
    },
    {
      "cell_type": "markdown",
      "source": [
        "# TWO Variable Function"
      ],
      "metadata": {
        "id": "O1i_4TH8ki7O"
      }
    },
    {
      "cell_type": "code",
      "source": [
        "def objFunction(x):\n",
        "  return np.sum(x**2)"
      ],
      "metadata": {
        "id": "jEI1ePLwkmFi"
      },
      "execution_count": 13,
      "outputs": []
    },
    {
      "cell_type": "code",
      "source": [
        "x0= np.array([5.1, 1.2, 3]) #for initialization we need a vector\n",
        "result= minimize(objFunction, x0, method= \"BFGS\") #x0 contained our initialized value of x\n",
        "result.x\n",
        "print(\"The Final free variable: \", result.x)\n",
        "print(\"The final objective function value: \", result.fun)"
      ],
      "metadata": {
        "colab": {
          "base_uri": "https://localhost:8080/"
        },
        "id": "v4iBRixrlB47",
        "outputId": "07dd7984-8c45-4577-8698-91144c75232c"
      },
      "execution_count": 14,
      "outputs": [
        {
          "output_type": "stream",
          "name": "stdout",
          "text": [
            "The Final free variable:  [-3.52050525e-07  1.25578384e-06 -9.55870041e-08]\n",
            "The final objective function value:  1.7100695071571567e-12\n"
          ]
        }
      ]
    },
    {
      "cell_type": "markdown",
      "source": [
        "# Multiple Local Minima"
      ],
      "metadata": {
        "id": "7XNGvkg0lo3l"
      }
    },
    {
      "cell_type": "code",
      "source": [
        "def objectiveFunction(x):\n",
        "  return (x**4- 8*x**2+6*x+2)"
      ],
      "metadata": {
        "id": "hOr8Ubs3lsVb"
      },
      "execution_count": 16,
      "outputs": []
    }
  ]
}