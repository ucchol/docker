{
  "nbformat": 4,
  "nbformat_minor": 0,
  "metadata": {
    "colab": {
      "provenance": [],
      "authorship_tag": "ABX9TyP3ERKtjFNBH/iiHbydQIZz",
      "include_colab_link": true
    },
    "kernelspec": {
      "name": "python3",
      "display_name": "Python 3"
    },
    "language_info": {
      "name": "python"
    }
  },
  "cells": [
    {
      "cell_type": "markdown",
      "metadata": {
        "id": "view-in-github",
        "colab_type": "text"
      },
      "source": [
        "<a href=\"https://colab.research.google.com/github/ucchol/docker/blob/main/Data_Mining_Mathematical_Optimization.ipynb\" target=\"_parent\"><img src=\"https://colab.research.google.com/assets/colab-badge.svg\" alt=\"Open In Colab\"/></a>"
      ]
    },
    {
      "cell_type": "code",
      "execution_count": 19,
      "metadata": {
        "id": "ff_8yAkxinDG"
      },
      "outputs": [],
      "source": [
        "import numpy as np\n",
        "from scipy.optimize import minimize\n",
        "from scipy.optimize import minimize_scalar\n",
        "import matplotlib.pyplot as plt"
      ]
    },
    {
      "cell_type": "code",
      "source": [
        "#function of f(x)= x^2\n",
        "def objFunction(x):\n",
        "  return x**2"
      ],
      "metadata": {
        "id": "_zd02TEWi386"
      },
      "execution_count": 3,
      "outputs": []
    },
    {
      "cell_type": "markdown",
      "source": [
        "Now we need to calculate the return value."
      ],
      "metadata": {
        "id": "A7FqEN5vjOZ8"
      }
    },
    {
      "cell_type": "code",
      "source": [
        "x0= np.array([5.1]) #for initialization we need a vector\n",
        "result= minimize(objFunction, x0, method= \"BFGS\") #x0 contained our initialized value of x\n",
        "result.x\n",
        "print(\"The Final free variable: \", result.x)\n",
        "print(\"The final objective function value: \", result.fun)"
      ],
      "metadata": {
        "colab": {
          "base_uri": "https://localhost:8080/"
        },
        "id": "5YYiLQ_njRd8",
        "outputId": "ab86c735-0d20-4744-b704-5773ed5389e4"
      },
      "execution_count": 14,
      "outputs": [
        {
          "output_type": "stream",
          "name": "stdout",
          "text": [
            "The Final free variable:  [-1.10467302e-08]\n",
            "The final objective function value:  1.2203024805084726e-16\n"
          ]
        }
      ]
    },
    {
      "cell_type": "markdown",
      "source": [
        "# TWO Variable Function"
      ],
      "metadata": {
        "id": "O1i_4TH8ki7O"
      }
    },
    {
      "cell_type": "code",
      "source": [
        "def objFunction(x):\n",
        "  return np.sum(x**2)"
      ],
      "metadata": {
        "id": "jEI1ePLwkmFi"
      },
      "execution_count": 5,
      "outputs": []
    },
    {
      "cell_type": "code",
      "source": [
        "#x0= np.array([5.1, 1.2, 3]) #for initialization we need a vector\n",
        "\n",
        "x0= np.array([-0.9])\n",
        "mybounds=(-1, 3)\n",
        "#for a bounded function\n",
        "result= minimize_scalar(objFunction, x0, bounds= mybounds, method= \"bounded\")\n",
        "#result= minimize(objFunction, x0, method= \"BFGS\") #x0 contained our initialized value of x\n",
        "result.x\n",
        "print(\"The Final free variable: \", result.x)\n",
        "print(\"The final objective function value: \", result.fun)"
      ],
      "metadata": {
        "colab": {
          "base_uri": "https://localhost:8080/"
        },
        "id": "v4iBRixrlB47",
        "outputId": "f410d67d-e249-44f7-a1a8-4cebc872dde2"
      },
      "execution_count": 20,
      "outputs": [
        {
          "output_type": "stream",
          "name": "stdout",
          "text": [
            "The Final free variable:  -9.71445146547012e-17\n",
            "The final objective function value:  9.437056727497456e-33\n"
          ]
        }
      ]
    },
    {
      "cell_type": "markdown",
      "source": [
        "# Multiple Local Minima"
      ],
      "metadata": {
        "id": "7XNGvkg0lo3l"
      }
    },
    {
      "cell_type": "code",
      "source": [
        "def objectiveFunction(x):\n",
        "  return (x**4- 8*x**2+6*x+2)\n",
        "\n",
        "x_values= np.arange(-3, 3, 0.01)\n",
        "y_values= objectiveFunction(x_values)\n",
        "\n",
        "plt.plot(x_values, y_values)\n",
        "plt.xlabel(\"x\")\n",
        "plt.ylabel(\"f(x)\")\n",
        "plt.grid()"
      ],
      "metadata": {
        "id": "hOr8Ubs3lsVb",
        "outputId": "178c4629-13ac-462c-cca0-a1488d910bed",
        "colab": {
          "base_uri": "https://localhost:8080/",
          "height": 449
        }
      },
      "execution_count": 21,
      "outputs": [
        {
          "output_type": "display_data",
          "data": {
            "text/plain": [
              "<Figure size 640x480 with 1 Axes>"
            ],
            "image/png": "[encoded data removed]"
          },
          "metadata": {}
        }
      ]
    },
    {
      "cell_type": "markdown",
      "source": [
        "# Another two variable problem"
      ],
      "metadata": {
        "id": "oSGmJFYIyUg_"
      }
    },
    {
      "cell_type": "code",
      "source": [
        "#f(x0, x1)= (x0**2 - 4)**2+ (x1**2-1)**2  \n",
        "\n",
        "def objectiveFunction(x):\n",
        "  return (x[0]**2 - 4)**2+ (x[1]**2-1)**2\n",
        "\n",
        "x0= np.array([10, 10])\n",
        "mybounds=[(-10, 10), (-10, 10)]\n",
        "result= minimize(objectiveFunction, x0, bounds= mybounds)\n",
        "\n",
        "print(\"Optimization result: \")\n",
        "print(\"Min found at: \", result.x)\n",
        "print(\"what is the min: \", result.fun)"
      ],
      "metadata": {
        "id": "Bcc3kUi3yXkM",
        "outputId": "715e0d3d-edec-4c30-fcad-51ad0a743687",
        "colab": {
          "base_uri": "https://localhost:8080/"
        }
      },
      "execution_count": 24,
      "outputs": [
        {
          "output_type": "stream",
          "name": "stdout",
          "text": [
            "Optimization result: \n",
            "Min found at:  [2.00000002 1.00000016]\n",
            "what is the min:  1.1188434130335494e-13\n"
          ]
        }
      ]
    },
    {
      "cell_type": "markdown",
      "source": [
        "# Finding center"
      ],
      "metadata": {
        "id": "bZmM69400ZBu"
      }
    },
    {
      "cell_type": "code",
      "source": [
        "def objFunction(X, data):\n",
        "  dist=0;\n",
        "  for i in range(0, len(data)):\n",
        "    dist= dist+ np.linalg,norm(data[i]-X)\n",
        "  return dist\n",
        "\n",
        "datalist= [[2,3,4], [2,3,4], [2,3,4], [2,3,4], [2,3,4]]\n",
        "\n",
        "theData=np.array(datalist)\n",
        "initial= np.random.rand(1, theData.shape[1])[0]\n",
        "\n",
        "print(initial)"
      ],
      "metadata": {
        "id": "YFwzpsxY0bk5",
        "outputId": "87354c6b-b773-4100-f51d-1b0c39d6e95c",
        "colab": {
          "base_uri": "https://localhost:8080/"
        }
      },
      "execution_count": 27,
      "outputs": [
        {
          "output_type": "stream",
          "name": "stdout",
          "text": [
            "[0.2080429  0.16796241 0.94628385]\n"
          ]
        }
      ]
    }
  ]
}